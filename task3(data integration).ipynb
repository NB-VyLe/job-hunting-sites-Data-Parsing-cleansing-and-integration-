{
 "cells": [
  {
   "cell_type": "markdown",
   "metadata": {},
   "source": [
    "# Assignment 1: Data Parsing, Cleansing and Integration\n",
    "## Task 3\n",
    "#### Student Name: NGOC BAO VY LE\n",
    "#### Student ID: S3828276\n",
    "\n",
    "Date: 01 SEP 2021\n",
    "\n",
    "Version: 1.0\n",
    "\n",
    "Environment: Python 3 and Jupyter notebook\n",
    "\n"
   ]
  },
  {
   "cell_type": "markdown",
   "metadata": {},
   "source": [
    "##  Import libraries "
   ]
  },
  {
   "cell_type": "code",
   "execution_count": 1,
   "metadata": {},
   "outputs": [],
   "source": [
    "import pandas as pd\n",
    "import re\n",
    "import numpy as np\n",
    "import datetime\n"
   ]
  },
  {
   "cell_type": "markdown",
   "metadata": {},
   "source": [
    "### 1. Examining and loading data\n"
   ]
  },
  {
   "cell_type": "markdown",
   "metadata": {},
   "source": [
    "#### Data 1"
   ]
  },
  {
   "cell_type": "code",
   "execution_count": 2,
   "metadata": {},
   "outputs": [
    {
     "data": {
      "text/html": [
       "<div>\n",
       "<style scoped>\n",
       "    .dataframe tbody tr th:only-of-type {\n",
       "        vertical-align: middle;\n",
       "    }\n",
       "\n",
       "    .dataframe tbody tr th {\n",
       "        vertical-align: top;\n",
       "    }\n",
       "\n",
       "    .dataframe thead th {\n",
       "        text-align: right;\n",
       "    }\n",
       "</style>\n",
       "<table border=\"1\" class=\"dataframe\">\n",
       "  <thead>\n",
       "    <tr style=\"text-align: right;\">\n",
       "      <th></th>\n",
       "      <th>ID</th>\n",
       "      <th>Title</th>\n",
       "      <th>Location</th>\n",
       "      <th>Company</th>\n",
       "      <th>ContractType</th>\n",
       "      <th>ContractTime</th>\n",
       "      <th>Category</th>\n",
       "      <th>Salary</th>\n",
       "      <th>OpenDate</th>\n",
       "      <th>CloseDate</th>\n",
       "      <th>SourceName</th>\n",
       "    </tr>\n",
       "  </thead>\n",
       "  <tbody>\n",
       "    <tr>\n",
       "      <th>0</th>\n",
       "      <td>71851622</td>\n",
       "      <td>Accounts Payable Team Lead w/Oracle €****k</td>\n",
       "      <td>UK</td>\n",
       "      <td>Adecco Group</td>\n",
       "      <td>non_specificed</td>\n",
       "      <td>permanent</td>\n",
       "      <td>Accounting &amp; Finance Jobs</td>\n",
       "      <td>47500.0</td>\n",
       "      <td>2013-01-12 00:00:00</td>\n",
       "      <td>2013-03-13 00:00:00</td>\n",
       "      <td>totaljobs.com</td>\n",
       "    </tr>\n",
       "    <tr>\n",
       "      <th>1</th>\n",
       "      <td>69170699</td>\n",
       "      <td>Head of IT/ IT Manager</td>\n",
       "      <td>UK</td>\n",
       "      <td>Senitor Associates</td>\n",
       "      <td>non_specificed</td>\n",
       "      <td>permanent</td>\n",
       "      <td>IT Jobs</td>\n",
       "      <td>47500.0</td>\n",
       "      <td>2013-12-15 12:00:00</td>\n",
       "      <td>2014-03-15 12:00:00</td>\n",
       "      <td>totaljobs.com</td>\n",
       "    </tr>\n",
       "    <tr>\n",
       "      <th>2</th>\n",
       "      <td>68701057</td>\n",
       "      <td>Business Development Manager  Marketing/Digital</td>\n",
       "      <td>UK</td>\n",
       "      <td>Pure Recruitment</td>\n",
       "      <td>non_specificed</td>\n",
       "      <td>permanent</td>\n",
       "      <td>PR, Advertising &amp; Marketing Jobs</td>\n",
       "      <td>32500.0</td>\n",
       "      <td>2013-07-06 00:00:00</td>\n",
       "      <td>2013-09-04 00:00:00</td>\n",
       "      <td>totaljobs.com</td>\n",
       "    </tr>\n",
       "    <tr>\n",
       "      <th>3</th>\n",
       "      <td>65183561</td>\n",
       "      <td>Project/Design Engineer</td>\n",
       "      <td>Wales</td>\n",
       "      <td>Hunter Selection</td>\n",
       "      <td>non_specificed</td>\n",
       "      <td>permanent</td>\n",
       "      <td>Engineering Jobs</td>\n",
       "      <td>27500.0</td>\n",
       "      <td>2013-09-16 15:00:00</td>\n",
       "      <td>2013-10-16 15:00:00</td>\n",
       "      <td>totaljobs.com</td>\n",
       "    </tr>\n",
       "    <tr>\n",
       "      <th>4</th>\n",
       "      <td>68712637</td>\n",
       "      <td>Italian and/or Spanish Inside Sales Representa...</td>\n",
       "      <td>London</td>\n",
       "      <td>Euro London Appointments London</td>\n",
       "      <td>non_specificed</td>\n",
       "      <td>permanent</td>\n",
       "      <td>Sales Jobs</td>\n",
       "      <td>32500.0</td>\n",
       "      <td>2012-04-04 15:00:00</td>\n",
       "      <td>2012-07-03 15:00:00</td>\n",
       "      <td>totaljobs.com</td>\n",
       "    </tr>\n",
       "  </tbody>\n",
       "</table>\n",
       "</div>"
      ],
      "text/plain": [
       "         ID                                              Title Location  \\\n",
       "0  71851622         Accounts Payable Team Lead w/Oracle €****k       UK   \n",
       "1  69170699                             Head of IT/ IT Manager       UK   \n",
       "2  68701057    Business Development Manager  Marketing/Digital       UK   \n",
       "3  65183561                            Project/Design Engineer    Wales   \n",
       "4  68712637  Italian and/or Spanish Inside Sales Representa...   London   \n",
       "\n",
       "                           Company    ContractType ContractTime  \\\n",
       "0                     Adecco Group  non_specificed    permanent   \n",
       "1               Senitor Associates  non_specificed    permanent   \n",
       "2                 Pure Recruitment  non_specificed    permanent   \n",
       "3                 Hunter Selection  non_specificed    permanent   \n",
       "4  Euro London Appointments London  non_specificed    permanent   \n",
       "\n",
       "                           Category   Salary             OpenDate  \\\n",
       "0         Accounting & Finance Jobs  47500.0  2013-01-12 00:00:00   \n",
       "1                           IT Jobs  47500.0  2013-12-15 12:00:00   \n",
       "2  PR, Advertising & Marketing Jobs  32500.0  2013-07-06 00:00:00   \n",
       "3                  Engineering Jobs  27500.0  2013-09-16 15:00:00   \n",
       "4                        Sales Jobs  32500.0  2012-04-04 15:00:00   \n",
       "\n",
       "             CloseDate     SourceName  \n",
       "0  2013-03-13 00:00:00  totaljobs.com  \n",
       "1  2014-03-15 12:00:00  totaljobs.com  \n",
       "2  2013-09-04 00:00:00  totaljobs.com  \n",
       "3  2013-10-16 15:00:00  totaljobs.com  \n",
       "4  2012-07-03 15:00:00  totaljobs.com  "
      ]
     },
     "execution_count": 2,
     "metadata": {},
     "output_type": "execute_result"
    }
   ],
   "source": [
    "df1 = pd.read_csv('S3828276_dataset1_solution.csv')\n",
    "df1.head()"
   ]
  },
  {
   "cell_type": "code",
   "execution_count": 3,
   "metadata": {},
   "outputs": [
    {
     "data": {
      "text/plain": [
       "(50693, 11)"
      ]
     },
     "execution_count": 3,
     "metadata": {},
     "output_type": "execute_result"
    }
   ],
   "source": [
    "df1.shape"
   ]
  },
  {
   "cell_type": "code",
   "execution_count": 4,
   "metadata": {
    "scrolled": false
   },
   "outputs": [
    {
     "name": "stdout",
     "output_type": "stream",
     "text": [
      "<class 'pandas.core.frame.DataFrame'>\n",
      "RangeIndex: 50693 entries, 0 to 50692\n",
      "Data columns (total 11 columns):\n",
      " #   Column        Non-Null Count  Dtype  \n",
      "---  ------        --------------  -----  \n",
      " 0   ID            50693 non-null  int64  \n",
      " 1   Title         50693 non-null  object \n",
      " 2   Location      50693 non-null  object \n",
      " 3   Company       50693 non-null  object \n",
      " 4   ContractType  50693 non-null  object \n",
      " 5   ContractTime  50693 non-null  object \n",
      " 6   Category      50693 non-null  object \n",
      " 7   Salary        50693 non-null  float64\n",
      " 8   OpenDate      50693 non-null  object \n",
      " 9   CloseDate     50693 non-null  object \n",
      " 10  SourceName    50693 non-null  object \n",
      "dtypes: float64(1), int64(1), object(9)\n",
      "memory usage: 4.3+ MB\n"
     ]
    }
   ],
   "source": [
    "df1.info()"
   ]
  },
  {
   "cell_type": "markdown",
   "metadata": {},
   "source": [
    "#### Data 2"
   ]
  },
  {
   "cell_type": "code",
   "execution_count": 5,
   "metadata": {},
   "outputs": [
    {
     "data": {
      "text/html": [
       "<div>\n",
       "<style scoped>\n",
       "    .dataframe tbody tr th:only-of-type {\n",
       "        vertical-align: middle;\n",
       "    }\n",
       "\n",
       "    .dataframe tbody tr th {\n",
       "        vertical-align: top;\n",
       "    }\n",
       "\n",
       "    .dataframe thead th {\n",
       "        text-align: right;\n",
       "    }\n",
       "</style>\n",
       "<table border=\"1\" class=\"dataframe\">\n",
       "  <thead>\n",
       "    <tr style=\"text-align: right;\">\n",
       "      <th></th>\n",
       "      <th>Job Title</th>\n",
       "      <th>Organisation</th>\n",
       "      <th>Monthly Payment</th>\n",
       "      <th>Contract Type</th>\n",
       "      <th>Category</th>\n",
       "      <th>Closing</th>\n",
       "      <th>Location</th>\n",
       "      <th>Full-Time Equivalent (FTE)</th>\n",
       "      <th>Opening</th>\n",
       "    </tr>\n",
       "  </thead>\n",
       "  <tbody>\n",
       "    <tr>\n",
       "      <th>0</th>\n",
       "      <td>Nursing Home Manager  Thames Ditton</td>\n",
       "      <td>Liquid Personnel Ltd</td>\n",
       "      <td>2750.00</td>\n",
       "      <td>NaN</td>\n",
       "      <td>Healthcare and Nursing</td>\n",
       "      <td>2013-02-22 15:00:00</td>\n",
       "      <td>Thames Ditton</td>\n",
       "      <td>FULL TIME</td>\n",
       "      <td>2012-12-24 15:00:00</td>\n",
       "    </tr>\n",
       "    <tr>\n",
       "      <th>1</th>\n",
       "      <td>Deputy Manager  Nursing Home  RGN  Shrewsbury</td>\n",
       "      <td>Liquid Personnel Ltd</td>\n",
       "      <td>2583.33</td>\n",
       "      <td>NaN</td>\n",
       "      <td>Healthcare and Nursing</td>\n",
       "      <td>2012-11-14 15:00:00</td>\n",
       "      <td>Shrewsbury</td>\n",
       "      <td>FULL TIME</td>\n",
       "      <td>2012-10-15 15:00:00</td>\n",
       "    </tr>\n",
       "    <tr>\n",
       "      <th>2</th>\n",
       "      <td>Deputy Manager  Nursing Home (RGN)  London</td>\n",
       "      <td>Liquid Personnel Ltd</td>\n",
       "      <td>3000.00</td>\n",
       "      <td>NaN</td>\n",
       "      <td>Healthcare and Nursing</td>\n",
       "      <td>2012-12-08 00:00:00</td>\n",
       "      <td>London</td>\n",
       "      <td>FULL TIME</td>\n",
       "      <td>2012-11-08 00:00:00</td>\n",
       "    </tr>\n",
       "    <tr>\n",
       "      <th>3</th>\n",
       "      <td>Deputy Manager (RGN)  Nursing Home  Bristol</td>\n",
       "      <td>Liquid Personnel Ltd</td>\n",
       "      <td>2791.67</td>\n",
       "      <td>NaN</td>\n",
       "      <td>Healthcare and Nursing</td>\n",
       "      <td>2013-01-13 15:00:00</td>\n",
       "      <td>Bristol</td>\n",
       "      <td>FULL TIME</td>\n",
       "      <td>2012-11-14 15:00:00</td>\n",
       "    </tr>\n",
       "    <tr>\n",
       "      <th>4</th>\n",
       "      <td>RGN or RMN  Wigan</td>\n",
       "      <td>Eden Brown</td>\n",
       "      <td>2240.00</td>\n",
       "      <td>NaN</td>\n",
       "      <td>Healthcare and Nursing</td>\n",
       "      <td>2013-01-24 15:00:00</td>\n",
       "      <td>Wigan</td>\n",
       "      <td>FULL TIME</td>\n",
       "      <td>2012-11-25 15:00:00</td>\n",
       "    </tr>\n",
       "  </tbody>\n",
       "</table>\n",
       "</div>"
      ],
      "text/plain": [
       "                                       Job Title          Organisation  \\\n",
       "0            Nursing Home Manager  Thames Ditton  Liquid Personnel Ltd   \n",
       "1  Deputy Manager  Nursing Home  RGN  Shrewsbury  Liquid Personnel Ltd   \n",
       "2     Deputy Manager  Nursing Home (RGN)  London  Liquid Personnel Ltd   \n",
       "3    Deputy Manager (RGN)  Nursing Home  Bristol  Liquid Personnel Ltd   \n",
       "4                              RGN or RMN  Wigan            Eden Brown   \n",
       "\n",
       "   Monthly Payment Contract Type                Category              Closing  \\\n",
       "0          2750.00           NaN  Healthcare and Nursing  2013-02-22 15:00:00   \n",
       "1          2583.33           NaN  Healthcare and Nursing  2012-11-14 15:00:00   \n",
       "2          3000.00           NaN  Healthcare and Nursing  2012-12-08 00:00:00   \n",
       "3          2791.67           NaN  Healthcare and Nursing  2013-01-13 15:00:00   \n",
       "4          2240.00           NaN  Healthcare and Nursing  2013-01-24 15:00:00   \n",
       "\n",
       "        Location Full-Time Equivalent (FTE)              Opening  \n",
       "0  Thames Ditton                  FULL TIME  2012-12-24 15:00:00  \n",
       "1     Shrewsbury                  FULL TIME  2012-10-15 15:00:00  \n",
       "2         London                  FULL TIME  2012-11-08 00:00:00  \n",
       "3        Bristol                  FULL TIME  2012-11-14 15:00:00  \n",
       "4          Wigan                  FULL TIME  2012-11-25 15:00:00  "
      ]
     },
     "execution_count": 5,
     "metadata": {},
     "output_type": "execute_result"
    }
   ],
   "source": [
    "# data set 2\n",
    "df2 = pd.read_csv('S3828276_dataset2.csv')\n",
    "df2.head()"
   ]
  },
  {
   "cell_type": "code",
   "execution_count": 6,
   "metadata": {},
   "outputs": [
    {
     "name": "stdout",
     "output_type": "stream",
     "text": [
      "<class 'pandas.core.frame.DataFrame'>\n",
      "RangeIndex: 5000 entries, 0 to 4999\n",
      "Data columns (total 9 columns):\n",
      " #   Column                      Non-Null Count  Dtype  \n",
      "---  ------                      --------------  -----  \n",
      " 0   Job Title                   5000 non-null   object \n",
      " 1   Organisation                4937 non-null   object \n",
      " 2   Monthly Payment             5000 non-null   float64\n",
      " 3   Contract Type               4312 non-null   object \n",
      " 4   Category                    5000 non-null   object \n",
      " 5   Closing                     5000 non-null   object \n",
      " 6   Location                    5000 non-null   object \n",
      " 7   Full-Time Equivalent (FTE)  643 non-null    object \n",
      " 8   Opening                     5000 non-null   object \n",
      "dtypes: float64(1), object(8)\n",
      "memory usage: 351.7+ KB\n"
     ]
    }
   ],
   "source": [
    "df2.info()"
   ]
  },
  {
   "cell_type": "markdown",
   "metadata": {},
   "source": [
    "### 2. Resolving schema conflicts"
   ]
  },
  {
   "cell_type": "markdown",
   "metadata": {},
   "source": [
    "#### Conflict 1: Column numbers\n",
    "Data 2 has 9 columns where data 1 has 11 columns<br>\n",
    "Data 2 will be added ID and SouceName columns"
   ]
  },
  {
   "cell_type": "code",
   "execution_count": 7,
   "metadata": {},
   "outputs": [],
   "source": [
    "# Create 2 new columns in data 2\n",
    "df2['SourceName'] = 'jobhuntlisting.com'\n",
    "\n",
    "# create an array with the length of data 2 entries and values is integers staring from 72705203 to 72710203\n",
    "iD = np.array(range(1,df2.shape[0]+1)) +df1.ID.max()\n",
    "\n",
    "df2['ID'] = iD"
   ]
  },
  {
   "cell_type": "markdown",
   "metadata": {},
   "source": [
    "#### Conflict 3: column names\n",
    "The column names of data 2 are different to data set 1 eventhough there are representing the same informations.<br>\n",
    "All the column names are in data set 2 will be changed according to column names in data set 1"
   ]
  },
  {
   "cell_type": "code",
   "execution_count": 8,
   "metadata": {},
   "outputs": [],
   "source": [
    "# change the colum names to the same as df1\n",
    "df2.rename(columns={'Job Title':'Title','Organisation':'Company','Monthly Payment':'Salary',\n",
    "                    'Contract Type':'ContractType', 'Closing':'CloseDate', 'Full-Time Equivalent (FTE)':'ContractTime',\n",
    "                   'Opening':'OpenDate'}, inplace=True)\n",
    "# re-arrange the order of columns in data 2\n",
    "df2 = df2[['ID','Title', 'Location','Company',  'ContractType', 'ContractTime', 'Category','Salary','OpenDate','CloseDate', 'SourceName' ]]"
   ]
  },
  {
   "cell_type": "code",
   "execution_count": 9,
   "metadata": {},
   "outputs": [
    {
     "data": {
      "text/html": [
       "<div>\n",
       "<style scoped>\n",
       "    .dataframe tbody tr th:only-of-type {\n",
       "        vertical-align: middle;\n",
       "    }\n",
       "\n",
       "    .dataframe tbody tr th {\n",
       "        vertical-align: top;\n",
       "    }\n",
       "\n",
       "    .dataframe thead th {\n",
       "        text-align: right;\n",
       "    }\n",
       "</style>\n",
       "<table border=\"1\" class=\"dataframe\">\n",
       "  <thead>\n",
       "    <tr style=\"text-align: right;\">\n",
       "      <th></th>\n",
       "      <th>ID</th>\n",
       "      <th>Title</th>\n",
       "      <th>Location</th>\n",
       "      <th>Company</th>\n",
       "      <th>ContractType</th>\n",
       "      <th>ContractTime</th>\n",
       "      <th>Category</th>\n",
       "      <th>Salary</th>\n",
       "      <th>OpenDate</th>\n",
       "      <th>CloseDate</th>\n",
       "      <th>SourceName</th>\n",
       "    </tr>\n",
       "  </thead>\n",
       "  <tbody>\n",
       "    <tr>\n",
       "      <th>0</th>\n",
       "      <td>72705204</td>\n",
       "      <td>Nursing Home Manager  Thames Ditton</td>\n",
       "      <td>Thames Ditton</td>\n",
       "      <td>Liquid Personnel Ltd</td>\n",
       "      <td>NaN</td>\n",
       "      <td>FULL TIME</td>\n",
       "      <td>Healthcare and Nursing</td>\n",
       "      <td>2750.00</td>\n",
       "      <td>2012-12-24 15:00:00</td>\n",
       "      <td>2013-02-22 15:00:00</td>\n",
       "      <td>jobhuntlisting.com</td>\n",
       "    </tr>\n",
       "    <tr>\n",
       "      <th>1</th>\n",
       "      <td>72705205</td>\n",
       "      <td>Deputy Manager  Nursing Home  RGN  Shrewsbury</td>\n",
       "      <td>Shrewsbury</td>\n",
       "      <td>Liquid Personnel Ltd</td>\n",
       "      <td>NaN</td>\n",
       "      <td>FULL TIME</td>\n",
       "      <td>Healthcare and Nursing</td>\n",
       "      <td>2583.33</td>\n",
       "      <td>2012-10-15 15:00:00</td>\n",
       "      <td>2012-11-14 15:00:00</td>\n",
       "      <td>jobhuntlisting.com</td>\n",
       "    </tr>\n",
       "    <tr>\n",
       "      <th>2</th>\n",
       "      <td>72705206</td>\n",
       "      <td>Deputy Manager  Nursing Home (RGN)  London</td>\n",
       "      <td>London</td>\n",
       "      <td>Liquid Personnel Ltd</td>\n",
       "      <td>NaN</td>\n",
       "      <td>FULL TIME</td>\n",
       "      <td>Healthcare and Nursing</td>\n",
       "      <td>3000.00</td>\n",
       "      <td>2012-11-08 00:00:00</td>\n",
       "      <td>2012-12-08 00:00:00</td>\n",
       "      <td>jobhuntlisting.com</td>\n",
       "    </tr>\n",
       "    <tr>\n",
       "      <th>3</th>\n",
       "      <td>72705207</td>\n",
       "      <td>Deputy Manager (RGN)  Nursing Home  Bristol</td>\n",
       "      <td>Bristol</td>\n",
       "      <td>Liquid Personnel Ltd</td>\n",
       "      <td>NaN</td>\n",
       "      <td>FULL TIME</td>\n",
       "      <td>Healthcare and Nursing</td>\n",
       "      <td>2791.67</td>\n",
       "      <td>2012-11-14 15:00:00</td>\n",
       "      <td>2013-01-13 15:00:00</td>\n",
       "      <td>jobhuntlisting.com</td>\n",
       "    </tr>\n",
       "    <tr>\n",
       "      <th>4</th>\n",
       "      <td>72705208</td>\n",
       "      <td>RGN or RMN  Wigan</td>\n",
       "      <td>Wigan</td>\n",
       "      <td>Eden Brown</td>\n",
       "      <td>NaN</td>\n",
       "      <td>FULL TIME</td>\n",
       "      <td>Healthcare and Nursing</td>\n",
       "      <td>2240.00</td>\n",
       "      <td>2012-11-25 15:00:00</td>\n",
       "      <td>2013-01-24 15:00:00</td>\n",
       "      <td>jobhuntlisting.com</td>\n",
       "    </tr>\n",
       "    <tr>\n",
       "      <th>...</th>\n",
       "      <td>...</td>\n",
       "      <td>...</td>\n",
       "      <td>...</td>\n",
       "      <td>...</td>\n",
       "      <td>...</td>\n",
       "      <td>...</td>\n",
       "      <td>...</td>\n",
       "      <td>...</td>\n",
       "      <td>...</td>\n",
       "      <td>...</td>\n",
       "      <td>...</td>\n",
       "    </tr>\n",
       "    <tr>\n",
       "      <th>4995</th>\n",
       "      <td>72710199</td>\n",
       "      <td>Pharmaceutical  Analytical Chemist Jobs in Nor...</td>\n",
       "      <td>Northern Ireland</td>\n",
       "      <td>Flame Pharma</td>\n",
       "      <td>Permanent</td>\n",
       "      <td>NaN</td>\n",
       "      <td>Healthcare and Nursing</td>\n",
       "      <td>1916.67</td>\n",
       "      <td>2013-09-24 15:00:00</td>\n",
       "      <td>2013-10-24 15:00:00</td>\n",
       "      <td>jobhuntlisting.com</td>\n",
       "    </tr>\n",
       "    <tr>\n",
       "      <th>4996</th>\n",
       "      <td>72710200</td>\n",
       "      <td>Medical Sales Representative  South East Essex</td>\n",
       "      <td>UK</td>\n",
       "      <td>The Vacancy Management Company</td>\n",
       "      <td>Fixed Term Contract</td>\n",
       "      <td>NaN</td>\n",
       "      <td>Healthcare and Nursing</td>\n",
       "      <td>1875.00</td>\n",
       "      <td>2012-05-21 12:00:00</td>\n",
       "      <td>2012-06-20 12:00:00</td>\n",
       "      <td>jobhuntlisting.com</td>\n",
       "    </tr>\n",
       "    <tr>\n",
       "      <th>4997</th>\n",
       "      <td>72710201</td>\n",
       "      <td>SENIOR PROJECT MANAGER  EVENT &amp; EXHIBITION AGENCY</td>\n",
       "      <td>Hertfordshire</td>\n",
       "      <td>Live Recruitment</td>\n",
       "      <td>Permanent</td>\n",
       "      <td>FULL TIME</td>\n",
       "      <td>PR, Advertising and Marketing</td>\n",
       "      <td>2708.33</td>\n",
       "      <td>2013-11-17 15:00:00</td>\n",
       "      <td>2013-12-17 15:00:00</td>\n",
       "      <td>jobhuntlisting.com</td>\n",
       "    </tr>\n",
       "    <tr>\n",
       "      <th>4998</th>\n",
       "      <td>72710202</td>\n",
       "      <td>Curriculum Leader  Mathematics</td>\n",
       "      <td>Wrexham</td>\n",
       "      <td>NaN</td>\n",
       "      <td>Permanent</td>\n",
       "      <td>NaN</td>\n",
       "      <td>Teaching</td>\n",
       "      <td>417.17</td>\n",
       "      <td>2012-01-15 12:00:00</td>\n",
       "      <td>2012-03-15 12:00:00</td>\n",
       "      <td>jobhuntlisting.com</td>\n",
       "    </tr>\n",
       "    <tr>\n",
       "      <th>4999</th>\n",
       "      <td>72710203</td>\n",
       "      <td>TEACHER OF BUSINESS STUDIES AND LAW</td>\n",
       "      <td>Salisbury</td>\n",
       "      <td>NaN</td>\n",
       "      <td>Fixed Term Contract</td>\n",
       "      <td>NaN</td>\n",
       "      <td>Teaching</td>\n",
       "      <td>1900.00</td>\n",
       "      <td>2013-04-27 15:00:00</td>\n",
       "      <td>2013-05-11 15:00:00</td>\n",
       "      <td>jobhuntlisting.com</td>\n",
       "    </tr>\n",
       "  </tbody>\n",
       "</table>\n",
       "<p>5000 rows × 11 columns</p>\n",
       "</div>"
      ],
      "text/plain": [
       "            ID                                              Title  \\\n",
       "0     72705204                Nursing Home Manager  Thames Ditton   \n",
       "1     72705205      Deputy Manager  Nursing Home  RGN  Shrewsbury   \n",
       "2     72705206         Deputy Manager  Nursing Home (RGN)  London   \n",
       "3     72705207        Deputy Manager (RGN)  Nursing Home  Bristol   \n",
       "4     72705208                                  RGN or RMN  Wigan   \n",
       "...        ...                                                ...   \n",
       "4995  72710199  Pharmaceutical  Analytical Chemist Jobs in Nor...   \n",
       "4996  72710200     Medical Sales Representative  South East Essex   \n",
       "4997  72710201  SENIOR PROJECT MANAGER  EVENT & EXHIBITION AGENCY   \n",
       "4998  72710202                     Curriculum Leader  Mathematics   \n",
       "4999  72710203                TEACHER OF BUSINESS STUDIES AND LAW   \n",
       "\n",
       "              Location                         Company         ContractType  \\\n",
       "0        Thames Ditton            Liquid Personnel Ltd                  NaN   \n",
       "1           Shrewsbury            Liquid Personnel Ltd                  NaN   \n",
       "2               London            Liquid Personnel Ltd                  NaN   \n",
       "3              Bristol            Liquid Personnel Ltd                  NaN   \n",
       "4                Wigan                      Eden Brown                  NaN   \n",
       "...                ...                             ...                  ...   \n",
       "4995  Northern Ireland                    Flame Pharma            Permanent   \n",
       "4996                UK  The Vacancy Management Company  Fixed Term Contract   \n",
       "4997     Hertfordshire                Live Recruitment            Permanent   \n",
       "4998           Wrexham                             NaN            Permanent   \n",
       "4999         Salisbury                             NaN  Fixed Term Contract   \n",
       "\n",
       "     ContractTime                       Category   Salary  \\\n",
       "0       FULL TIME         Healthcare and Nursing  2750.00   \n",
       "1       FULL TIME         Healthcare and Nursing  2583.33   \n",
       "2       FULL TIME         Healthcare and Nursing  3000.00   \n",
       "3       FULL TIME         Healthcare and Nursing  2791.67   \n",
       "4       FULL TIME         Healthcare and Nursing  2240.00   \n",
       "...           ...                            ...      ...   \n",
       "4995          NaN         Healthcare and Nursing  1916.67   \n",
       "4996          NaN         Healthcare and Nursing  1875.00   \n",
       "4997    FULL TIME  PR, Advertising and Marketing  2708.33   \n",
       "4998          NaN                       Teaching   417.17   \n",
       "4999          NaN                       Teaching  1900.00   \n",
       "\n",
       "                 OpenDate            CloseDate          SourceName  \n",
       "0     2012-12-24 15:00:00  2013-02-22 15:00:00  jobhuntlisting.com  \n",
       "1     2012-10-15 15:00:00  2012-11-14 15:00:00  jobhuntlisting.com  \n",
       "2     2012-11-08 00:00:00  2012-12-08 00:00:00  jobhuntlisting.com  \n",
       "3     2012-11-14 15:00:00  2013-01-13 15:00:00  jobhuntlisting.com  \n",
       "4     2012-11-25 15:00:00  2013-01-24 15:00:00  jobhuntlisting.com  \n",
       "...                   ...                  ...                 ...  \n",
       "4995  2013-09-24 15:00:00  2013-10-24 15:00:00  jobhuntlisting.com  \n",
       "4996  2012-05-21 12:00:00  2012-06-20 12:00:00  jobhuntlisting.com  \n",
       "4997  2013-11-17 15:00:00  2013-12-17 15:00:00  jobhuntlisting.com  \n",
       "4998  2012-01-15 12:00:00  2012-03-15 12:00:00  jobhuntlisting.com  \n",
       "4999  2013-04-27 15:00:00  2013-05-11 15:00:00  jobhuntlisting.com  \n",
       "\n",
       "[5000 rows x 11 columns]"
      ]
     },
     "execution_count": 9,
     "metadata": {},
     "output_type": "execute_result"
    }
   ],
   "source": [
    "df2"
   ]
  },
  {
   "cell_type": "markdown",
   "metadata": {},
   "source": [
    "#### Conflict 3: Company\n",
    "Data 2 has missing values as np.Nan where data 1 has missing values as non-specified"
   ]
  },
  {
   "cell_type": "code",
   "execution_count": 10,
   "metadata": {},
   "outputs": [
    {
     "data": {
      "text/plain": [
       "63"
      ]
     },
     "execution_count": 10,
     "metadata": {},
     "output_type": "execute_result"
    }
   ],
   "source": [
    "# check missing values in data 2\n",
    "df2.Company.isna().sum()"
   ]
  },
  {
   "cell_type": "code",
   "execution_count": 11,
   "metadata": {},
   "outputs": [],
   "source": [
    "# Change missing values to non_specificed\n",
    "df2.loc[df2.Company.isna(), 'Company'] = 'non_specificed'"
   ]
  },
  {
   "cell_type": "markdown",
   "metadata": {},
   "source": [
    "#### Conflict 4: values of ContractType of data 2 are not same as values of ContractType in data 1\n",
    "data 2 has Permanent, Fixed Term Contract and missing values where data 1 has permanent, contract and non-specified <br>\n"
   ]
  },
  {
   "cell_type": "code",
   "execution_count": 12,
   "metadata": {},
   "outputs": [
    {
     "data": {
      "text/plain": [
       "Permanent              3720\n",
       "Fixed Term Contract     592\n",
       "Name: ContractType, dtype: int64"
      ]
     },
     "execution_count": 12,
     "metadata": {},
     "output_type": "execute_result"
    }
   ],
   "source": [
    "df2.ContractType.value_counts()"
   ]
  },
  {
   "cell_type": "code",
   "execution_count": 13,
   "metadata": {
    "scrolled": true
   },
   "outputs": [
    {
     "data": {
      "text/plain": [
       "688"
      ]
     },
     "execution_count": 13,
     "metadata": {},
     "output_type": "execute_result"
    }
   ],
   "source": [
    "# check for missing values in data 2\n",
    "df2.ContractType.isna().sum()"
   ]
  },
  {
   "cell_type": "code",
   "execution_count": 14,
   "metadata": {},
   "outputs": [],
   "source": [
    "# change the values in data 2 according to data 1\n",
    "df2.loc[df2.ContractType == 'Permanent', 'ContractType']= 'permanent'\n",
    "df2.loc[df2.ContractType == 'Fixed Term Contract', 'ContractType']= 'contract'\n",
    "df2.loc[df2.ContractType.isna(), 'ContractType']= 'non-specified'"
   ]
  },
  {
   "cell_type": "markdown",
   "metadata": {},
   "source": [
    "#### Conflict 5: ContractTime\n",
    "Data 2 has FULL TIME, (0.2 to 0.8) FTE and missing values where Data 1 has full_time, part_time and non-specified<br>\n",
    "values type data 2 will be changed according to data 1"
   ]
  },
  {
   "cell_type": "code",
   "execution_count": 15,
   "metadata": {},
   "outputs": [
    {
     "data": {
      "text/plain": [
       "4357"
      ]
     },
     "execution_count": 15,
     "metadata": {},
     "output_type": "execute_result"
    }
   ],
   "source": [
    "df2['ContractTime'].isna().sum()"
   ]
  },
  {
   "cell_type": "code",
   "execution_count": 16,
   "metadata": {
    "scrolled": false
   },
   "outputs": [
    {
     "data": {
      "text/plain": [
       "FULL TIME    583\n",
       "0.2 FTE       16\n",
       "0.6 FTE       15\n",
       "0.4 FTE       15\n",
       "0.8 FTE       14\n",
       "Name: ContractTime, dtype: int64"
      ]
     },
     "execution_count": 16,
     "metadata": {},
     "output_type": "execute_result"
    }
   ],
   "source": [
    "df2['ContractTime'].value_counts()"
   ]
  },
  {
   "cell_type": "code",
   "execution_count": 17,
   "metadata": {},
   "outputs": [],
   "source": [
    "# change missing value to 'non-specified'\n",
    "missing_value = df2[df2.ContractTime.isna()].index\n",
    "df2.loc[missing_value, 'ContractTime']= 'non-specified'"
   ]
  },
  {
   "cell_type": "code",
   "execution_count": 18,
   "metadata": {},
   "outputs": [],
   "source": [
    "# change FULL TIME to full_time\n",
    "df2.loc[df2.ContractTime == 'FULL TIME', 'ContractTime']= 'full_time'"
   ]
  },
  {
   "cell_type": "code",
   "execution_count": 19,
   "metadata": {},
   "outputs": [],
   "source": [
    "# change other value to part time\n",
    "\n",
    "# filter full_time and non-specified\n",
    "parttime = df2.ContractTime == 'full_time'\n",
    "non_specified = df2.ContractTime == 'non-specified'\n",
    "\n",
    "# if not full time or non-specified, they are part time\n",
    "df2.loc[(~parttime) & (~non_specified), 'ContractTime']= 'part_time'"
   ]
  },
  {
   "cell_type": "markdown",
   "metadata": {},
   "source": [
    "#### Conflict 6: Category\n",
    "data 2 has Information Technology, Engineering,Healthcare and Nursing , Finance and Accounting, Sales, Hospitality and Catering, Teaching and PR, Advertising and Marketing <br>\n",
    "where data 1 has these categorical types worded differently"
   ]
  },
  {
   "cell_type": "code",
   "execution_count": 20,
   "metadata": {},
   "outputs": [
    {
     "name": "stdout",
     "output_type": "stream",
     "text": [
      "Data 1\n"
     ]
    },
    {
     "data": {
      "text/plain": [
       "IT Jobs                             13131\n",
       "Healthcare & Nursing Jobs            8184\n",
       "Engineering Jobs                     7199\n",
       "Accounting & Finance Jobs            6800\n",
       "Sales Jobs                           4741\n",
       "Hospitality & Catering Jobs          4528\n",
       "Teaching Jobs                        3558\n",
       "PR, Advertising & Marketing Jobs     2552\n",
       "Name: Category, dtype: int64"
      ]
     },
     "execution_count": 20,
     "metadata": {},
     "output_type": "execute_result"
    }
   ],
   "source": [
    "print('Data 1')\n",
    "df1.Category.value_counts()"
   ]
  },
  {
   "cell_type": "code",
   "execution_count": 21,
   "metadata": {},
   "outputs": [
    {
     "data": {
      "text/plain": [
       "0"
      ]
     },
     "execution_count": 21,
     "metadata": {},
     "output_type": "execute_result"
    }
   ],
   "source": [
    "df2.Category.isna().sum()"
   ]
  },
  {
   "cell_type": "code",
   "execution_count": 22,
   "metadata": {
    "scrolled": false
   },
   "outputs": [
    {
     "data": {
      "text/plain": [
       "Information Technology           1286\n",
       "Engineering                      1066\n",
       "Healthcare and Nursing            655\n",
       "Finance and Accounting            637\n",
       "Sales                             630\n",
       "Hospitality and Catering          275\n",
       "Teaching                          234\n",
       "PR, Advertising and Marketing     217\n",
       "Name: Category, dtype: int64"
      ]
     },
     "execution_count": 22,
     "metadata": {},
     "output_type": "execute_result"
    }
   ],
   "source": [
    "df2.Category.value_counts()"
   ]
  },
  {
   "cell_type": "code",
   "execution_count": 23,
   "metadata": {},
   "outputs": [],
   "source": [
    "# change these values in data 2 according to data 1\n",
    "\n",
    "df2.loc[df2.Category == 'Information Technology', 'Category' ] = 'IT Jobs'\n",
    "\n",
    "df2.loc[df2.Category == 'Engineering', 'Category' ] = 'Engineering Jobs'\n",
    "\n",
    "df2.loc[df2.Category == 'Healthcare and Nursing', 'Category' ] = 'Healthcare & Nursing Jobs'\n",
    "\n",
    "df2.loc[df2.Category == 'Finance and Accounting', 'Category' ] = 'Accounting & Finance Jobs'\n",
    "\n",
    "df2.loc[df2.Category == 'Sales', 'Category' ] = 'Sales Jobs'\n",
    "\n",
    "df2.loc[df2.Category == 'Hospitality and Catering', 'Category' ] = 'Hospitality & Catering Jobs'\n",
    "\n",
    "df2.loc[df2.Category == 'Teaching', 'Category' ] = 'Teaching Jobs'\n",
    "\n",
    "df2.loc[df2.Category == 'PR, Advertising and Marketing', 'Category' ] = 'PR, Advertising & Marketing Jobs'\n"
   ]
  },
  {
   "cell_type": "markdown",
   "metadata": {},
   "source": [
    "#### Conflict 7: Salary\n",
    "Data 2 has salary columns as object where data 1 has salary as integer<br>\n",
    "covert salary in data 2 into integer"
   ]
  },
  {
   "cell_type": "code",
   "execution_count": 24,
   "metadata": {},
   "outputs": [],
   "source": [
    "#df2.Salary = df2['Salary'].astype('float')"
   ]
  },
  {
   "cell_type": "code",
   "execution_count": 25,
   "metadata": {
    "scrolled": false
   },
   "outputs": [
    {
     "data": {
      "text/plain": [
       "0       2750.00\n",
       "1       2583.33\n",
       "2       3000.00\n",
       "3       2791.67\n",
       "4       2240.00\n",
       "         ...   \n",
       "4995    1916.67\n",
       "4996    1875.00\n",
       "4997    2708.33\n",
       "4998     417.17\n",
       "4999    1900.00\n",
       "Name: Salary, Length: 5000, dtype: float64"
      ]
     },
     "execution_count": 25,
     "metadata": {},
     "output_type": "execute_result"
    }
   ],
   "source": [
    "df2.Salary"
   ]
  },
  {
   "cell_type": "markdown",
   "metadata": {},
   "source": [
    "### 3. Merging data"
   ]
  },
  {
   "cell_type": "code",
   "execution_count": 26,
   "metadata": {},
   "outputs": [],
   "source": [
    "# merge 2 data \n",
    "df = pd.concat([df1, df2], ignore_index=True)"
   ]
  },
  {
   "cell_type": "code",
   "execution_count": 27,
   "metadata": {
    "scrolled": true
   },
   "outputs": [
    {
     "data": {
      "text/plain": [
       "(55693, 11)"
      ]
     },
     "execution_count": 27,
     "metadata": {},
     "output_type": "execute_result"
    }
   ],
   "source": [
    "df.shape"
   ]
  },
  {
   "cell_type": "code",
   "execution_count": 28,
   "metadata": {
    "scrolled": true
   },
   "outputs": [
    {
     "data": {
      "text/html": [
       "<div>\n",
       "<style scoped>\n",
       "    .dataframe tbody tr th:only-of-type {\n",
       "        vertical-align: middle;\n",
       "    }\n",
       "\n",
       "    .dataframe tbody tr th {\n",
       "        vertical-align: top;\n",
       "    }\n",
       "\n",
       "    .dataframe thead th {\n",
       "        text-align: right;\n",
       "    }\n",
       "</style>\n",
       "<table border=\"1\" class=\"dataframe\">\n",
       "  <thead>\n",
       "    <tr style=\"text-align: right;\">\n",
       "      <th></th>\n",
       "      <th>ID</th>\n",
       "      <th>Title</th>\n",
       "      <th>Location</th>\n",
       "      <th>Company</th>\n",
       "      <th>ContractType</th>\n",
       "      <th>ContractTime</th>\n",
       "      <th>Category</th>\n",
       "      <th>Salary</th>\n",
       "      <th>OpenDate</th>\n",
       "      <th>CloseDate</th>\n",
       "      <th>SourceName</th>\n",
       "    </tr>\n",
       "  </thead>\n",
       "  <tbody>\n",
       "    <tr>\n",
       "      <th>55688</th>\n",
       "      <td>72710199</td>\n",
       "      <td>Pharmaceutical  Analytical Chemist Jobs in Nor...</td>\n",
       "      <td>Northern Ireland</td>\n",
       "      <td>Flame Pharma</td>\n",
       "      <td>permanent</td>\n",
       "      <td>non-specified</td>\n",
       "      <td>Healthcare &amp; Nursing Jobs</td>\n",
       "      <td>1916.67</td>\n",
       "      <td>2013-09-24 15:00:00</td>\n",
       "      <td>2013-10-24 15:00:00</td>\n",
       "      <td>jobhuntlisting.com</td>\n",
       "    </tr>\n",
       "    <tr>\n",
       "      <th>55689</th>\n",
       "      <td>72710200</td>\n",
       "      <td>Medical Sales Representative  South East Essex</td>\n",
       "      <td>UK</td>\n",
       "      <td>The Vacancy Management Company</td>\n",
       "      <td>contract</td>\n",
       "      <td>non-specified</td>\n",
       "      <td>Healthcare &amp; Nursing Jobs</td>\n",
       "      <td>1875.00</td>\n",
       "      <td>2012-05-21 12:00:00</td>\n",
       "      <td>2012-06-20 12:00:00</td>\n",
       "      <td>jobhuntlisting.com</td>\n",
       "    </tr>\n",
       "    <tr>\n",
       "      <th>55690</th>\n",
       "      <td>72710201</td>\n",
       "      <td>SENIOR PROJECT MANAGER  EVENT &amp; EXHIBITION AGENCY</td>\n",
       "      <td>Hertfordshire</td>\n",
       "      <td>Live Recruitment</td>\n",
       "      <td>permanent</td>\n",
       "      <td>full_time</td>\n",
       "      <td>PR, Advertising &amp; Marketing Jobs</td>\n",
       "      <td>2708.33</td>\n",
       "      <td>2013-11-17 15:00:00</td>\n",
       "      <td>2013-12-17 15:00:00</td>\n",
       "      <td>jobhuntlisting.com</td>\n",
       "    </tr>\n",
       "    <tr>\n",
       "      <th>55691</th>\n",
       "      <td>72710202</td>\n",
       "      <td>Curriculum Leader  Mathematics</td>\n",
       "      <td>Wrexham</td>\n",
       "      <td>non_specificed</td>\n",
       "      <td>permanent</td>\n",
       "      <td>non-specified</td>\n",
       "      <td>Teaching Jobs</td>\n",
       "      <td>417.17</td>\n",
       "      <td>2012-01-15 12:00:00</td>\n",
       "      <td>2012-03-15 12:00:00</td>\n",
       "      <td>jobhuntlisting.com</td>\n",
       "    </tr>\n",
       "    <tr>\n",
       "      <th>55692</th>\n",
       "      <td>72710203</td>\n",
       "      <td>TEACHER OF BUSINESS STUDIES AND LAW</td>\n",
       "      <td>Salisbury</td>\n",
       "      <td>non_specificed</td>\n",
       "      <td>contract</td>\n",
       "      <td>non-specified</td>\n",
       "      <td>Teaching Jobs</td>\n",
       "      <td>1900.00</td>\n",
       "      <td>2013-04-27 15:00:00</td>\n",
       "      <td>2013-05-11 15:00:00</td>\n",
       "      <td>jobhuntlisting.com</td>\n",
       "    </tr>\n",
       "  </tbody>\n",
       "</table>\n",
       "</div>"
      ],
      "text/plain": [
       "             ID                                              Title  \\\n",
       "55688  72710199  Pharmaceutical  Analytical Chemist Jobs in Nor...   \n",
       "55689  72710200     Medical Sales Representative  South East Essex   \n",
       "55690  72710201  SENIOR PROJECT MANAGER  EVENT & EXHIBITION AGENCY   \n",
       "55691  72710202                     Curriculum Leader  Mathematics   \n",
       "55692  72710203                TEACHER OF BUSINESS STUDIES AND LAW   \n",
       "\n",
       "               Location                         Company ContractType  \\\n",
       "55688  Northern Ireland                    Flame Pharma    permanent   \n",
       "55689                UK  The Vacancy Management Company     contract   \n",
       "55690     Hertfordshire                Live Recruitment    permanent   \n",
       "55691           Wrexham                  non_specificed    permanent   \n",
       "55692         Salisbury                  non_specificed     contract   \n",
       "\n",
       "        ContractTime                          Category   Salary  \\\n",
       "55688  non-specified         Healthcare & Nursing Jobs  1916.67   \n",
       "55689  non-specified         Healthcare & Nursing Jobs  1875.00   \n",
       "55690      full_time  PR, Advertising & Marketing Jobs  2708.33   \n",
       "55691  non-specified                     Teaching Jobs   417.17   \n",
       "55692  non-specified                     Teaching Jobs  1900.00   \n",
       "\n",
       "                  OpenDate            CloseDate          SourceName  \n",
       "55688  2013-09-24 15:00:00  2013-10-24 15:00:00  jobhuntlisting.com  \n",
       "55689  2012-05-21 12:00:00  2012-06-20 12:00:00  jobhuntlisting.com  \n",
       "55690  2013-11-17 15:00:00  2013-12-17 15:00:00  jobhuntlisting.com  \n",
       "55691  2012-01-15 12:00:00  2012-03-15 12:00:00  jobhuntlisting.com  \n",
       "55692  2013-04-27 15:00:00  2013-05-11 15:00:00  jobhuntlisting.com  "
      ]
     },
     "execution_count": 28,
     "metadata": {},
     "output_type": "execute_result"
    }
   ],
   "source": [
    "df.tail()"
   ]
  },
  {
   "cell_type": "markdown",
   "metadata": {},
   "source": [
    "### 4. Resolving data conflicts:"
   ]
  },
  {
   "cell_type": "markdown",
   "metadata": {},
   "source": [
    "#### conflict 1: duplicates\n",
    "As merging 2 data together without the common key, we have the result of 55701 records. It does not eliminate duplicates."
   ]
  },
  {
   "cell_type": "code",
   "execution_count": 29,
   "metadata": {
    "scrolled": true
   },
   "outputs": [
    {
     "name": "stdout",
     "output_type": "stream",
     "text": [
      "There is no duplicate detected using all columns\n"
     ]
    },
    {
     "data": {
      "text/html": [
       "<div>\n",
       "<style scoped>\n",
       "    .dataframe tbody tr th:only-of-type {\n",
       "        vertical-align: middle;\n",
       "    }\n",
       "\n",
       "    .dataframe tbody tr th {\n",
       "        vertical-align: top;\n",
       "    }\n",
       "\n",
       "    .dataframe thead th {\n",
       "        text-align: right;\n",
       "    }\n",
       "</style>\n",
       "<table border=\"1\" class=\"dataframe\">\n",
       "  <thead>\n",
       "    <tr style=\"text-align: right;\">\n",
       "      <th></th>\n",
       "      <th>ID</th>\n",
       "      <th>Title</th>\n",
       "      <th>Location</th>\n",
       "      <th>Company</th>\n",
       "      <th>ContractType</th>\n",
       "      <th>ContractTime</th>\n",
       "      <th>Category</th>\n",
       "      <th>Salary</th>\n",
       "      <th>OpenDate</th>\n",
       "      <th>CloseDate</th>\n",
       "      <th>SourceName</th>\n",
       "    </tr>\n",
       "  </thead>\n",
       "  <tbody>\n",
       "  </tbody>\n",
       "</table>\n",
       "</div>"
      ],
      "text/plain": [
       "Empty DataFrame\n",
       "Columns: [ID, Title, Location, Company, ContractType, ContractTime, Category, Salary, OpenDate, CloseDate, SourceName]\n",
       "Index: []"
      ]
     },
     "execution_count": 29,
     "metadata": {},
     "output_type": "execute_result"
    }
   ],
   "source": [
    "# find duplicates by all columns\n",
    "print('There is no duplicate detected using all columns')\n",
    "duplicates = df[df.duplicated(keep=False)]\n",
    "duplicates"
   ]
  },
  {
   "cell_type": "code",
   "execution_count": 30,
   "metadata": {},
   "outputs": [
    {
     "name": "stdout",
     "output_type": "stream",
     "text": [
      "this does not seem right\n"
     ]
    },
    {
     "data": {
      "text/html": [
       "<div>\n",
       "<style scoped>\n",
       "    .dataframe tbody tr th:only-of-type {\n",
       "        vertical-align: middle;\n",
       "    }\n",
       "\n",
       "    .dataframe tbody tr th {\n",
       "        vertical-align: top;\n",
       "    }\n",
       "\n",
       "    .dataframe thead th {\n",
       "        text-align: right;\n",
       "    }\n",
       "</style>\n",
       "<table border=\"1\" class=\"dataframe\">\n",
       "  <thead>\n",
       "    <tr style=\"text-align: right;\">\n",
       "      <th></th>\n",
       "      <th>ID</th>\n",
       "      <th>Title</th>\n",
       "      <th>Location</th>\n",
       "      <th>Company</th>\n",
       "      <th>ContractType</th>\n",
       "      <th>ContractTime</th>\n",
       "      <th>Category</th>\n",
       "      <th>Salary</th>\n",
       "      <th>OpenDate</th>\n",
       "      <th>CloseDate</th>\n",
       "      <th>SourceName</th>\n",
       "    </tr>\n",
       "  </thead>\n",
       "  <tbody>\n",
       "    <tr>\n",
       "      <th>1540</th>\n",
       "      <td>68708304</td>\n",
       "      <td>Transfer Pricing Consultant</td>\n",
       "      <td>UK</td>\n",
       "      <td>Michael Page Finance</td>\n",
       "      <td>non_specificed</td>\n",
       "      <td>permanent</td>\n",
       "      <td>Accounting &amp; Finance Jobs</td>\n",
       "      <td>42500.0</td>\n",
       "      <td>2013-02-17 00:00:00</td>\n",
       "      <td>2013-05-18 00:00:00</td>\n",
       "      <td>totaljobs.com</td>\n",
       "    </tr>\n",
       "    <tr>\n",
       "      <th>2364</th>\n",
       "      <td>68062485</td>\n",
       "      <td>Sales Account Manager  Print Media and Events</td>\n",
       "      <td>South East London</td>\n",
       "      <td>The Graduate Recruitment Company</td>\n",
       "      <td>non_specificed</td>\n",
       "      <td>permanent</td>\n",
       "      <td>Sales Jobs</td>\n",
       "      <td>22500.0</td>\n",
       "      <td>2013-06-14 12:00:00</td>\n",
       "      <td>2013-09-12 12:00:00</td>\n",
       "      <td>totaljobs.com</td>\n",
       "    </tr>\n",
       "    <tr>\n",
       "      <th>2622</th>\n",
       "      <td>68063683</td>\n",
       "      <td>Russian Speaking Account Manager  Financial Tr...</td>\n",
       "      <td>South East London</td>\n",
       "      <td>The Graduate Recruitment Company</td>\n",
       "      <td>non_specificed</td>\n",
       "      <td>permanent</td>\n",
       "      <td>Sales Jobs</td>\n",
       "      <td>18500.0</td>\n",
       "      <td>2013-06-14 12:00:00</td>\n",
       "      <td>2013-07-14 12:00:00</td>\n",
       "      <td>totaljobs.com</td>\n",
       "    </tr>\n",
       "    <tr>\n",
       "      <th>2913</th>\n",
       "      <td>68696242</td>\n",
       "      <td>Business Transformation &amp; Change Manager  Home...</td>\n",
       "      <td>UK</td>\n",
       "      <td>Additional Resources Ltd</td>\n",
       "      <td>non_specificed</td>\n",
       "      <td>permanent</td>\n",
       "      <td>IT Jobs</td>\n",
       "      <td>57500.0</td>\n",
       "      <td>2012-03-03 15:00:00</td>\n",
       "      <td>2012-04-02 15:00:00</td>\n",
       "      <td>totaljobs.com</td>\n",
       "    </tr>\n",
       "    <tr>\n",
       "      <th>3035</th>\n",
       "      <td>68708336</td>\n",
       "      <td>Group Finance Accountant</td>\n",
       "      <td>UK</td>\n",
       "      <td>Michael Page Finance</td>\n",
       "      <td>non_specificed</td>\n",
       "      <td>permanent</td>\n",
       "      <td>Accounting &amp; Finance Jobs</td>\n",
       "      <td>57500.0</td>\n",
       "      <td>2013-02-17 00:00:00</td>\n",
       "      <td>2013-04-18 00:00:00</td>\n",
       "      <td>totaljobs.com</td>\n",
       "    </tr>\n",
       "    <tr>\n",
       "      <th>...</th>\n",
       "      <td>...</td>\n",
       "      <td>...</td>\n",
       "      <td>...</td>\n",
       "      <td>...</td>\n",
       "      <td>...</td>\n",
       "      <td>...</td>\n",
       "      <td>...</td>\n",
       "      <td>...</td>\n",
       "      <td>...</td>\n",
       "      <td>...</td>\n",
       "      <td>...</td>\n",
       "    </tr>\n",
       "    <tr>\n",
       "      <th>50065</th>\n",
       "      <td>69896138</td>\n",
       "      <td>Support Worker ( Children and Young People )</td>\n",
       "      <td>UK</td>\n",
       "      <td>non-specified</td>\n",
       "      <td>non_specificed</td>\n",
       "      <td>permanent</td>\n",
       "      <td>Healthcare &amp; Nursing Jobs</td>\n",
       "      <td>13670.0</td>\n",
       "      <td>2012-12-06 00:00:00</td>\n",
       "      <td>2013-01-05 00:00:00</td>\n",
       "      <td>jobstoday.co.uk</td>\n",
       "    </tr>\n",
       "    <tr>\n",
       "      <th>50617</th>\n",
       "      <td>68197924</td>\n",
       "      <td>Sales Manager Ad Serving Technology</td>\n",
       "      <td>London</td>\n",
       "      <td>Ultimate Asset</td>\n",
       "      <td>full_time</td>\n",
       "      <td>permanent</td>\n",
       "      <td>PR, Advertising &amp; Marketing Jobs</td>\n",
       "      <td>37500.0</td>\n",
       "      <td>2013-06-02 12:00:00</td>\n",
       "      <td>2013-08-01 12:00:00</td>\n",
       "      <td>jobs.chinwag.com</td>\n",
       "    </tr>\n",
       "    <tr>\n",
       "      <th>50630</th>\n",
       "      <td>69956247</td>\n",
       "      <td>Sales Account Manager  award winning publisher</td>\n",
       "      <td>London</td>\n",
       "      <td>Ultimate Asset</td>\n",
       "      <td>full_time</td>\n",
       "      <td>permanent</td>\n",
       "      <td>PR, Advertising &amp; Marketing Jobs</td>\n",
       "      <td>31500.0</td>\n",
       "      <td>2013-06-02 12:00:00</td>\n",
       "      <td>2013-08-31 12:00:00</td>\n",
       "      <td>jobs.chinwag.com</td>\n",
       "    </tr>\n",
       "    <tr>\n",
       "      <th>50681</th>\n",
       "      <td>69035689</td>\n",
       "      <td>Civil Engineer, Onshore Windfarm Development</td>\n",
       "      <td>UK</td>\n",
       "      <td>Morgan Hunt Limited</td>\n",
       "      <td>non_specificed</td>\n",
       "      <td>permanent</td>\n",
       "      <td>Engineering Jobs</td>\n",
       "      <td>35000.0</td>\n",
       "      <td>2013-09-13 12:00:00</td>\n",
       "      <td>2013-10-13 12:00:00</td>\n",
       "      <td>renewablescareers.com</td>\n",
       "    </tr>\n",
       "    <tr>\n",
       "      <th>50688</th>\n",
       "      <td>68061181</td>\n",
       "      <td>Civil Engineer, Onshore Windfarm Development</td>\n",
       "      <td>UK</td>\n",
       "      <td>Morgan Hunt Limited</td>\n",
       "      <td>non_specificed</td>\n",
       "      <td>permanent</td>\n",
       "      <td>Engineering Jobs</td>\n",
       "      <td>35000.0</td>\n",
       "      <td>2013-09-13 12:00:00</td>\n",
       "      <td>2013-10-13 12:00:00</td>\n",
       "      <td>renewablescareers.com</td>\n",
       "    </tr>\n",
       "  </tbody>\n",
       "</table>\n",
       "<p>80 rows × 11 columns</p>\n",
       "</div>"
      ],
      "text/plain": [
       "             ID                                              Title  \\\n",
       "1540   68708304                        Transfer Pricing Consultant   \n",
       "2364   68062485      Sales Account Manager  Print Media and Events   \n",
       "2622   68063683  Russian Speaking Account Manager  Financial Tr...   \n",
       "2913   68696242  Business Transformation & Change Manager  Home...   \n",
       "3035   68708336                           Group Finance Accountant   \n",
       "...         ...                                                ...   \n",
       "50065  69896138       Support Worker ( Children and Young People )   \n",
       "50617  68197924                Sales Manager Ad Serving Technology   \n",
       "50630  69956247     Sales Account Manager  award winning publisher   \n",
       "50681  69035689       Civil Engineer, Onshore Windfarm Development   \n",
       "50688  68061181      Civil Engineer, Onshore Windfarm Development    \n",
       "\n",
       "                Location                           Company    ContractType  \\\n",
       "1540                  UK              Michael Page Finance  non_specificed   \n",
       "2364   South East London  The Graduate Recruitment Company  non_specificed   \n",
       "2622   South East London  The Graduate Recruitment Company  non_specificed   \n",
       "2913                  UK          Additional Resources Ltd  non_specificed   \n",
       "3035                  UK              Michael Page Finance  non_specificed   \n",
       "...                  ...                               ...             ...   \n",
       "50065                 UK                     non-specified  non_specificed   \n",
       "50617             London                    Ultimate Asset       full_time   \n",
       "50630             London                    Ultimate Asset       full_time   \n",
       "50681                 UK               Morgan Hunt Limited  non_specificed   \n",
       "50688                 UK               Morgan Hunt Limited  non_specificed   \n",
       "\n",
       "      ContractTime                          Category   Salary  \\\n",
       "1540     permanent         Accounting & Finance Jobs  42500.0   \n",
       "2364     permanent                        Sales Jobs  22500.0   \n",
       "2622     permanent                        Sales Jobs  18500.0   \n",
       "2913     permanent                           IT Jobs  57500.0   \n",
       "3035     permanent         Accounting & Finance Jobs  57500.0   \n",
       "...            ...                               ...      ...   \n",
       "50065    permanent         Healthcare & Nursing Jobs  13670.0   \n",
       "50617    permanent  PR, Advertising & Marketing Jobs  37500.0   \n",
       "50630    permanent  PR, Advertising & Marketing Jobs  31500.0   \n",
       "50681    permanent                  Engineering Jobs  35000.0   \n",
       "50688    permanent                  Engineering Jobs  35000.0   \n",
       "\n",
       "                  OpenDate            CloseDate             SourceName  \n",
       "1540   2013-02-17 00:00:00  2013-05-18 00:00:00          totaljobs.com  \n",
       "2364   2013-06-14 12:00:00  2013-09-12 12:00:00          totaljobs.com  \n",
       "2622   2013-06-14 12:00:00  2013-07-14 12:00:00          totaljobs.com  \n",
       "2913   2012-03-03 15:00:00  2012-04-02 15:00:00          totaljobs.com  \n",
       "3035   2013-02-17 00:00:00  2013-04-18 00:00:00          totaljobs.com  \n",
       "...                    ...                  ...                    ...  \n",
       "50065  2012-12-06 00:00:00  2013-01-05 00:00:00        jobstoday.co.uk  \n",
       "50617  2013-06-02 12:00:00  2013-08-01 12:00:00       jobs.chinwag.com  \n",
       "50630  2013-06-02 12:00:00  2013-08-31 12:00:00       jobs.chinwag.com  \n",
       "50681  2013-09-13 12:00:00  2013-10-13 12:00:00  renewablescareers.com  \n",
       "50688  2013-09-13 12:00:00  2013-10-13 12:00:00  renewablescareers.com  \n",
       "\n",
       "[80 rows x 11 columns]"
      ]
     },
     "execution_count": 30,
     "metadata": {},
     "output_type": "execute_result"
    }
   ],
   "source": [
    "# using location , compay, contractType, contractTime, opendate\n",
    "print('this does not seem right')\n",
    "\n",
    "cols = cols = ['Location','Company','ContractType','ContractTime', 'OpenDate']\n",
    "\n",
    "duplicates = df[df.duplicated(cols,keep=False)]\n",
    "duplicates"
   ]
  },
  {
   "cell_type": "code",
   "execution_count": 31,
   "metadata": {
    "scrolled": true
   },
   "outputs": [
    {
     "name": "stdout",
     "output_type": "stream",
     "text": [
      "there are 6 duplicates\n"
     ]
    },
    {
     "data": {
      "text/html": [
       "<div>\n",
       "<style scoped>\n",
       "    .dataframe tbody tr th:only-of-type {\n",
       "        vertical-align: middle;\n",
       "    }\n",
       "\n",
       "    .dataframe tbody tr th {\n",
       "        vertical-align: top;\n",
       "    }\n",
       "\n",
       "    .dataframe thead th {\n",
       "        text-align: right;\n",
       "    }\n",
       "</style>\n",
       "<table border=\"1\" class=\"dataframe\">\n",
       "  <thead>\n",
       "    <tr style=\"text-align: right;\">\n",
       "      <th></th>\n",
       "      <th>ID</th>\n",
       "      <th>Title</th>\n",
       "      <th>Location</th>\n",
       "      <th>Company</th>\n",
       "      <th>ContractType</th>\n",
       "      <th>ContractTime</th>\n",
       "      <th>Category</th>\n",
       "      <th>Salary</th>\n",
       "      <th>OpenDate</th>\n",
       "      <th>CloseDate</th>\n",
       "      <th>SourceName</th>\n",
       "    </tr>\n",
       "  </thead>\n",
       "  <tbody>\n",
       "    <tr>\n",
       "      <th>36493</th>\n",
       "      <td>68822514</td>\n",
       "      <td>C ASPNet Developer  Basingstoke  ****k To ****k</td>\n",
       "      <td>Basingstoke</td>\n",
       "      <td>Progressive Recruitment</td>\n",
       "      <td>non_specificed</td>\n",
       "      <td>non_specificed</td>\n",
       "      <td>IT Jobs</td>\n",
       "      <td>37500.0</td>\n",
       "      <td>2013-02-12 00:00:00</td>\n",
       "      <td>2013-02-26 00:00:00</td>\n",
       "      <td>gojobsearch.co.uk</td>\n",
       "    </tr>\n",
       "    <tr>\n",
       "      <th>36838</th>\n",
       "      <td>68061163</td>\n",
       "      <td>C ASPNet Developer  Basingstoke  ****k To ****k</td>\n",
       "      <td>Basingstoke</td>\n",
       "      <td>Progressive Recruitment</td>\n",
       "      <td>non_specificed</td>\n",
       "      <td>non_specificed</td>\n",
       "      <td>IT Jobs</td>\n",
       "      <td>37500.0</td>\n",
       "      <td>2013-02-12 00:00:00</td>\n",
       "      <td>2013-02-26 00:00:00</td>\n",
       "      <td>gojobsearch.co.uk</td>\n",
       "    </tr>\n",
       "    <tr>\n",
       "      <th>41938</th>\n",
       "      <td>71844696</td>\n",
       "      <td>Primary Teacher Vacancies  Rotherham</td>\n",
       "      <td>Rotherham</td>\n",
       "      <td>ITN Mark Education</td>\n",
       "      <td>non_specificed</td>\n",
       "      <td>non_specificed</td>\n",
       "      <td>Teaching Jobs</td>\n",
       "      <td>25200.0</td>\n",
       "      <td>2012-10-08 00:00:00</td>\n",
       "      <td>2012-11-07 00:00:00</td>\n",
       "      <td>contractjobs.com</td>\n",
       "    </tr>\n",
       "    <tr>\n",
       "      <th>42009</th>\n",
       "      <td>68061172</td>\n",
       "      <td>Primary Teacher Vacancies  Rotherham</td>\n",
       "      <td>Rotherham</td>\n",
       "      <td>ITN Mark Education</td>\n",
       "      <td>non_specificed</td>\n",
       "      <td>non_specificed</td>\n",
       "      <td>Teaching Jobs</td>\n",
       "      <td>25200.0</td>\n",
       "      <td>2012-10-08 00:00:00</td>\n",
       "      <td>2012-11-07 00:00:00</td>\n",
       "      <td>contractjobs.com</td>\n",
       "    </tr>\n",
       "    <tr>\n",
       "      <th>48362</th>\n",
       "      <td>69896148</td>\n",
       "      <td>Theatre Nurses</td>\n",
       "      <td>Liverpool</td>\n",
       "      <td>JS3 Recruitment Ltd</td>\n",
       "      <td>non_specificed</td>\n",
       "      <td>permanent</td>\n",
       "      <td>Healthcare &amp; Nursing Jobs</td>\n",
       "      <td>28500.0</td>\n",
       "      <td>2013-06-26 15:00:00</td>\n",
       "      <td>2013-08-25 15:00:00</td>\n",
       "      <td>tntjobs.co.uk</td>\n",
       "    </tr>\n",
       "    <tr>\n",
       "      <th>48466</th>\n",
       "      <td>68061190</td>\n",
       "      <td>Theatre Nurses</td>\n",
       "      <td>Liverpool</td>\n",
       "      <td>JS3 Recruitment Ltd</td>\n",
       "      <td>non_specificed</td>\n",
       "      <td>permanent</td>\n",
       "      <td>Healthcare &amp; Nursing Jobs</td>\n",
       "      <td>28500.0</td>\n",
       "      <td>2013-06-26 15:00:00</td>\n",
       "      <td>2013-08-25 15:00:00</td>\n",
       "      <td>tntjobs.co.uk</td>\n",
       "    </tr>\n",
       "  </tbody>\n",
       "</table>\n",
       "</div>"
      ],
      "text/plain": [
       "             ID                                            Title     Location  \\\n",
       "36493  68822514  C ASPNet Developer  Basingstoke  ****k To ****k  Basingstoke   \n",
       "36838  68061163  C ASPNet Developer  Basingstoke  ****k To ****k  Basingstoke   \n",
       "41938  71844696             Primary Teacher Vacancies  Rotherham    Rotherham   \n",
       "42009  68061172             Primary Teacher Vacancies  Rotherham    Rotherham   \n",
       "48362  69896148                                   Theatre Nurses    Liverpool   \n",
       "48466  68061190                                   Theatre Nurses    Liverpool   \n",
       "\n",
       "                       Company    ContractType    ContractTime  \\\n",
       "36493  Progressive Recruitment  non_specificed  non_specificed   \n",
       "36838  Progressive Recruitment  non_specificed  non_specificed   \n",
       "41938       ITN Mark Education  non_specificed  non_specificed   \n",
       "42009       ITN Mark Education  non_specificed  non_specificed   \n",
       "48362      JS3 Recruitment Ltd  non_specificed       permanent   \n",
       "48466      JS3 Recruitment Ltd  non_specificed       permanent   \n",
       "\n",
       "                        Category   Salary             OpenDate  \\\n",
       "36493                    IT Jobs  37500.0  2013-02-12 00:00:00   \n",
       "36838                    IT Jobs  37500.0  2013-02-12 00:00:00   \n",
       "41938              Teaching Jobs  25200.0  2012-10-08 00:00:00   \n",
       "42009              Teaching Jobs  25200.0  2012-10-08 00:00:00   \n",
       "48362  Healthcare & Nursing Jobs  28500.0  2013-06-26 15:00:00   \n",
       "48466  Healthcare & Nursing Jobs  28500.0  2013-06-26 15:00:00   \n",
       "\n",
       "                 CloseDate         SourceName  \n",
       "36493  2013-02-26 00:00:00  gojobsearch.co.uk  \n",
       "36838  2013-02-26 00:00:00  gojobsearch.co.uk  \n",
       "41938  2012-11-07 00:00:00   contractjobs.com  \n",
       "42009  2012-11-07 00:00:00   contractjobs.com  \n",
       "48362  2013-08-25 15:00:00      tntjobs.co.uk  \n",
       "48466  2013-08-25 15:00:00      tntjobs.co.uk  "
      ]
     },
     "execution_count": 31,
     "metadata": {},
     "output_type": "execute_result"
    }
   ],
   "source": [
    "# using title, company, salary to check for duplicates\n",
    "\n",
    "cols = cols = ['Title', 'Company', 'Salary']\n",
    "\n",
    "duplicates = df[df.duplicated(cols,keep=False)]\n",
    "print('there are', len(duplicates), 'duplicates')\n",
    "duplicates"
   ]
  },
  {
   "cell_type": "code",
   "execution_count": 32,
   "metadata": {
    "scrolled": true
   },
   "outputs": [
    {
     "name": "stdout",
     "output_type": "stream",
     "text": [
      "these recods are repeated\n",
      "8 recodes are found\n"
     ]
    },
    {
     "data": {
      "text/html": [
       "<div>\n",
       "<style scoped>\n",
       "    .dataframe tbody tr th:only-of-type {\n",
       "        vertical-align: middle;\n",
       "    }\n",
       "\n",
       "    .dataframe tbody tr th {\n",
       "        vertical-align: top;\n",
       "    }\n",
       "\n",
       "    .dataframe thead th {\n",
       "        text-align: right;\n",
       "    }\n",
       "</style>\n",
       "<table border=\"1\" class=\"dataframe\">\n",
       "  <thead>\n",
       "    <tr style=\"text-align: right;\">\n",
       "      <th></th>\n",
       "      <th>ID</th>\n",
       "      <th>Title</th>\n",
       "      <th>Location</th>\n",
       "      <th>Company</th>\n",
       "      <th>ContractType</th>\n",
       "      <th>ContractTime</th>\n",
       "      <th>Category</th>\n",
       "      <th>Salary</th>\n",
       "      <th>OpenDate</th>\n",
       "      <th>CloseDate</th>\n",
       "      <th>SourceName</th>\n",
       "    </tr>\n",
       "  </thead>\n",
       "  <tbody>\n",
       "    <tr>\n",
       "      <th>36493</th>\n",
       "      <td>68822514</td>\n",
       "      <td>C ASPNet Developer  Basingstoke  ****k To ****k</td>\n",
       "      <td>Basingstoke</td>\n",
       "      <td>Progressive Recruitment</td>\n",
       "      <td>non_specificed</td>\n",
       "      <td>non_specificed</td>\n",
       "      <td>IT Jobs</td>\n",
       "      <td>37500.0</td>\n",
       "      <td>2013-02-12 00:00:00</td>\n",
       "      <td>2013-02-26 00:00:00</td>\n",
       "      <td>gojobsearch.co.uk</td>\n",
       "    </tr>\n",
       "    <tr>\n",
       "      <th>36838</th>\n",
       "      <td>68061163</td>\n",
       "      <td>C ASPNet Developer  Basingstoke  ****k To ****k</td>\n",
       "      <td>Basingstoke</td>\n",
       "      <td>Progressive Recruitment</td>\n",
       "      <td>non_specificed</td>\n",
       "      <td>non_specificed</td>\n",
       "      <td>IT Jobs</td>\n",
       "      <td>37500.0</td>\n",
       "      <td>2013-02-12 00:00:00</td>\n",
       "      <td>2013-02-26 00:00:00</td>\n",
       "      <td>gojobsearch.co.uk</td>\n",
       "    </tr>\n",
       "    <tr>\n",
       "      <th>41938</th>\n",
       "      <td>71844696</td>\n",
       "      <td>Primary Teacher Vacancies  Rotherham</td>\n",
       "      <td>Rotherham</td>\n",
       "      <td>ITN Mark Education</td>\n",
       "      <td>non_specificed</td>\n",
       "      <td>non_specificed</td>\n",
       "      <td>Teaching Jobs</td>\n",
       "      <td>25200.0</td>\n",
       "      <td>2012-10-08 00:00:00</td>\n",
       "      <td>2012-11-07 00:00:00</td>\n",
       "      <td>contractjobs.com</td>\n",
       "    </tr>\n",
       "    <tr>\n",
       "      <th>42009</th>\n",
       "      <td>68061172</td>\n",
       "      <td>Primary Teacher Vacancies  Rotherham</td>\n",
       "      <td>Rotherham</td>\n",
       "      <td>ITN Mark Education</td>\n",
       "      <td>non_specificed</td>\n",
       "      <td>non_specificed</td>\n",
       "      <td>Teaching Jobs</td>\n",
       "      <td>25200.0</td>\n",
       "      <td>2012-10-08 00:00:00</td>\n",
       "      <td>2012-11-07 00:00:00</td>\n",
       "      <td>contractjobs.com</td>\n",
       "    </tr>\n",
       "    <tr>\n",
       "      <th>48362</th>\n",
       "      <td>69896148</td>\n",
       "      <td>Theatre Nurses</td>\n",
       "      <td>Liverpool</td>\n",
       "      <td>JS3 Recruitment Ltd</td>\n",
       "      <td>non_specificed</td>\n",
       "      <td>permanent</td>\n",
       "      <td>Healthcare &amp; Nursing Jobs</td>\n",
       "      <td>28500.0</td>\n",
       "      <td>2013-06-26 15:00:00</td>\n",
       "      <td>2013-08-25 15:00:00</td>\n",
       "      <td>tntjobs.co.uk</td>\n",
       "    </tr>\n",
       "    <tr>\n",
       "      <th>48466</th>\n",
       "      <td>68061190</td>\n",
       "      <td>Theatre Nurses</td>\n",
       "      <td>Liverpool</td>\n",
       "      <td>JS3 Recruitment Ltd</td>\n",
       "      <td>non_specificed</td>\n",
       "      <td>permanent</td>\n",
       "      <td>Healthcare &amp; Nursing Jobs</td>\n",
       "      <td>28500.0</td>\n",
       "      <td>2013-06-26 15:00:00</td>\n",
       "      <td>2013-08-25 15:00:00</td>\n",
       "      <td>tntjobs.co.uk</td>\n",
       "    </tr>\n",
       "    <tr>\n",
       "      <th>50681</th>\n",
       "      <td>69035689</td>\n",
       "      <td>Civil Engineer, Onshore Windfarm Development</td>\n",
       "      <td>UK</td>\n",
       "      <td>Morgan Hunt Limited</td>\n",
       "      <td>non_specificed</td>\n",
       "      <td>permanent</td>\n",
       "      <td>Engineering Jobs</td>\n",
       "      <td>35000.0</td>\n",
       "      <td>2013-09-13 12:00:00</td>\n",
       "      <td>2013-10-13 12:00:00</td>\n",
       "      <td>renewablescareers.com</td>\n",
       "    </tr>\n",
       "    <tr>\n",
       "      <th>50688</th>\n",
       "      <td>68061181</td>\n",
       "      <td>Civil Engineer, Onshore Windfarm Development</td>\n",
       "      <td>UK</td>\n",
       "      <td>Morgan Hunt Limited</td>\n",
       "      <td>non_specificed</td>\n",
       "      <td>permanent</td>\n",
       "      <td>Engineering Jobs</td>\n",
       "      <td>35000.0</td>\n",
       "      <td>2013-09-13 12:00:00</td>\n",
       "      <td>2013-10-13 12:00:00</td>\n",
       "      <td>renewablescareers.com</td>\n",
       "    </tr>\n",
       "  </tbody>\n",
       "</table>\n",
       "</div>"
      ],
      "text/plain": [
       "             ID                                            Title     Location  \\\n",
       "36493  68822514  C ASPNet Developer  Basingstoke  ****k To ****k  Basingstoke   \n",
       "36838  68061163  C ASPNet Developer  Basingstoke  ****k To ****k  Basingstoke   \n",
       "41938  71844696             Primary Teacher Vacancies  Rotherham    Rotherham   \n",
       "42009  68061172             Primary Teacher Vacancies  Rotherham    Rotherham   \n",
       "48362  69896148                                   Theatre Nurses    Liverpool   \n",
       "48466  68061190                                   Theatre Nurses    Liverpool   \n",
       "50681  69035689     Civil Engineer, Onshore Windfarm Development           UK   \n",
       "50688  68061181    Civil Engineer, Onshore Windfarm Development            UK   \n",
       "\n",
       "                       Company    ContractType    ContractTime  \\\n",
       "36493  Progressive Recruitment  non_specificed  non_specificed   \n",
       "36838  Progressive Recruitment  non_specificed  non_specificed   \n",
       "41938       ITN Mark Education  non_specificed  non_specificed   \n",
       "42009       ITN Mark Education  non_specificed  non_specificed   \n",
       "48362      JS3 Recruitment Ltd  non_specificed       permanent   \n",
       "48466      JS3 Recruitment Ltd  non_specificed       permanent   \n",
       "50681      Morgan Hunt Limited  non_specificed       permanent   \n",
       "50688      Morgan Hunt Limited  non_specificed       permanent   \n",
       "\n",
       "                        Category   Salary             OpenDate  \\\n",
       "36493                    IT Jobs  37500.0  2013-02-12 00:00:00   \n",
       "36838                    IT Jobs  37500.0  2013-02-12 00:00:00   \n",
       "41938              Teaching Jobs  25200.0  2012-10-08 00:00:00   \n",
       "42009              Teaching Jobs  25200.0  2012-10-08 00:00:00   \n",
       "48362  Healthcare & Nursing Jobs  28500.0  2013-06-26 15:00:00   \n",
       "48466  Healthcare & Nursing Jobs  28500.0  2013-06-26 15:00:00   \n",
       "50681           Engineering Jobs  35000.0  2013-09-13 12:00:00   \n",
       "50688           Engineering Jobs  35000.0  2013-09-13 12:00:00   \n",
       "\n",
       "                 CloseDate             SourceName  \n",
       "36493  2013-02-26 00:00:00      gojobsearch.co.uk  \n",
       "36838  2013-02-26 00:00:00      gojobsearch.co.uk  \n",
       "41938  2012-11-07 00:00:00       contractjobs.com  \n",
       "42009  2012-11-07 00:00:00       contractjobs.com  \n",
       "48362  2013-08-25 15:00:00          tntjobs.co.uk  \n",
       "48466  2013-08-25 15:00:00          tntjobs.co.uk  \n",
       "50681  2013-10-13 12:00:00  renewablescareers.com  \n",
       "50688  2013-10-13 12:00:00  renewablescareers.com  "
      ]
     },
     "execution_count": 32,
     "metadata": {},
     "output_type": "execute_result"
    }
   ],
   "source": [
    "# # using location, company, salary and opendate to check for duplicates\n",
    "print('these recods are repeated')\n",
    "cols = cols = ['Location', 'Company',  'Salary',  'OpenDate']\n",
    "\n",
    "duplicates = df[df.duplicated(cols,keep=False)]\n",
    "print(len(duplicates), 'recodes are found')\n",
    "duplicates"
   ]
  },
  {
   "cell_type": "markdown",
   "metadata": {},
   "source": [
    "#### fixing duplicates:\n",
    "There are 8 recodes detected when checking for duplicates. The last version is kept, so 4 are removed."
   ]
  },
  {
   "cell_type": "code",
   "execution_count": 33,
   "metadata": {},
   "outputs": [
    {
     "name": "stdout",
     "output_type": "stream",
     "text": [
      "after dropping duplicates, the data set has 55689 observations\n"
     ]
    },
    {
     "data": {
      "text/plain": [
       "(55689, 11)"
      ]
     },
     "execution_count": 33,
     "metadata": {},
     "output_type": "execute_result"
    }
   ],
   "source": [
    "# keep the last duplicates\n",
    "df = df.drop_duplicates(cols, keep='last')\n",
    "print('after dropping duplicates, the data set has', df.shape[0], 'observations')\n",
    "df.shape"
   ]
  },
  {
   "cell_type": "markdown",
   "metadata": {},
   "source": [
    "......"
   ]
  },
  {
   "cell_type": "markdown",
   "metadata": {},
   "source": [
    "#### Finding global key for the data : the set of Location, Company,  Salary and OpenDate\n",
    "A job ad belongs to a company at a paticular location.\n",
    "A job ad also has a salary and an open date.<br>\n",
    "We need the set of Location, Company,  Salary and OpenDate to identify an job ad.<br>\n",
    "Therefore the set of Location, Company,  Salary and OpenDate is the global key of the data set"
   ]
  },
  {
   "cell_type": "markdown",
   "metadata": {},
   "source": [
    "......."
   ]
  },
  {
   "cell_type": "markdown",
   "metadata": {},
   "source": [
    "### 5. Saving the integrated and reshaped data\n"
   ]
  },
  {
   "cell_type": "code",
   "execution_count": 34,
   "metadata": {},
   "outputs": [],
   "source": [
    "df.to_csv('S3828276_dataset_integrated.csv', index=False)"
   ]
  },
  {
   "cell_type": "markdown",
   "metadata": {},
   "source": [
    "## Summary of the Assessment Task\n",
    "task 3 is about data integration. Before merging 2 data sets, we need to make sure they share the same schema.<br>\n",
    "As data 1 is the global schema, data 2 needs to be adapted to match the global schema.<br>\n",
    "Data 2 was added ID and sourceName columns and values in each column were edited according to the data 1.<br>\n",
    "After merging 2 data sets together, duplicates were detected by using the global key (Company, location, salary, opendate).<br>\n",
    "Duplicates were droped before the combined data is exported into csv file.\n"
   ]
  }
 ],
 "metadata": {
  "kernelspec": {
   "display_name": "Python 3",
   "language": "python",
   "name": "python3"
  },
  "language_info": {
   "codemirror_mode": {
    "name": "ipython",
    "version": 3
   },
   "file_extension": ".py",
   "mimetype": "text/x-python",
   "name": "python",
   "nbconvert_exporter": "python",
   "pygments_lexer": "ipython3",
   "version": "3.8.8"
  }
 },
 "nbformat": 4,
 "nbformat_minor": 1
}
