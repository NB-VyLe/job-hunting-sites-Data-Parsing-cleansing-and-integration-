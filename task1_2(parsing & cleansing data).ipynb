{
 "cells": [
  {
   "cell_type": "markdown",
   "metadata": {},
   "source": [
    "# Assignment 1: Data Parsing, Cleansing and Integration\n",
    "## Task 1 and 2\n",
    "#### Student Name: NGOC BAO VY LE\n",
    "#### Student ID: S3828276\n",
    "\n",
    "Date: 01 SEP 2021\n"
   ]
  },
  {
   "cell_type": "markdown",
   "metadata": {},
   "source": [
    "## Importing libraries "
   ]
  },
  {
   "cell_type": "code",
   "execution_count": 1,
   "metadata": {},
   "outputs": [],
   "source": [
    "import pandas as pd\n",
    "import re\n",
    "import numpy as np\n",
    "import datetime\n",
    "import xml.etree.ElementTree as etree\n",
    "from itertools import chain\n",
    "import difflib\n",
    "%matplotlib inline"
   ]
  },
  {
   "cell_type": "markdown",
   "metadata": {},
   "source": [
    "## Task 1. Parsing Data"
   ]
  },
  {
   "cell_type": "markdown",
   "metadata": {},
   "source": [
    "### 1.1. Examining and loading data"
   ]
  },
  {
   "cell_type": "code",
   "execution_count": 2,
   "metadata": {},
   "outputs": [
    {
     "data": {
      "text/plain": [
       "<xml.etree.ElementTree.ElementTree at 0x2ab448659a0>"
      ]
     },
     "execution_count": 2,
     "metadata": {},
     "output_type": "execute_result"
    }
   ],
   "source": [
    "tree = etree.parse('S3828276_dataset1.xml')\n",
    "tree"
   ]
  },
  {
   "cell_type": "code",
   "execution_count": 3,
   "metadata": {},
   "outputs": [
    {
     "name": "stdout",
     "output_type": "stream",
     "text": [
      "root elements :  <Element 'JobAds' at 0x000002AB47664B80>\n",
      "the length:  107\n",
      "the root tag:  JobAds\n",
      "root attribute:  {}\n",
      "text:  \n",
      "\n"
     ]
    }
   ],
   "source": [
    "# root node\n",
    "\n",
    "root = tree.getroot()\n",
    "\n",
    "print('root elements : ',root)\n",
    "print('the length: ', len(root))\n",
    "print('the root tag: ',root.tag)\n",
    "print('root attribute: ', root.attrib)\n",
    "print('text: ', root.text)"
   ]
  },
  {
   "cell_type": "code",
   "execution_count": 4,
   "metadata": {},
   "outputs": [
    {
     "data": {
      "text/plain": [
       "{'Source'}"
      ]
     },
     "execution_count": 4,
     "metadata": {},
     "output_type": "execute_result"
    }
   ],
   "source": [
    "# the tags for root's child\n",
    "set([child.tag for child in root])"
   ]
  },
  {
   "cell_type": "markdown",
   "metadata": {},
   "source": [
    "##### Source"
   ]
  },
  {
   "cell_type": "code",
   "execution_count": 5,
   "metadata": {},
   "outputs": [
    {
     "data": {
      "text/plain": [
       "[['Source', {}, '\\n'],\n",
       " ['Source', {}, '\\n'],\n",
       " ['Source', {}, '\\n'],\n",
       " ['Source', {}, '\\n'],\n",
       " ['Source', {}, '\\n'],\n",
       " ['Source', {}, '\\n'],\n",
       " ['Source', {}, '\\n'],\n",
       " ['Source', {}, '\\n'],\n",
       " ['Source', {}, '\\n'],\n",
       " ['Source', {}, '\\n'],\n",
       " ['Source', {}, '\\n'],\n",
       " ['Source', {}, '\\n'],\n",
       " ['Source', {}, '\\n'],\n",
       " ['Source', {}, '\\n'],\n",
       " ['Source', {}, '\\n'],\n",
       " ['Source', {}, '\\n'],\n",
       " ['Source', {}, '\\n'],\n",
       " ['Source', {}, '\\n'],\n",
       " ['Source', {}, '\\n'],\n",
       " ['Source', {}, '\\n'],\n",
       " ['Source', {}, '\\n'],\n",
       " ['Source', {}, '\\n'],\n",
       " ['Source', {}, '\\n'],\n",
       " ['Source', {}, '\\n'],\n",
       " ['Source', {}, '\\n'],\n",
       " ['Source', {}, '\\n'],\n",
       " ['Source', {}, '\\n'],\n",
       " ['Source', {}, '\\n'],\n",
       " ['Source', {}, '\\n'],\n",
       " ['Source', {}, '\\n'],\n",
       " ['Source', {}, '\\n'],\n",
       " ['Source', {}, '\\n'],\n",
       " ['Source', {}, '\\n'],\n",
       " ['Source', {}, '\\n'],\n",
       " ['Source', {}, '\\n'],\n",
       " ['Source', {}, '\\n'],\n",
       " ['Source', {}, '\\n'],\n",
       " ['Source', {}, '\\n'],\n",
       " ['Source', {}, '\\n'],\n",
       " ['Source', {}, '\\n'],\n",
       " ['Source', {}, '\\n'],\n",
       " ['Source', {}, '\\n'],\n",
       " ['Source', {}, '\\n'],\n",
       " ['Source', {}, '\\n'],\n",
       " ['Source', {}, '\\n'],\n",
       " ['Source', {}, '\\n'],\n",
       " ['Source', {}, '\\n'],\n",
       " ['Source', {}, '\\n'],\n",
       " ['Source', {}, '\\n'],\n",
       " ['Source', {}, '\\n'],\n",
       " ['Source', {}, '\\n'],\n",
       " ['Source', {}, '\\n'],\n",
       " ['Source', {}, '\\n'],\n",
       " ['Source', {}, '\\n'],\n",
       " ['Source', {}, '\\n'],\n",
       " ['Source', {}, '\\n'],\n",
       " ['Source', {}, '\\n'],\n",
       " ['Source', {}, '\\n'],\n",
       " ['Source', {}, '\\n'],\n",
       " ['Source', {}, '\\n'],\n",
       " ['Source', {}, '\\n'],\n",
       " ['Source', {}, '\\n'],\n",
       " ['Source', {}, '\\n'],\n",
       " ['Source', {}, '\\n'],\n",
       " ['Source', {}, '\\n'],\n",
       " ['Source', {}, '\\n'],\n",
       " ['Source', {}, '\\n'],\n",
       " ['Source', {}, '\\n'],\n",
       " ['Source', {}, '\\n'],\n",
       " ['Source', {}, '\\n'],\n",
       " ['Source', {}, '\\n'],\n",
       " ['Source', {}, '\\n'],\n",
       " ['Source', {}, '\\n'],\n",
       " ['Source', {}, '\\n'],\n",
       " ['Source', {}, '\\n'],\n",
       " ['Source', {}, '\\n'],\n",
       " ['Source', {}, '\\n'],\n",
       " ['Source', {}, '\\n'],\n",
       " ['Source', {}, '\\n'],\n",
       " ['Source', {}, '\\n'],\n",
       " ['Source', {}, '\\n'],\n",
       " ['Source', {}, '\\n'],\n",
       " ['Source', {}, '\\n'],\n",
       " ['Source', {}, '\\n'],\n",
       " ['Source', {}, '\\n'],\n",
       " ['Source', {}, '\\n'],\n",
       " ['Source', {}, '\\n'],\n",
       " ['Source', {}, '\\n'],\n",
       " ['Source', {}, '\\n'],\n",
       " ['Source', {}, '\\n'],\n",
       " ['Source', {}, '\\n'],\n",
       " ['Source', {}, '\\n'],\n",
       " ['Source', {}, '\\n'],\n",
       " ['Source', {}, '\\n'],\n",
       " ['Source', {}, '\\n'],\n",
       " ['Source', {}, '\\n'],\n",
       " ['Source', {}, '\\n'],\n",
       " ['Source', {}, '\\n'],\n",
       " ['Source', {}, '\\n'],\n",
       " ['Source', {}, '\\n'],\n",
       " ['Source', {}, '\\n'],\n",
       " ['Source', {}, '\\n'],\n",
       " ['Source', {}, '\\n'],\n",
       " ['Source', {}, '\\n'],\n",
       " ['Source', {}, '\\n'],\n",
       " ['Source', {}, '\\n'],\n",
       " ['Source', {}, '\\n']]"
      ]
     },
     "execution_count": 5,
     "metadata": {},
     "output_type": "execute_result"
    }
   ],
   "source": [
    "[[child.tag, child.attrib, child.text] for child in root]"
   ]
  },
  {
   "cell_type": "markdown",
   "metadata": {},
   "source": [
    "There are 107 Source tags"
   ]
  },
  {
   "cell_type": "code",
   "execution_count": 6,
   "metadata": {},
   "outputs": [
    {
     "data": {
      "text/plain": [
       "107"
      ]
     },
     "execution_count": 6,
     "metadata": {},
     "output_type": "execute_result"
    }
   ],
   "source": [
    "sources = [child for child in root]\n",
    "len(sources)"
   ]
  },
  {
   "cell_type": "code",
   "execution_count": 7,
   "metadata": {},
   "outputs": [
    {
     "data": {
      "text/plain": [
       "[<Element 'Source' at 0x000002AB47664BD0>,\n",
       " <Element 'Source' at 0x000002AB48622A40>,\n",
       " <Element 'Source' at 0x000002AB48A41950>,\n",
       " <Element 'Source' at 0x000002AB48AA2D10>,\n",
       " <Element 'Source' at 0x000002AB48B64A40>,\n",
       " <Element 'Source' at 0x000002AB48CCC4F0>,\n",
       " <Element 'Source' at 0x000002AB491B7F90>,\n",
       " <Element 'Source' at 0x000002AB493C6040>,\n",
       " <Element 'Source' at 0x000002AB49450720>,\n",
       " <Element 'Source' at 0x000002AB4A093EF0>,\n",
       " <Element 'Source' at 0x000002AB4A163B30>,\n",
       " <Element 'Source' at 0x000002AB4A3FEDB0>,\n",
       " <Element 'Source' at 0x000002AB4A5B8680>,\n",
       " <Element 'Source' at 0x000002AB4A6CCEF0>,\n",
       " <Element 'Source' at 0x000002AB4A75D810>,\n",
       " <Element 'Source' at 0x000002AB4ABE5E00>,\n",
       " <Element 'Source' at 0x000002AB4AC51130>,\n",
       " <Element 'Source' at 0x000002AB4B1CDEA0>,\n",
       " <Element 'Source' at 0x000002AB4B49F360>,\n",
       " <Element 'Source' at 0x000002AB4B549680>,\n",
       " <Element 'Source' at 0x000002AB4B6524A0>,\n",
       " <Element 'Source' at 0x000002AB4B9FFEA0>,\n",
       " <Element 'Source' at 0x000002AB4BA0AC20>,\n",
       " <Element 'Source' at 0x000002AB4BABF950>,\n",
       " <Element 'Source' at 0x000002AB4BB23950>,\n",
       " <Element 'Source' at 0x000002AB4BBAE180>,\n",
       " <Element 'Source' at 0x000002AB4BCC39F0>,\n",
       " <Element 'Source' at 0x000002AB4BD4BB80>,\n",
       " <Element 'Source' at 0x000002AB4BD85810>,\n",
       " <Element 'Source' at 0x000002AB4BE152C0>,\n",
       " <Element 'Source' at 0x000002AB4BE28DB0>,\n",
       " <Element 'Source' at 0x000002AB4BF4D9A0>,\n",
       " <Element 'Source' at 0x000002AB4BF895E0>,\n",
       " <Element 'Source' at 0x000002AB4BFA4F90>,\n",
       " <Element 'Source' at 0x000002AB4C199590>,\n",
       " <Element 'Source' at 0x000002AB4C2195E0>,\n",
       " <Element 'Source' at 0x000002AB4C43F720>,\n",
       " <Element 'Source' at 0x000002AB4C4C1810>,\n",
       " <Element 'Source' at 0x000002AB4C5EFE50>,\n",
       " <Element 'Source' at 0x000002AB4C6196D0>,\n",
       " <Element 'Source' at 0x000002AB4C658A90>,\n",
       " <Element 'Source' at 0x000002AB4C6709F0>,\n",
       " <Element 'Source' at 0x000002AB4C688680>,\n",
       " <Element 'Source' at 0x000002AB4C6FFBD0>,\n",
       " <Element 'Source' at 0x000002AB4C737A40>,\n",
       " <Element 'Source' at 0x000002AB4C7AEEA0>,\n",
       " <Element 'Source' at 0x000002AB4C7C0950>,\n",
       " <Element 'Source' at 0x000002AB4C7CBB30>,\n",
       " <Element 'Source' at 0x000002AB4C80E810>,\n",
       " <Element 'Source' at 0x000002AB4C864720>,\n",
       " <Element 'Source' at 0x000002AB4C883270>,\n",
       " <Element 'Source' at 0x000002AB4C8A6CC0>,\n",
       " <Element 'Source' at 0x000002AB4C8BFDB0>,\n",
       " <Element 'Source' at 0x000002AB4C8E94A0>,\n",
       " <Element 'Source' at 0x000002AB4C901A40>,\n",
       " <Element 'Source' at 0x000002AB4C91C130>,\n",
       " <Element 'Source' at 0x000002AB4C92ED10>,\n",
       " <Element 'Source' at 0x000002AB4C963D60>,\n",
       " <Element 'Source' at 0x000002AB4C9B8180>,\n",
       " <Element 'Source' at 0x000002AB4CA82EA0>,\n",
       " <Element 'Source' at 0x000002AB4CAE0D60>,\n",
       " <Element 'Source' at 0x000002AB4CB18720>,\n",
       " <Element 'Source' at 0x000002AB4CB3C720>,\n",
       " <Element 'Source' at 0x000002AB4CB90C70>,\n",
       " <Element 'Source' at 0x000002AB4CBC1BD0>,\n",
       " <Element 'Source' at 0x000002AB4CC03E50>,\n",
       " <Element 'Source' at 0x000002AB4CC17950>,\n",
       " <Element 'Source' at 0x000002AB4CC44EF0>,\n",
       " <Element 'Source' at 0x000002AB4CC64630>,\n",
       " <Element 'Source' at 0x000002AB4CC702C0>,\n",
       " <Element 'Source' at 0x000002AB4CCAE270>,\n",
       " <Element 'Source' at 0x000002AB4CCF2180>,\n",
       " <Element 'Source' at 0x000002AB4CD32630>,\n",
       " <Element 'Source' at 0x000002AB4CD638B0>,\n",
       " <Element 'Source' at 0x000002AB4CD6F900>,\n",
       " <Element 'Source' at 0x000002AB4CD816D0>,\n",
       " <Element 'Source' at 0x000002AB4CDADE00>,\n",
       " <Element 'Source' at 0x000002AB4CDCD1D0>,\n",
       " <Element 'Source' at 0x000002AB4CDFD4A0>,\n",
       " <Element 'Source' at 0x000002AB4CE16F40>,\n",
       " <Element 'Source' at 0x000002AB4CE399F0>,\n",
       " <Element 'Source' at 0x000002AB4CE39DB0>,\n",
       " <Element 'Source' at 0x000002AB4CE44F40>,\n",
       " <Element 'Source' at 0x000002AB4CE68D60>,\n",
       " <Element 'Source' at 0x000002AB4CE6EE00>,\n",
       " <Element 'Source' at 0x000002AB4CE8A540>,\n",
       " <Element 'Source' at 0x000002AB4CE95EF0>,\n",
       " <Element 'Source' at 0x000002AB4CE9D7C0>,\n",
       " <Element 'Source' at 0x000002AB4CEC1720>,\n",
       " <Element 'Source' at 0x000002AB4CEC9C20>,\n",
       " <Element 'Source' at 0x000002AB4CECEC70>,\n",
       " <Element 'Source' at 0x000002AB4CED2130>,\n",
       " <Element 'Source' at 0x000002AB4CED4F40>,\n",
       " <Element 'Source' at 0x000002AB4CEDFEA0>,\n",
       " <Element 'Source' at 0x000002AB4CEE3220>,\n",
       " <Element 'Source' at 0x000002AB4CEEB630>,\n",
       " <Element 'Source' at 0x000002AB4CEF3540>,\n",
       " <Element 'Source' at 0x000002AB4CEF7130>,\n",
       " <Element 'Source' at 0x000002AB4CEF7590>,\n",
       " <Element 'Source' at 0x000002AB4CEFB590>,\n",
       " <Element 'Source' at 0x000002AB4CEFD1D0>,\n",
       " <Element 'Source' at 0x000002AB4CEFF220>,\n",
       " <Element 'Source' at 0x000002AB4CF01A40>,\n",
       " <Element 'Source' at 0x000002AB4CF06D10>,\n",
       " <Element 'Source' at 0x000002AB4CF0D4F0>,\n",
       " <Element 'Source' at 0x000002AB4CF0DD10>,\n",
       " <Element 'Source' at 0x000002AB4CF0E270>]"
      ]
     },
     "execution_count": 7,
     "metadata": {},
     "output_type": "execute_result"
    }
   ],
   "source": [
    "sources"
   ]
  },
  {
   "cell_type": "markdown",
   "metadata": {},
   "source": [
    "Each Source tag has different length, no attribute and no text"
   ]
  },
  {
   "cell_type": "code",
   "execution_count": 8,
   "metadata": {},
   "outputs": [
    {
     "data": {
      "text/plain": [
       "[(8372, 'Source', {}, '\\n'),\n",
       " (2319, 'Source', {}, '\\n'),\n",
       " (207, 'Source', {}, '\\n'),\n",
       " (401, 'Source', {}, '\\n'),\n",
       " (814, 'Source', {}, '\\n'),\n",
       " (2966, 'Source', {}, '\\n'),\n",
       " (1094, 'Source', {}, '\\n'),\n",
       " (357, 'Source', {}, '\\n'),\n",
       " (7384, 'Source', {}, '\\n'),\n",
       " (435, 'Source', {}, '\\n'),\n",
       " (1570, 'Source', {}, '\\n'),\n",
       " (1123, 'Source', {}, '\\n'),\n",
       " (615, 'Source', {}, '\\n'),\n",
       " (310, 'Source', {}, '\\n'),\n",
       " (2715, 'Source', {}, '\\n'),\n",
       " (236, 'Source', {}, '\\n'),\n",
       " (3039, 'Source', {}, '\\n'),\n",
       " (1956, 'Source', {}, '\\n'),\n",
       " (359, 'Source', {}, '\\n'),\n",
       " (592, 'Source', {}, '\\n'),\n",
       " (2058, 'Source', {}, '\\n'),\n",
       " (26, 'Source', {}, '\\n'),\n",
       " (385, 'Source', {}, '\\n'),\n",
       " (226, 'Source', {}, '\\n'),\n",
       " (362, 'Source', {}, '\\n'),\n",
       " (587, 'Source', {}, '\\n'),\n",
       " (284, 'Source', {}, '\\n'),\n",
       " (126, 'Source', {}, '\\n'),\n",
       " (333, 'Source', {}, '\\n'),\n",
       " (44, 'Source', {}, '\\n'),\n",
       " (617, 'Source', {}, '\\n'),\n",
       " (135, 'Source', {}, '\\n'),\n",
       " (58, 'Source', {}, '\\n'),\n",
       " (1074, 'Source', {}, '\\n'),\n",
       " (277, 'Source', {}, '\\n'),\n",
       " (1149, 'Source', {}, '\\n'),\n",
       " (301, 'Source', {}, '\\n'),\n",
       " (668, 'Source', {}, '\\n'),\n",
       " (83, 'Source', {}, '\\n'),\n",
       " (135, 'Source', {}, '\\n'),\n",
       " (65, 'Source', {}, '\\n'),\n",
       " (58, 'Source', {}, '\\n'),\n",
       " (281, 'Source', {}, '\\n'),\n",
       " (123, 'Source', {}, '\\n'),\n",
       " (285, 'Source', {}, '\\n'),\n",
       " (37, 'Source', {}, '\\n'),\n",
       " (31, 'Source', {}, '\\n'),\n",
       " (142, 'Source', {}, '\\n'),\n",
       " (172, 'Source', {}, '\\n'),\n",
       " (79, 'Source', {}, '\\n'),\n",
       " (78, 'Source', {}, '\\n'),\n",
       " (65, 'Source', {}, '\\n'),\n",
       " (94, 'Source', {}, '\\n'),\n",
       " (49, 'Source', {}, '\\n'),\n",
       " (56, 'Source', {}, '\\n'),\n",
       " (50, 'Source', {}, '\\n'),\n",
       " (113, 'Source', {}, '\\n'),\n",
       " (177, 'Source', {}, '\\n'),\n",
       " (461, 'Source', {}, '\\n'),\n",
       " (197, 'Source', {}, '\\n'),\n",
       " (132, 'Source', {}, '\\n'),\n",
       " (75, 'Source', {}, '\\n'),\n",
       " (184, 'Source', {}, '\\n'),\n",
       " (101, 'Source', {}, '\\n'),\n",
       " (142, 'Source', {}, '\\n'),\n",
       " (41, 'Source', {}, '\\n'),\n",
       " (96, 'Source', {}, '\\n'),\n",
       " (80, 'Source', {}, '\\n'),\n",
       " (25, 'Source', {}, '\\n'),\n",
       " (130, 'Source', {}, '\\n'),\n",
       " (161, 'Source', {}, '\\n'),\n",
       " (139, 'Source', {}, '\\n'),\n",
       " (115, 'Source', {}, '\\n'),\n",
       " (26, 'Source', {}, '\\n'),\n",
       " (50, 'Source', {}, '\\n'),\n",
       " (86, 'Source', {}, '\\n'),\n",
       " (71, 'Source', {}, '\\n'),\n",
       " (111, 'Source', {}, '\\n'),\n",
       " (64, 'Source', {}, '\\n'),\n",
       " (71, 'Source', {}, '\\n'),\n",
       " (2, 'Source', {}, '\\n'),\n",
       " (28, 'Source', {}, '\\n'),\n",
       " (92, 'Source', {}, '\\n'),\n",
       " (17, 'Source', {}, '\\n'),\n",
       " (58, 'Source', {}, '\\n'),\n",
       " (27, 'Source', {}, '\\n'),\n",
       " (17, 'Source', {}, '\\n'),\n",
       " (86, 'Source', {}, '\\n'),\n",
       " (20, 'Source', {}, '\\n'),\n",
       " (10, 'Source', {}, '\\n'),\n",
       " (7, 'Source', {}, '\\n'),\n",
       " (9, 'Source', {}, '\\n'),\n",
       " (22, 'Source', {}, '\\n'),\n",
       " (7, 'Source', {}, '\\n'),\n",
       " (30, 'Source', {}, '\\n'),\n",
       " (5, 'Source', {}, '\\n'),\n",
       " (9, 'Source', {}, '\\n'),\n",
       " (2, 'Source', {}, '\\n'),\n",
       " (9, 'Source', {}, '\\n'),\n",
       " (4, 'Source', {}, '\\n'),\n",
       " (5, 'Source', {}, '\\n'),\n",
       " (7, 'Source', {}, '\\n'),\n",
       " (14, 'Source', {}, '\\n'),\n",
       " (11, 'Source', {}, '\\n'),\n",
       " (3, 'Source', {}, '\\n'),\n",
       " (2, 'Source', {}, '\\n'),\n",
       " (2, 'Source', {}, '\\n')]"
      ]
     },
     "execution_count": 8,
     "metadata": {},
     "output_type": "execute_result"
    }
   ],
   "source": [
    "# check if each source has attribute or text\n",
    "[(len(child), child.tag, child.attrib, child.text) for child in sources]"
   ]
  },
  {
   "cell_type": "markdown",
   "metadata": {},
   "source": [
    "#### JobAd and SourceName Element"
   ]
  },
  {
   "cell_type": "markdown",
   "metadata": {},
   "source": [
    "JobAd and SourceName are direct children of Source"
   ]
  },
  {
   "cell_type": "code",
   "execution_count": 9,
   "metadata": {},
   "outputs": [
    {
     "data": {
      "text/plain": [
       "{'JobAd', 'SourceName'}"
      ]
     },
     "execution_count": 9,
     "metadata": {},
     "output_type": "execute_result"
    }
   ],
   "source": [
    "set(chain.from_iterable([[child.tag for child in source] for source in sources]))"
   ]
  },
  {
   "cell_type": "markdown",
   "metadata": {},
   "source": [
    "#### JobAd\n",
    "JobAd has 9 kind of tags"
   ]
  },
  {
   "cell_type": "code",
   "execution_count": 10,
   "metadata": {},
   "outputs": [
    {
     "data": {
      "text/plain": [
       "{'Category',\n",
       " 'CloseDate',\n",
       " 'Company',\n",
       " 'ContractTime',\n",
       " 'ContractType',\n",
       " 'Location',\n",
       " 'OpenDate',\n",
       " 'Salary',\n",
       " 'Title'}"
      ]
     },
     "execution_count": 10,
     "metadata": {},
     "output_type": "execute_result"
    }
   ],
   "source": [
    "set(chain.from_iterable([[child.tag for child in jobAd] for jobAd in root.iter(tag='JobAd')]))"
   ]
  },
  {
   "cell_type": "markdown",
   "metadata": {},
   "source": [
    "There are 50703 jobAd tags in the file"
   ]
  },
  {
   "cell_type": "code",
   "execution_count": 11,
   "metadata": {},
   "outputs": [
    {
     "data": {
      "text/plain": [
       "50703"
      ]
     },
     "execution_count": 11,
     "metadata": {},
     "output_type": "execute_result"
    }
   ],
   "source": [
    "len([c for c in root.iter(tag='JobAd')])"
   ]
  },
  {
   "cell_type": "markdown",
   "metadata": {},
   "source": [
    "JobAd elements has no text"
   ]
  },
  {
   "cell_type": "code",
   "execution_count": 12,
   "metadata": {},
   "outputs": [
    {
     "data": {
      "text/plain": [
       "{'\\n'}"
      ]
     },
     "execution_count": 12,
     "metadata": {},
     "output_type": "execute_result"
    }
   ],
   "source": [
    "set([c.text for c in root.iter(tag='JobAd')])"
   ]
  },
  {
   "cell_type": "markdown",
   "metadata": {},
   "source": [
    "JobAd elements have atrribute ID in dict()"
   ]
  },
  {
   "cell_type": "code",
   "execution_count": 13,
   "metadata": {},
   "outputs": [
    {
     "data": {
      "text/plain": [
       "50703"
      ]
     },
     "execution_count": 13,
     "metadata": {},
     "output_type": "execute_result"
    }
   ],
   "source": [
    "len([c.attrib for c in root.iter(tag='JobAd')])"
   ]
  },
  {
   "cell_type": "markdown",
   "metadata": {},
   "source": [
    "each JobAd element has a different number of child element"
   ]
  },
  {
   "cell_type": "code",
   "execution_count": 14,
   "metadata": {},
   "outputs": [
    {
     "data": {
      "text/plain": [
       "{5, 6, 7, 8, 9}"
      ]
     },
     "execution_count": 14,
     "metadata": {},
     "output_type": "execute_result"
    }
   ],
   "source": [
    "set([len(child) for child  in root.findall('Source/JobAd')])"
   ]
  },
  {
   "cell_type": "markdown",
   "metadata": {},
   "source": [
    "Category, CloseDate, Company, ContractTime, ContractType, Location, OpenDate, Salary and Title are direct children of JobAd elements. They are the leaf nodes of the tree."
   ]
  },
  {
   "cell_type": "code",
   "execution_count": 15,
   "metadata": {},
   "outputs": [
    {
     "name": "stdout",
     "output_type": "stream",
     "text": [
      "ContractType : set()\n",
      "OpenDate : set()\n",
      "Salary : set()\n",
      "Category : set()\n",
      "CloseDate : set()\n",
      "Location : set()\n",
      "Company : set()\n",
      "Title : set()\n",
      "ContractTime : set()\n"
     ]
    }
   ],
   "source": [
    "leaf_node = list(set(chain.from_iterable([[child.tag for child in jobAd] for jobAd in root.iter(tag='JobAd')])))\n",
    "for leaf in leaf_node:\n",
    "    print(leaf, ':', set(chain.from_iterable([[i for i in child] for child in root.iter(tag=leaf)])))"
   ]
  },
  {
   "cell_type": "markdown",
   "metadata": {},
   "source": [
    "the leaf nodes have not attribute"
   ]
  },
  {
   "cell_type": "code",
   "execution_count": 16,
   "metadata": {},
   "outputs": [
    {
     "name": "stdout",
     "output_type": "stream",
     "text": [
      "ContractType : set()\n",
      "OpenDate : set()\n",
      "Salary : set()\n",
      "Category : set()\n",
      "CloseDate : set()\n",
      "Location : set()\n",
      "Company : set()\n",
      "Title : set()\n",
      "ContractTime : set()\n"
     ]
    }
   ],
   "source": [
    "for leaf in leaf_node:\n",
    "    print(leaf, ':', set(chain.from_iterable([child.attrib for child in root.iter(tag=leaf)])))"
   ]
  },
  {
   "cell_type": "markdown",
   "metadata": {},
   "source": [
    "the leaf nodes have text "
   ]
  },
  {
   "cell_type": "code",
   "execution_count": 17,
   "metadata": {},
   "outputs": [
    {
     "name": "stdout",
     "output_type": "stream",
     "text": [
      "ContractType : True\n",
      "OpenDate : True\n",
      "Salary : True\n",
      "Category : True\n",
      "CloseDate : True\n",
      "Location : True\n",
      "Company : True\n",
      "Title : True\n",
      "ContractTime : True\n"
     ]
    }
   ],
   "source": [
    "for leaf in leaf_node:\n",
    "    print(leaf, ':', all([len(child.text) != 0 for child in root.iter(tag=leaf)]))"
   ]
  },
  {
   "cell_type": "markdown",
   "metadata": {},
   "source": [
    "#### SourceName\n",
    "the SourceName size is equal to root element size at 107. It means that there are one Source name for each source"
   ]
  },
  {
   "cell_type": "code",
   "execution_count": 18,
   "metadata": {},
   "outputs": [
    {
     "data": {
      "text/plain": [
       "107"
      ]
     },
     "execution_count": 18,
     "metadata": {},
     "output_type": "execute_result"
    }
   ],
   "source": [
    "sourceNames = tree.findall('Source/SourceName')\n",
    "len(sourceNames)"
   ]
  },
  {
   "cell_type": "markdown",
   "metadata": {},
   "source": [
    "SourceName has no child"
   ]
  },
  {
   "cell_type": "code",
   "execution_count": 19,
   "metadata": {},
   "outputs": [
    {
     "data": {
      "text/plain": [
       "set()"
      ]
     },
     "execution_count": 19,
     "metadata": {},
     "output_type": "execute_result"
    }
   ],
   "source": [
    "set(chain.from_iterable([[c for c in child] for child in sourceNames]))"
   ]
  },
  {
   "cell_type": "markdown",
   "metadata": {},
   "source": [
    "SourceName elements has no attribute"
   ]
  },
  {
   "cell_type": "code",
   "execution_count": 20,
   "metadata": {},
   "outputs": [
    {
     "data": {
      "text/plain": [
       "set()"
      ]
     },
     "execution_count": 20,
     "metadata": {},
     "output_type": "execute_result"
    }
   ],
   "source": [
    "set(chain.from_iterable([child.attrib for child in sourceNames]))"
   ]
  },
  {
   "cell_type": "markdown",
   "metadata": {},
   "source": [
    "each SourceName elements has text"
   ]
  },
  {
   "cell_type": "code",
   "execution_count": 21,
   "metadata": {},
   "outputs": [
    {
     "data": {
      "text/plain": [
       "True"
      ]
     },
     "execution_count": 21,
     "metadata": {},
     "output_type": "execute_result"
    }
   ],
   "source": [
    "all([len(child.text) !=0 for child in sourceNames])"
   ]
  },
  {
   "cell_type": "markdown",
   "metadata": {},
   "source": [
    "##### Conclusion for part 1.1 Parsing data\n",
    "There are 107 Sources in the JobAds element.<br>\n",
    "Each Source element has one SourceName element and vary number of JobAd elements.<br>\n",
    "Each SourName element has text , no attribute and no child.<br>\n",
    "Each JobAd elements has vary number of children. <br>\n",
    "Children tags are Category, CloseDate, Company, ContractTime, ContractType, Location, OpenDate, Salary and Title"
   ]
  },
  {
   "cell_type": "markdown",
   "metadata": {},
   "source": [
    "### 1.2 Parsing data into the required format"
   ]
  },
  {
   "cell_type": "code",
   "execution_count": 22,
   "metadata": {},
   "outputs": [],
   "source": [
    "# create a dictionary to store element's info\n",
    "dataDict={}\n",
    "\n",
    "# each element is a array of values corresponded to each job ad\n",
    "dataDict['ID'] = []\n",
    "dataDict['Title'] = []\n",
    "dataDict['Location'] = []\n",
    "dataDict['Company'] = []\n",
    "dataDict['ContractType'] = []\n",
    "dataDict['ContractTime'] = []\n",
    "dataDict['Category'] = []\n",
    "dataDict[\"Salary\"] = []\n",
    "dataDict[\"OpenDate\"] = []\n",
    "dataDict['CloseDate'] = []\n",
    "dataDict['SourceName'] = []\n",
    "\n",
    "# iterate to each job ad to extract children info\n",
    "for elem in root.iter('JobAd'):\n",
    "    \n",
    "    dataDict['ID'].append(elem.attrib['ID']) \n",
    "    \n",
    "    dataDict['Title'].append(''.join([sa.text for sa in elem.findall('Title')]))\n",
    "    \n",
    "    dataDict['Location'].append(''.join([loc.text for loc in elem.findall('Location')]))\n",
    "    \n",
    "    dataDict['Company'].append(''.join([com.text for com in elem.findall('Company')]))\n",
    "                              \n",
    "    dataDict['ContractType'].append(''.join([contr.text for contr in elem.findall('ContractType')]))\n",
    "    \n",
    "    dataDict['ContractTime'].append(''.join([contime.text for contime in elem.findall('ContractTime')]))\n",
    "    \n",
    "    dataDict['Category'].append(''.join([cat.text for cat in elem.findall('Category')]))\n",
    "    \n",
    "    dataDict[\"Salary\"].append(''.join([sa.text for sa in elem.findall('Salary')]))\n",
    "    \n",
    "    dataDict[\"OpenDate\"].append(''.join([op.text for op in elem.findall('OpenDate')]))\n",
    "    \n",
    "    dataDict['CloseDate'].append(''.join([clo.text for clo in elem.findall('CloseDate')]))\n",
    "    \n",
    "    \n",
    "for elem in root:\n",
    "    name = elem[0].text\n",
    "    for job in elem.findall('JobAd'):\n",
    "        dataDict['SourceName'].append(name)   "
   ]
  },
  {
   "cell_type": "code",
   "execution_count": 23,
   "metadata": {},
   "outputs": [
    {
     "name": "stdout",
     "output_type": "stream",
     "text": [
      "ID: 50703\n",
      "Title: 50703\n",
      "Location: 50703\n",
      "Company: 50703\n",
      "ContractType: 50703\n",
      "ContractTime: 50703\n",
      "Category: 50703\n",
      "Salary: 50703\n",
      "OpenDate: 50703\n",
      "CloseDate: 50703\n",
      "SourceName:  50703\n"
     ]
    }
   ],
   "source": [
    "print('ID:', len(dataDict['ID']))\n",
    "print('Title:', len(dataDict['Title']))\n",
    "print('Location:', len(dataDict['Location']))\n",
    "print(\"Company:\", len(dataDict['Company']))\n",
    "print('ContractType:', len(dataDict['ContractType']))\n",
    "print('ContractTime:', len(dataDict['ContractTime']))\n",
    "print('Category:', len(dataDict['Category']))\n",
    "print(\"Salary:\", len(dataDict[\"Salary\"]))\n",
    "print(\"OpenDate:\", len(dataDict[\"OpenDate\"]))\n",
    "print('CloseDate:', len(dataDict['CloseDate']))\n",
    "print('SourceName: ', len(dataDict['SourceName']))"
   ]
  },
  {
   "cell_type": "code",
   "execution_count": 24,
   "metadata": {
    "scrolled": true
   },
   "outputs": [
    {
     "data": {
      "text/html": [
       "<div>\n",
       "<style scoped>\n",
       "    .dataframe tbody tr th:only-of-type {\n",
       "        vertical-align: middle;\n",
       "    }\n",
       "\n",
       "    .dataframe tbody tr th {\n",
       "        vertical-align: top;\n",
       "    }\n",
       "\n",
       "    .dataframe thead th {\n",
       "        text-align: right;\n",
       "    }\n",
       "</style>\n",
       "<table border=\"1\" class=\"dataframe\">\n",
       "  <thead>\n",
       "    <tr style=\"text-align: right;\">\n",
       "      <th></th>\n",
       "      <th>ID</th>\n",
       "      <th>Title</th>\n",
       "      <th>Location</th>\n",
       "      <th>Company</th>\n",
       "      <th>ContractType</th>\n",
       "      <th>ContractTime</th>\n",
       "      <th>Category</th>\n",
       "      <th>Salary</th>\n",
       "      <th>OpenDate</th>\n",
       "      <th>CloseDate</th>\n",
       "      <th>SourceName</th>\n",
       "    </tr>\n",
       "  </thead>\n",
       "  <tbody>\n",
       "    <tr>\n",
       "      <th>0</th>\n",
       "      <td>71851622</td>\n",
       "      <td>Accounts Payable Team Lead w/Oracle €****k</td>\n",
       "      <td>UK</td>\n",
       "      <td>Adecco Group</td>\n",
       "      <td>N/A</td>\n",
       "      <td>permanent</td>\n",
       "      <td>Accounting &amp; Finance Jobs</td>\n",
       "      <td>47500</td>\n",
       "      <td>20130112T000000</td>\n",
       "      <td>20130313T000000</td>\n",
       "      <td>totaljobs.com</td>\n",
       "    </tr>\n",
       "    <tr>\n",
       "      <th>1</th>\n",
       "      <td>69170699</td>\n",
       "      <td>Head of IT/ IT Manager</td>\n",
       "      <td>UK</td>\n",
       "      <td>Senitor Associates</td>\n",
       "      <td>N/A</td>\n",
       "      <td>permanent</td>\n",
       "      <td>IT Jobs</td>\n",
       "      <td>47500</td>\n",
       "      <td>20131215T120000</td>\n",
       "      <td>20140315T120000</td>\n",
       "      <td>totaljobs.com</td>\n",
       "    </tr>\n",
       "    <tr>\n",
       "      <th>2</th>\n",
       "      <td>68701057</td>\n",
       "      <td>Business Development Manager  Marketing/Digital</td>\n",
       "      <td>UK</td>\n",
       "      <td>Pure Recruitment</td>\n",
       "      <td>N/A</td>\n",
       "      <td>permanent</td>\n",
       "      <td>PR, Advertising &amp; Marketing Jobs</td>\n",
       "      <td>32500</td>\n",
       "      <td>20130706T000000</td>\n",
       "      <td>20130904T000000</td>\n",
       "      <td>totaljobs.com</td>\n",
       "    </tr>\n",
       "    <tr>\n",
       "      <th>3</th>\n",
       "      <td>65183561</td>\n",
       "      <td>Project/Design Engineer</td>\n",
       "      <td>Wales</td>\n",
       "      <td>HUNTER SELECTION</td>\n",
       "      <td>N/A</td>\n",
       "      <td>permanent</td>\n",
       "      <td>Engineering Jobs</td>\n",
       "      <td>27500</td>\n",
       "      <td>20130916T150000</td>\n",
       "      <td>20131016T150000</td>\n",
       "      <td>totaljobs.com</td>\n",
       "    </tr>\n",
       "    <tr>\n",
       "      <th>4</th>\n",
       "      <td>68712637</td>\n",
       "      <td>Italian and/or Spanish Inside Sales Representa...</td>\n",
       "      <td>London</td>\n",
       "      <td>Euro London Appointments   London</td>\n",
       "      <td>N/A</td>\n",
       "      <td>permanent</td>\n",
       "      <td>Sales Jobs</td>\n",
       "      <td>32500</td>\n",
       "      <td>20120404T150000</td>\n",
       "      <td>20120703T150000</td>\n",
       "      <td>totaljobs.com</td>\n",
       "    </tr>\n",
       "  </tbody>\n",
       "</table>\n",
       "</div>"
      ],
      "text/plain": [
       "         ID                                              Title Location  \\\n",
       "0  71851622         Accounts Payable Team Lead w/Oracle €****k       UK   \n",
       "1  69170699                             Head of IT/ IT Manager       UK   \n",
       "2  68701057    Business Development Manager  Marketing/Digital       UK   \n",
       "3  65183561                            Project/Design Engineer    Wales   \n",
       "4  68712637  Italian and/or Spanish Inside Sales Representa...   London   \n",
       "\n",
       "                             Company ContractType ContractTime  \\\n",
       "0                       Adecco Group          N/A    permanent   \n",
       "1                 Senitor Associates          N/A    permanent   \n",
       "2                   Pure Recruitment          N/A    permanent   \n",
       "3                   HUNTER SELECTION          N/A    permanent   \n",
       "4  Euro London Appointments   London          N/A    permanent   \n",
       "\n",
       "                           Category Salary         OpenDate        CloseDate  \\\n",
       "0         Accounting & Finance Jobs  47500  20130112T000000  20130313T000000   \n",
       "1                           IT Jobs  47500  20131215T120000  20140315T120000   \n",
       "2  PR, Advertising & Marketing Jobs  32500  20130706T000000  20130904T000000   \n",
       "3                  Engineering Jobs  27500  20130916T150000  20131016T150000   \n",
       "4                        Sales Jobs  32500  20120404T150000  20120703T150000   \n",
       "\n",
       "      SourceName  \n",
       "0  totaljobs.com  \n",
       "1  totaljobs.com  \n",
       "2  totaljobs.com  \n",
       "3  totaljobs.com  \n",
       "4  totaljobs.com  "
      ]
     },
     "execution_count": 24,
     "metadata": {},
     "output_type": "execute_result"
    }
   ],
   "source": [
    "df = pd.DataFrame(dataDict)\n",
    "df.head()"
   ]
  },
  {
   "cell_type": "code",
   "execution_count": 25,
   "metadata": {},
   "outputs": [
    {
     "data": {
      "text/plain": [
       "(50703, 11)"
      ]
     },
     "execution_count": 25,
     "metadata": {},
     "output_type": "execute_result"
    }
   ],
   "source": [
    "df.shape"
   ]
  },
  {
   "cell_type": "markdown",
   "metadata": {},
   "source": [
    "<i>Summary:<i>all info of selected elements are extracted in a dataframe"
   ]
  },
  {
   "cell_type": "markdown",
   "metadata": {},
   "source": [
    "......"
   ]
  },
  {
   "cell_type": "markdown",
   "metadata": {},
   "source": [
    "## Task 2. Auditing and cleansing the loaded data\n"
   ]
  },
  {
   "cell_type": "code",
   "execution_count": 26,
   "metadata": {},
   "outputs": [
    {
     "name": "stdout",
     "output_type": "stream",
     "text": [
      "<class 'pandas.core.frame.DataFrame'>\n",
      "RangeIndex: 50703 entries, 0 to 50702\n",
      "Data columns (total 11 columns):\n",
      " #   Column        Non-Null Count  Dtype \n",
      "---  ------        --------------  ----- \n",
      " 0   ID            50703 non-null  object\n",
      " 1   Title         50703 non-null  object\n",
      " 2   Location      50703 non-null  object\n",
      " 3   Company       50703 non-null  object\n",
      " 4   ContractType  50703 non-null  object\n",
      " 5   ContractTime  50703 non-null  object\n",
      " 6   Category      50703 non-null  object\n",
      " 7   Salary        50703 non-null  object\n",
      " 8   OpenDate      50703 non-null  object\n",
      " 9   CloseDate     50703 non-null  object\n",
      " 10  SourceName    50703 non-null  object\n",
      "dtypes: object(11)\n",
      "memory usage: 4.3+ MB\n"
     ]
    }
   ],
   "source": [
    "# general info about the data\n",
    "df.info()"
   ]
  },
  {
   "cell_type": "code",
   "execution_count": 27,
   "metadata": {},
   "outputs": [],
   "source": [
    "# create and error recorder (i.e. the erlist)\n",
    "itemlist = ['indexOfdf','Id', 'ColumnName', 'Orignal', 'Modified', 'ErrorType','Fixing']\n",
    "erlist = pd.DataFrame(columns=itemlist)\n",
    "erlist\n",
    "# update error list by attributes\n",
    "def updateErlist(indexOfdf, Id, ColumnName, Orignal, Modified, ErrorType, Fixing):\n",
    "    errItem=[indexOfdf,Id, ColumnName, Orignal, Modified, ErrorType,Fixing]\n",
    "    erlist.loc[len(erlist)]=errItem"
   ]
  },
  {
   "cell_type": "markdown",
   "metadata": {},
   "source": [
    "##### 2.1. ID CLEANSING"
   ]
  },
  {
   "cell_type": "code",
   "execution_count": 28,
   "metadata": {
    "scrolled": true
   },
   "outputs": [
    {
     "name": "stdout",
     "output_type": "stream",
     "text": [
      "all IDs is number\n"
     ]
    },
    {
     "data": {
      "text/plain": [
       "[]    50703\n",
       "Name: ID, dtype: int64"
      ]
     },
     "execution_count": 28,
     "metadata": {},
     "output_type": "execute_result"
    }
   ],
   "source": [
    "# check for non digit pattern\n",
    "print('all IDs is number')\n",
    "df.ID.apply(lambda x: re.findall(r'\\D+', x)).astype('str').value_counts()"
   ]
  },
  {
   "cell_type": "code",
   "execution_count": 29,
   "metadata": {},
   "outputs": [
    {
     "data": {
      "text/plain": [
       "[]    50703\n",
       "Name: ID, dtype: int64"
      ]
     },
     "execution_count": 29,
     "metadata": {},
     "output_type": "execute_result"
    }
   ],
   "source": [
    "# check for missing values\n",
    "df.ID.apply(lambda x: re.findall(r'^N/A$|^\\s+$', x)).astype('str').value_counts()"
   ]
  },
  {
   "cell_type": "code",
   "execution_count": 30,
   "metadata": {},
   "outputs": [
    {
     "data": {
      "text/plain": [
       "[]    50703\n",
       "Name: ID, dtype: int64"
      ]
     },
     "execution_count": 30,
     "metadata": {},
     "output_type": "execute_result"
    }
   ],
   "source": [
    "# check for row which non digit characters\n",
    "df.ID.apply(lambda x: re.findall(r'^\\D{8}$',x)).astype('str').value_counts()"
   ]
  },
  {
   "cell_type": "code",
   "execution_count": 31,
   "metadata": {},
   "outputs": [],
   "source": [
    "# convert ID to int\n",
    "df.ID = df.ID.apply(lambda x : int(x))"
   ]
  },
  {
   "cell_type": "code",
   "execution_count": 32,
   "metadata": {},
   "outputs": [],
   "source": [
    "# updating error list\n",
    "updateErlist('ALL', 'ALL', 'ID', 'ALL', 'ALL', 'Wrong data type', 'type cast from string to integer')"
   ]
  },
  {
   "cell_type": "markdown",
   "metadata": {},
   "source": [
    "##### 2.2. Title"
   ]
  },
  {
   "cell_type": "code",
   "execution_count": 33,
   "metadata": {},
   "outputs": [
    {
     "data": {
      "text/plain": [
       "Theatre Nurses                                                      2\n",
       "Primary Teacher Vacancies  Rotherham                                2\n",
       "C ASPNet Developer  Basingstoke  ****k To ****k                     2\n",
       "Sponsorship Sales Manager                                           1\n",
       "Business Development Manager/ Cloud Sales/ Software Sales           1\n",
       "                                                                   ..\n",
       "Change / Project Manager  Finance                                   1\n",
       "Networks & Linux Consultant                                         1\n",
       "Accounts Assistant x ****                                           1\n",
       "Grails Developers Permanent Home Based                              1\n",
       "Proposals Coordinator  North West London  **** 12 month contract    1\n",
       "Name: Title, Length: 50700, dtype: int64"
      ]
     },
     "execution_count": 33,
     "metadata": {},
     "output_type": "execute_result"
    }
   ],
   "source": [
    "df.Title.value_counts()"
   ]
  },
  {
   "cell_type": "code",
   "execution_count": 34,
   "metadata": {},
   "outputs": [
    {
     "data": {
      "text/plain": [
       "[]          50702\n",
       "['****']        1\n",
       "Name: Title, dtype: int64"
      ]
     },
     "execution_count": 34,
     "metadata": {},
     "output_type": "execute_result"
    }
   ],
   "source": [
    "# check for missing values\n",
    "df.Title.apply(lambda x: re.findall(r'^\\W+$',x)).astype('str').value_counts()"
   ]
  },
  {
   "cell_type": "code",
   "execution_count": 35,
   "metadata": {},
   "outputs": [
    {
     "data": {
      "text/plain": [
       "[]    50703\n",
       "Name: Title, dtype: int64"
      ]
     },
     "execution_count": 35,
     "metadata": {},
     "output_type": "execute_result"
    }
   ],
   "source": [
    "df.Title.apply(lambda x: re.findall(r'^N/A$',x)).astype('str').value_counts()"
   ]
  },
  {
   "cell_type": "code",
   "execution_count": 36,
   "metadata": {},
   "outputs": [
    {
     "data": {
      "text/html": [
       "<div>\n",
       "<style scoped>\n",
       "    .dataframe tbody tr th:only-of-type {\n",
       "        vertical-align: middle;\n",
       "    }\n",
       "\n",
       "    .dataframe tbody tr th {\n",
       "        vertical-align: top;\n",
       "    }\n",
       "\n",
       "    .dataframe thead th {\n",
       "        text-align: right;\n",
       "    }\n",
       "</style>\n",
       "<table border=\"1\" class=\"dataframe\">\n",
       "  <thead>\n",
       "    <tr style=\"text-align: right;\">\n",
       "      <th></th>\n",
       "      <th>ID</th>\n",
       "      <th>Title</th>\n",
       "      <th>Location</th>\n",
       "      <th>Company</th>\n",
       "      <th>ContractType</th>\n",
       "      <th>ContractTime</th>\n",
       "      <th>Category</th>\n",
       "      <th>Salary</th>\n",
       "      <th>OpenDate</th>\n",
       "      <th>CloseDate</th>\n",
       "      <th>SourceName</th>\n",
       "    </tr>\n",
       "  </thead>\n",
       "  <tbody>\n",
       "    <tr>\n",
       "      <th>18593</th>\n",
       "      <td>50870368</td>\n",
       "      <td>****</td>\n",
       "      <td>UK</td>\n",
       "      <td>Rullion Engineering Ltd</td>\n",
       "      <td></td>\n",
       "      <td>permanent</td>\n",
       "      <td>Engineering Jobs</td>\n",
       "      <td>34500</td>\n",
       "      <td>20130903T120000</td>\n",
       "      <td>20131202T120000</td>\n",
       "      <td>cv-library.co.uk</td>\n",
       "    </tr>\n",
       "  </tbody>\n",
       "</table>\n",
       "</div>"
      ],
      "text/plain": [
       "             ID Title Location                  Company ContractType  \\\n",
       "18593  50870368  ****       UK  Rullion Engineering Ltd                \n",
       "\n",
       "      ContractTime          Category Salary         OpenDate        CloseDate  \\\n",
       "18593    permanent  Engineering Jobs  34500  20130903T120000  20131202T120000   \n",
       "\n",
       "             SourceName  \n",
       "18593  cv-library.co.uk  "
      ]
     },
     "execution_count": 36,
     "metadata": {},
     "output_type": "execute_result"
    }
   ],
   "source": [
    "# find indice of the error\n",
    "df[df.Title == '****']"
   ]
  },
  {
   "cell_type": "code",
   "execution_count": 37,
   "metadata": {},
   "outputs": [],
   "source": [
    "# report\n",
    "updateErlist(18593, df.loc[18593, 'ID'], 'Title', '****', 'non_specific', 'missing values', 'change to non_specific')\n",
    "\n",
    "# fix\n",
    "df.loc[18593, 'Title'] =  'non_specific'\n"
   ]
  },
  {
   "cell_type": "markdown",
   "metadata": {},
   "source": [
    "#### 2.3. Category "
   ]
  },
  {
   "cell_type": "code",
   "execution_count": 38,
   "metadata": {
    "scrolled": false
   },
   "outputs": [
    {
     "data": {
      "text/plain": [
       "IT Jobs                             13133\n",
       "Healthcare & Nursing Jobs            8184\n",
       "Engineering Jobs                     7201\n",
       "Accounting & Finance Jobs            6801\n",
       "Sales Jobs                           4743\n",
       "Hospitality & Catering Jobs          4530\n",
       "Teaching Jobs                        3559\n",
       "PR, Advertising & Marketing Jobs     2552\n",
       "Name: Category, dtype: int64"
      ]
     },
     "execution_count": 38,
     "metadata": {},
     "output_type": "execute_result"
    }
   ],
   "source": [
    "# check unique values and their frequency \n",
    "df.Category.value_counts()"
   ]
  },
  {
   "cell_type": "code",
   "execution_count": 39,
   "metadata": {},
   "outputs": [
    {
     "data": {
      "text/plain": [
       "50703"
      ]
     },
     "execution_count": 39,
     "metadata": {},
     "output_type": "execute_result"
    }
   ],
   "source": [
    "# all categorical values are matching\n",
    "df.Category.value_counts().sum()"
   ]
  },
  {
   "cell_type": "markdown",
   "metadata": {},
   "source": [
    "<i>Summary: <i>All the category values are matching with <br>\n",
    "    IT Jobs<br> Healthcare & Nursing Jobs<br> Engineering Jobs <br> Accounting & Finance Jobs <br> Sales Jobs <br> Hospitality & Catering Jobs<br> Teaching Jobs<br> PR, Advertising & Marketing Jobs<br>\n",
    "It is clear of error"
   ]
  },
  {
   "cell_type": "markdown",
   "metadata": {},
   "source": [
    "##### 2.4. Location   "
   ]
  },
  {
   "cell_type": "code",
   "execution_count": 40,
   "metadata": {},
   "outputs": [
    {
     "data": {
      "text/plain": [
       "array(['ABERDEEN', 'Aberdeen', 'Aberdeenshire', 'Abingdon', 'Accrington',\n",
       "       'Addlestone', 'Alcester', 'Aldershot', 'Alfreton', 'Alton',\n",
       "       'Altrincham', 'Amersham', 'Andover', 'Antrim', 'Arundel',\n",
       "       'Ash Green', 'Ashford', 'Avon', 'Axbridge', 'Aylesbury', 'BRISTOL',\n",
       "       'Bagshot', 'Banbury', 'Bangor', 'Barking', 'Barnet', 'Barnsley',\n",
       "       'Barnstaple', 'Barrow-In-Furness', 'Basildon', 'Basingstoke',\n",
       "       'Bath', 'Beaconsfield', 'Bedford', 'Bedfordshire', 'Belfast',\n",
       "       'Berkshire', 'Bexhill-On-Sea', 'Bexley', 'Bicester', 'Birkenhead',\n",
       "       'Birmingham', 'Blackburn', 'Blackpool', 'Blaenau Gwent',\n",
       "       'Bognor Regis', 'Boldon Colliery', 'Bolton', 'Bolton Le Sands',\n",
       "       'Borehamwood', 'Boston', 'Bourne End', 'Bournemouth', 'Bracknell',\n",
       "       'Bradford', 'Braintree', 'Brent Cross', 'Brentwood', 'Bridgend',\n",
       "       'Bridgwater', 'Brierley Hill', 'Brighton', 'Bristol', 'Broadfield',\n",
       "       'Bromley', 'Bromsgrove', 'Buckingham', 'Buckinghamshire',\n",
       "       'Burgess Hill', 'Burnley', 'Burton-On-Trent', 'Bury',\n",
       "       'Bury St. Edmunds', 'Byfleet', 'Caerphilly', 'Calcot', 'Camberley',\n",
       "       'Cambridge', 'Cambridgeshire', 'Camden', 'Camden Town',\n",
       "       'Canary Wharf', 'Cannock', 'Canterbury', 'Cardiff', 'Carlisle',\n",
       "       'Castleford', 'Cembridge', 'Central London', 'Chatham', 'Cheadle',\n",
       "       'Chelmsford', 'Cheltenham', 'Chertsey', 'Chesham', 'Cheshire',\n",
       "       'Chester', 'Chesterfield', 'Chichester', 'Chippenham',\n",
       "       'Chipping Campden', 'Chipping Norton', 'Chorley', 'Christchurch',\n",
       "       'Cirencester', 'City', 'Clacton-On-Sea', 'Cliddesden', 'Clifton',\n",
       "       'Cobham', 'Colchester', 'Corby', 'Cornwall', 'Coscote',\n",
       "       'Covent Garden', 'Coventry', 'Craigiehall', 'Crawley',\n",
       "       'Cressington', 'Crewe', 'Croydon', 'Cumbria', 'Cwmbran',\n",
       "       'Darlington', 'Dartford', 'Daventry', 'Derby', 'Derbyshire',\n",
       "       'Devizes', 'Devon', 'Dewsbury', 'Didcot', 'Docklands', 'Doncaster',\n",
       "       'Dorchester', 'Dorking', 'Dorset', 'Dover', 'Droitwich', 'Dudley',\n",
       "       'Dumfries', 'Dundee', 'Dunfermline', 'Dunstable', 'Durham',\n",
       "       'Ealing', 'East Grinstead', 'East London', 'East Midlands',\n",
       "       'East Riding', 'East Sheen', 'East Sussex', 'Eastbourne',\n",
       "       'Eastern England', 'Eastleigh', 'Edinburgh',\n",
       "       'Edinburgh Technopole', 'Egham', 'Ely', 'Enfield', 'Epsom',\n",
       "       'Essex', 'Evesham', 'Exeter', 'Fareham', 'Farnborough', 'Farnham',\n",
       "       'Ferndown', 'Fife', 'Fleet', 'Folkestone', 'Frome', 'Gainsborough',\n",
       "       'Gateshead', 'Gatwick', 'Gaydon', 'Gerrards Cross', 'Gillingham',\n",
       "       'Glasgow', 'Glasgow East Investment Park', 'Glenrothes',\n",
       "       'Gloucester', 'Gloucestershire', 'Godalming', 'Gosport',\n",
       "       'Grantham', 'Gravesend', 'Great Yarmouth', 'Greater Manchester',\n",
       "       'Greenwich', 'Grimsby', 'Guildford', 'HAMpshire', 'Hackney',\n",
       "       'Halesowen', 'Halifax', 'Hampshire', 'Handbridge', 'Harlow',\n",
       "       'Harrogate', 'Harrow', 'Haslemere', 'Hastings', 'Hatfield',\n",
       "       'Havant', 'Haywards Heath', 'Hemel Hempstead', 'Henley-On-Thames',\n",
       "       'Hereford', 'Herefordshire', 'Hertford', 'Hertfordshire',\n",
       "       'High Wycombe', 'Highlands', 'Hinckley', 'Hitchin', 'Hook',\n",
       "       'Horsforth', 'Horsham', 'Hounslow', 'Hove', 'Huddersfield', 'Hull',\n",
       "       'Hungerford', 'Huntingdon', 'Ilford', 'Inverness', 'Ipswich',\n",
       "       'Isle Of Wight', 'Jersey', 'Keighley', 'Kendal', 'Kenilworth',\n",
       "       'Kensington', 'Kent', 'Kettering', 'Kidderminster', 'Kidlington',\n",
       "       \"King's Lynn\", 'Kingston Upon Thames', 'Knaresborough',\n",
       "       'Knutsford', 'Lambeth', 'Lancashire', 'Lancaster', 'Leads',\n",
       "       'Leamington Spa', 'Leatherhead', 'Leeds', 'Leicester',\n",
       "       'Leicestershire', 'Leighton Buzzard', 'Letchworth Garden City',\n",
       "       'Lewes', 'Lewisham', 'Leyland', 'Lichfield', 'Lincoln',\n",
       "       'Lincolnshire', 'Linlithgow', 'Little Chesterford',\n",
       "       'Littlehampton', 'Livepool', 'Liverpool', 'Livingston',\n",
       "       'Llandaff North', 'London', 'Loughborough', 'Lowestoft', 'Luton',\n",
       "       'Lutterworth', 'Macclesfield', 'Maidenhead', 'Maidstone',\n",
       "       'Manchaster', 'Manchester', 'Manchester Science Park', 'Mansfield',\n",
       "       'March', 'Margate', 'Market Harborough', 'Marlow',\n",
       "       'Marton-In-Cleveland', 'Matlock', 'Melksham', 'Melton Mowbray',\n",
       "       'Merseyside', 'Middlesbrough', 'Midlothian', 'Milton Keynes',\n",
       "       'Morecambe', 'Morpeth', 'Newark', 'Newbury', 'Newcastle Upon Tyne',\n",
       "       'Newcastle-under-Lyme', 'Newport', 'Newport Pagnell',\n",
       "       'Newton Abbot', 'Norfolk', 'Normanton', 'North Ayrshire',\n",
       "       'North East England', 'North Finchley', 'North Lambeth',\n",
       "       'North London', 'North Shields', 'North West England',\n",
       "       'North West London', 'North Yorkshire', 'Northallerton',\n",
       "       'Northampton', 'Northamptonshire', 'Northern Ireland',\n",
       "       'Northumberland', 'Northwich', 'Norwich', 'Nottingham',\n",
       "       'Nottinghamshire', 'Nuneaton', 'Oldbury', 'Oldham', 'Oxford',\n",
       "       'Oxfords', 'Oxfordshire', 'Perth', 'Peterborough', 'Petersfield',\n",
       "       'Plymouth', 'Pontefract', 'Poole', 'Portsmouth', 'Potters Bar',\n",
       "       'Prescot', 'Preston', 'Reading', 'Redcar', 'Redditch', 'Redhill',\n",
       "       'Reigate', 'Richmond', 'Rickmansworth', 'Rochdale', 'Rochester',\n",
       "       'Romford', 'Rotherham', 'Rugby', 'Runcorn', 'Rushden', 'Sale',\n",
       "       'Salford', 'Salisbury', 'Scarborough', 'Scotland', 'Scunthorpe',\n",
       "       'Sea', 'Selby', 'Sevenoaks', 'Sheffield', 'Shepton Mallet',\n",
       "       'Shipley', 'Shrewsbury', 'Shropshire', 'Sidcup', 'Sittingbourne',\n",
       "       'Skipton', 'Slough', 'Solihull', 'Somerset', 'Sompting',\n",
       "       'South Brent', 'South Croydon', 'South East England',\n",
       "       'South East London', 'South Lanarkshire', 'South Shields',\n",
       "       'South West England', 'South West London', 'South Yorkshire',\n",
       "       'Southampton', 'Southampton International Airport',\n",
       "       'Southend-On-Sea', 'Southport', 'Southwark', 'St. Albans',\n",
       "       'St. Helens', 'St. Ives', 'St. Neots', 'Stafford', 'Staffordshire',\n",
       "       'Staines', 'Stamford', 'Stevenage', 'Stirling', 'Stockport',\n",
       "       'Stockton-On-Tees', 'Stoke-On-Trent', 'Stourbridge',\n",
       "       'Stratford-Upon-Avon', 'Stroud', 'Sudbury', 'Suffolk',\n",
       "       'Sunderland', 'Surrey', 'Sutton Coldfield', 'Sutton Green',\n",
       "       'Sutton-In-Ashfield', 'Swadlincote', 'Swanley', 'Swansea',\n",
       "       'Swindon', 'Tadworth', 'Tamworth', 'Taunton', 'Telford',\n",
       "       'Tewkesbury', 'Thame', 'Thames Ditton', 'Thatcham', 'The City',\n",
       "       'Thetford', 'Thirsk', 'Thorpe St. Andrew', 'Tonbridge', 'Torquay',\n",
       "       'Towcester', 'Trent', 'Trowbridge', 'Truro', 'Tunbridge Wells',\n",
       "       'Twickenham', 'Two Mile Ash', 'UK', 'Uckfield', 'Uxbridge',\n",
       "       'Wakefield', 'Wales', 'Walsall', 'Walton-On-Thames', 'Warminster',\n",
       "       'Warrington', 'Warwick', 'Warwickshire', 'Washington',\n",
       "       'Waterlooville', 'Watford', 'Wellingborough', 'Welwyn Garden City',\n",
       "       'West Bromwich', 'West End', 'West London', 'West Lothian',\n",
       "       'West Malling', 'West Midlands', 'West Sussex', 'West Town',\n",
       "       'West Yorkshire', 'Weston-Super-Mare', 'Wetherby', 'Weybridge',\n",
       "       'Weymouth', 'Whyteleafe', 'Widnes', 'Wigan', 'Wilmslow',\n",
       "       'Wiltshire', 'Wimbledon', 'Wincanton', 'Winchester', 'Windsor',\n",
       "       'Wirral', 'Wisbech', 'Witham', 'Witney', 'Woking', 'Wokingham',\n",
       "       'Wolverhampton', 'Woodthorpe', 'Worcester', 'Worcestershire',\n",
       "       'Workington', 'Worksop', 'Worthing', 'Wrexham', 'Yeovil', 'York',\n",
       "       'Yorkshire and Humberside', 'birmingham', 'london'], dtype=object)"
      ]
     },
     "execution_count": 40,
     "metadata": {},
     "output_type": "execute_result"
    }
   ],
   "source": [
    "# check for values in Location\n",
    "df.Location.sort_values().unique()"
   ]
  },
  {
   "cell_type": "code",
   "execution_count": 41,
   "metadata": {
    "scrolled": true
   },
   "outputs": [
    {
     "name": "stdout",
     "output_type": "stream",
     "text": [
      "The are not error\n"
     ]
    },
    {
     "data": {
      "text/plain": [
       "Index(['['Stoke-On-Trent']', '['Stratford-Upon-Avon']', '['Burton-On-Trent']',\n",
       "       '['Marton-In-Cleveland']', '['Southend-On-Sea']',\n",
       "       '['Henley-On-Thames']', '['Walton-On-Thames']', '['Clacton-On-Sea']',\n",
       "       '['Bexhill-On-Sea']', '['Barrow-In-Furness']', '['Stockton-On-Tees']',\n",
       "       '['Weston-Super-Mare']', '['Newcastle-under-Lyme']',\n",
       "       '['Sutton-In-Ashfield']'],\n",
       "      dtype='object')"
      ]
     },
     "execution_count": 41,
     "metadata": {},
     "output_type": "execute_result"
    }
   ],
   "source": [
    "# check for string with \\W character\n",
    "print('The are not error')\n",
    "df.Location.apply(lambda x: re.findall(r'\\w+-\\w+-\\w+', x)).astype('str').value_counts().index[1:]\n"
   ]
  },
  {
   "cell_type": "code",
   "execution_count": 42,
   "metadata": {},
   "outputs": [
    {
     "name": "stdout",
     "output_type": "stream",
     "text": [
      "no error\n"
     ]
    },
    {
     "data": {
      "text/plain": [
       "[]                 50559\n",
       "['St. Albans']        50\n",
       "['St. Edmunds']       41\n",
       "['St. Helens']        25\n",
       "['St. Neots']         10\n",
       "['St. Andrew']         9\n",
       "['St. Ives']           9\n",
       "Name: Location, dtype: int64"
      ]
     },
     "execution_count": 42,
     "metadata": {},
     "output_type": "execute_result"
    }
   ],
   "source": [
    "# check for \\W character between words\n",
    "print('no error')\n",
    "df.Location.apply(lambda x: re.findall(r'\\w+\\s*[.]\\s*\\w+', x)).astype('str').value_counts()"
   ]
  },
  {
   "cell_type": "code",
   "execution_count": 43,
   "metadata": {},
   "outputs": [],
   "source": [
    "# check unique values and their frequency\n",
    "data = df.Location.value_counts()"
   ]
  },
  {
   "cell_type": "code",
   "execution_count": 44,
   "metadata": {
    "scrolled": true
   },
   "outputs": [
    {
     "data": {
      "text/plain": [
       "Dumfries                11\n",
       "Twickenham              11\n",
       "Knaresborough           11\n",
       "Brent Cross             11\n",
       "Alton                   11\n",
       "Newcastle-under-Lyme    11\n",
       "Caerphilly              11\n",
       "Herefordshire           11\n",
       "Wisbech                 11\n",
       "Newport Pagnell         11\n",
       "Alcester                11\n",
       "Cliddesden              11\n",
       "Frome                   11\n",
       "Broadfield              11\n",
       "Thames Ditton           11\n",
       "Wincanton               11\n",
       "Sutton Coldfield        11\n",
       "Trent                   11\n",
       "Linlithgow              11\n",
       "Sutton-In-Ashfield      11\n",
       "Cwmbran                 11\n",
       "Bridgwater              11\n",
       "Redcar                  11\n",
       "Bourne End              11\n",
       "Lewisham                10\n",
       "Normanton               10\n",
       "Jersey                  10\n",
       "Boston                  10\n",
       "Tadworth                10\n",
       "Canary Wharf            10\n",
       "St. Neots               10\n",
       "North Ayrshire          10\n",
       "South Brent             10\n",
       "Thorpe St. Andrew        9\n",
       "Lutterworth              9\n",
       "Gatwick                  9\n",
       "Waterlooville            9\n",
       "St. Ives                 9\n",
       "Potters Bar              9\n",
       "Grimsby                  9\n",
       "Petersfield              8\n",
       "Chipping Campden         8\n",
       "Oldbury                  8\n",
       "North Finchley           7\n",
       "ABERDEEN                 2\n",
       "HAMpshire                2\n",
       "Cembridge                2\n",
       "Manchaster               2\n",
       "london                   1\n",
       "Oxfords                  1\n",
       "Livepool                 1\n",
       "birmingham               1\n",
       "Leads                    1\n",
       "BRISTOL                  1\n",
       "Name: Location, dtype: int64"
      ]
     },
     "execution_count": 44,
     "metadata": {},
     "output_type": "execute_result"
    }
   ],
   "source": [
    "# check the values have low frequency\n",
    "data[data<12]"
   ]
  },
  {
   "cell_type": "code",
   "execution_count": 45,
   "metadata": {},
   "outputs": [],
   "source": [
    "# check for matching location\n",
    "similar= {}\n",
    "empty=[]\n",
    "location = df.Location.unique()\n",
    "\n",
    "for i in location:\n",
    "    a= difflib.get_close_matches(i, set(location).difference([i]), n=1, cutoff=0.8)\n",
    "    if len(a) != 0:\n",
    "        similar.setdefault(i,a)\n",
    "    else:\n",
    "        empty.append(i) "
   ]
  },
  {
   "cell_type": "code",
   "execution_count": 46,
   "metadata": {},
   "outputs": [
    {
     "data": {
      "text/plain": [
       "['UK',\n",
       " 'Wales',\n",
       " 'Slough',\n",
       " 'Basingstoke',\n",
       " 'Hampshire',\n",
       " 'Birkenhead',\n",
       " 'Kent',\n",
       " 'Devon',\n",
       " 'Aberdeen',\n",
       " 'Hove',\n",
       " 'Greater Manchester',\n",
       " 'Wilmslow',\n",
       " 'East Sheen',\n",
       " 'Fife',\n",
       " 'Brighton',\n",
       " 'Uckfield',\n",
       " 'Milton Keynes',\n",
       " 'Edinburgh Technopole',\n",
       " 'Swindon',\n",
       " 'Exeter',\n",
       " 'North Lambeth',\n",
       " 'Oxfordshire',\n",
       " 'Guildford',\n",
       " 'Reigate',\n",
       " 'Rugby',\n",
       " 'Bracknell',\n",
       " 'Harrogate',\n",
       " 'Droitwich',\n",
       " 'Sunderland',\n",
       " 'Cheshire',\n",
       " 'Doncaster',\n",
       " 'Torquay',\n",
       " 'Poole',\n",
       " 'Cumbria',\n",
       " 'Cheltenham',\n",
       " 'Bromsgrove',\n",
       " 'Reading',\n",
       " 'Leicestershire',\n",
       " 'York',\n",
       " 'Newcastle Upon Tyne',\n",
       " 'Wakefield',\n",
       " 'Huddersfield',\n",
       " 'Bournemouth',\n",
       " 'Christchurch',\n",
       " 'Grantham',\n",
       " 'Warwick',\n",
       " 'Aylesbury',\n",
       " 'Havant',\n",
       " 'Surrey',\n",
       " 'Portsmouth',\n",
       " 'Redhill',\n",
       " 'Loughborough',\n",
       " 'Yorkshire and Humberside',\n",
       " 'Crawley',\n",
       " 'Chesterfield',\n",
       " 'Abingdon',\n",
       " 'Salisbury',\n",
       " 'Lincoln',\n",
       " 'Somerset',\n",
       " 'Canterbury',\n",
       " 'Wellingborough',\n",
       " 'Derbyshire',\n",
       " 'Alfreton',\n",
       " 'Skipton',\n",
       " 'West Malling',\n",
       " 'Carlisle',\n",
       " 'Sheffield',\n",
       " 'Kidderminster',\n",
       " 'Waterlooville',\n",
       " 'Aldershot',\n",
       " 'Avon',\n",
       " 'Scotland',\n",
       " 'Burgess Hill',\n",
       " 'Eastleigh',\n",
       " 'Maidstone',\n",
       " 'Rotherham',\n",
       " 'Merseyside',\n",
       " 'Stoke-On-Trent',\n",
       " 'Macclesfield',\n",
       " 'Derby',\n",
       " 'Haywards Heath',\n",
       " 'Kettering',\n",
       " 'Knutsford',\n",
       " 'Mansfield',\n",
       " 'Morecambe',\n",
       " 'Chippenham',\n",
       " 'Berkshire',\n",
       " 'Sidcup',\n",
       " 'Melton Mowbray',\n",
       " 'Stratford-Upon-Avon',\n",
       " 'Southport',\n",
       " 'Chorley',\n",
       " 'Selby',\n",
       " 'Chesham',\n",
       " 'Didcot',\n",
       " 'Halifax',\n",
       " 'Preston',\n",
       " 'Shepton Mallet',\n",
       " 'Redditch',\n",
       " 'Bolton Le Sands',\n",
       " 'Banbury',\n",
       " 'Taunton',\n",
       " 'Godalming',\n",
       " 'Evesham',\n",
       " 'Market Harborough',\n",
       " 'Blackburn',\n",
       " 'Livingston',\n",
       " 'Knaresborough',\n",
       " 'Witney',\n",
       " 'East Grinstead',\n",
       " 'Andover',\n",
       " 'Sevenoaks',\n",
       " 'High Wycombe',\n",
       " 'Burton-On-Trent',\n",
       " 'Tunbridge Wells',\n",
       " 'Gerrards Cross',\n",
       " 'Leamington Spa',\n",
       " 'Dorset',\n",
       " 'Leyland',\n",
       " 'West Yorkshire',\n",
       " 'Northumberland',\n",
       " 'Richmond',\n",
       " 'Walton-On-Thames',\n",
       " 'Dover',\n",
       " 'Runcorn',\n",
       " 'Hinckley',\n",
       " 'Warwickshire',\n",
       " 'Newton Abbot',\n",
       " 'Sutton Green',\n",
       " 'Cannock',\n",
       " 'Dorking',\n",
       " 'Lincolnshire',\n",
       " 'Wiltshire',\n",
       " 'Lancashire',\n",
       " 'Kidlington',\n",
       " 'Newark',\n",
       " 'Crewe',\n",
       " 'Worthing',\n",
       " 'Alton',\n",
       " 'Staffordshire',\n",
       " 'Beaconsfield',\n",
       " 'Eastern England',\n",
       " 'Lichfield',\n",
       " 'Henley-On-Thames',\n",
       " 'Lutterworth',\n",
       " 'Gateshead',\n",
       " 'Truro',\n",
       " 'Bangor',\n",
       " 'Blackpool',\n",
       " 'Gillingham',\n",
       " 'Horsham',\n",
       " 'Ashford',\n",
       " 'Eastbourne',\n",
       " 'Wetherby',\n",
       " 'Bognor Regis',\n",
       " 'Camberley',\n",
       " 'Corby',\n",
       " 'Accrington',\n",
       " 'Fleet',\n",
       " 'St. Helens',\n",
       " 'Nuneaton',\n",
       " 'Marton-In-Cleveland',\n",
       " 'Bourne End',\n",
       " 'Cobham',\n",
       " 'Weybridge',\n",
       " 'Melksham',\n",
       " 'Glenrothes',\n",
       " 'Bagshot',\n",
       " 'Dunfermline',\n",
       " 'Shipley',\n",
       " 'Morpeth',\n",
       " 'Chertsey',\n",
       " 'Normanton',\n",
       " 'Isle Of Wight',\n",
       " 'Stroud',\n",
       " 'Ferndown',\n",
       " 'Rushden',\n",
       " 'Shrewsbury',\n",
       " 'Barnstaple',\n",
       " 'Shropshire',\n",
       " 'Thames Ditton',\n",
       " 'Epsom',\n",
       " 'Hook',\n",
       " 'Cornwall',\n",
       " 'Northallerton',\n",
       " 'East Riding',\n",
       " 'Yeovil',\n",
       " 'Haslemere',\n",
       " 'Egham',\n",
       " 'Folkestone',\n",
       " 'Leatherhead',\n",
       " 'Daventry',\n",
       " 'Widnes',\n",
       " 'Thame',\n",
       " 'Weymouth',\n",
       " 'Amersham',\n",
       " 'Littlehampton',\n",
       " 'Petersfield',\n",
       " 'Gainsborough',\n",
       " 'Keighley',\n",
       " 'Blaenau Gwent',\n",
       " 'Swanley',\n",
       " 'Newport Pagnell',\n",
       " 'Margate',\n",
       " 'Tewkesbury',\n",
       " 'Sutton-In-Ashfield',\n",
       " 'Thirsk',\n",
       " 'Gosport',\n",
       " 'Cirencester',\n",
       " 'Warminster',\n",
       " 'Hungerford',\n",
       " 'Gravesend',\n",
       " 'Kendal',\n",
       " 'Barrow-In-Furness',\n",
       " 'Worksop',\n",
       " 'Alcester',\n",
       " 'Frome',\n",
       " 'Sittingbourne',\n",
       " 'Bridgwater',\n",
       " 'Castleford',\n",
       " 'Linlithgow',\n",
       " 'Wincanton',\n",
       " 'Whyteleafe',\n",
       " 'Chipping Norton',\n",
       " 'Northern Ireland',\n",
       " 'Aberdeenshire',\n",
       " 'Chipping Campden',\n",
       " 'Devizes',\n",
       " 'Arundel',\n",
       " 'Kenilworth',\n",
       " 'Antrim',\n",
       " 'St. Ives',\n",
       " 'Jersey',\n",
       " 'Hastings',\n",
       " 'ABERDEEN',\n",
       " 'Byfleet',\n",
       " 'Matlock',\n",
       " 'Essex',\n",
       " 'Norfolk',\n",
       " 'Cambridgeshire',\n",
       " 'Glasgow',\n",
       " 'The City',\n",
       " 'Covent Garden',\n",
       " 'Central London',\n",
       " 'Newport',\n",
       " 'Bristol',\n",
       " 'West End',\n",
       " 'Wimbledon',\n",
       " 'St. Albans',\n",
       " 'Rickmansworth',\n",
       " 'Thorpe St. Andrew',\n",
       " 'Ealing',\n",
       " 'Belfast',\n",
       " 'Lowestoft',\n",
       " 'Kingston Upon Thames',\n",
       " 'Bath',\n",
       " 'Ipswich',\n",
       " 'Luton',\n",
       " 'Peterborough',\n",
       " 'Croydon',\n",
       " 'Edinburgh',\n",
       " 'Solihull',\n",
       " 'Stockport',\n",
       " 'Bury',\n",
       " 'Barnet',\n",
       " 'Cardiff',\n",
       " 'Hemel Hempstead',\n",
       " 'Kensington',\n",
       " 'Maidenhead',\n",
       " 'Coventry',\n",
       " 'Middlesbrough',\n",
       " 'Suffolk',\n",
       " 'Twickenham',\n",
       " 'Enfield',\n",
       " 'Altrincham',\n",
       " 'Walsall',\n",
       " 'Wigan',\n",
       " 'Letchworth Garden City',\n",
       " 'Staines',\n",
       " 'Cheadle',\n",
       " 'Plymouth',\n",
       " 'West Bromwich',\n",
       " 'Canary Wharf',\n",
       " 'Stevenage',\n",
       " 'Hatfield',\n",
       " 'Dundee',\n",
       " 'Windsor',\n",
       " 'Brentwood',\n",
       " 'City',\n",
       " 'Hull',\n",
       " 'Barking',\n",
       " 'Docklands',\n",
       " 'Camden',\n",
       " 'Llandaff North',\n",
       " 'Prescot',\n",
       " 'Wolverhampton',\n",
       " 'Hounslow',\n",
       " 'Basildon',\n",
       " 'Chelmsford',\n",
       " 'Romford',\n",
       " 'Welwyn Garden City',\n",
       " 'Rochdale',\n",
       " 'Bromley',\n",
       " 'Cwmbran',\n",
       " 'Wrexham',\n",
       " 'Borehamwood',\n",
       " 'Potters Bar',\n",
       " 'Scunthorpe',\n",
       " 'Swansea',\n",
       " 'Southend-On-Sea',\n",
       " 'Bury St. Edmunds',\n",
       " 'Lambeth',\n",
       " 'Wirral',\n",
       " 'Dudley',\n",
       " 'Midlothian',\n",
       " 'Witham',\n",
       " 'March',\n",
       " 'Ilford',\n",
       " 'Ely',\n",
       " 'Leighton Buzzard',\n",
       " 'Great Yarmouth',\n",
       " 'Sale',\n",
       " 'Bridgend',\n",
       " 'Durham',\n",
       " \"King's Lynn\",\n",
       " 'Halesowen',\n",
       " 'Pontefract',\n",
       " 'Inverness',\n",
       " 'Oldham',\n",
       " 'Oldbury',\n",
       " 'Sutton Coldfield',\n",
       " 'Perth',\n",
       " 'Hackney',\n",
       " 'Newcastle-under-Lyme',\n",
       " 'Greenwich',\n",
       " 'Hitchin',\n",
       " 'Bexley',\n",
       " 'Addlestone',\n",
       " 'Dunstable',\n",
       " 'Huntingdon',\n",
       " 'Gaydon',\n",
       " 'Lewisham',\n",
       " 'Towcester',\n",
       " 'Weston-Super-Mare',\n",
       " 'Brent Cross',\n",
       " 'Sudbury',\n",
       " 'Southwark',\n",
       " 'West Lothian',\n",
       " 'Braintree',\n",
       " 'Clacton-On-Sea',\n",
       " 'St. Neots',\n",
       " 'Stourbridge',\n",
       " 'North Finchley',\n",
       " 'Bexhill-On-Sea',\n",
       " 'BRISTOL',\n",
       " 'Gatwick',\n",
       " 'Brierley Hill',\n",
       " 'Stockton-On-Tees',\n",
       " 'Redcar',\n",
       " 'Grimsby',\n",
       " 'Southampton International Airport',\n",
       " 'Wisbech',\n",
       " 'Stirling',\n",
       " 'HAMpshire',\n",
       " 'South Croydon',\n",
       " 'Swadlincote',\n",
       " 'South Brent',\n",
       " 'Boldon Colliery',\n",
       " 'West Town',\n",
       " 'Manchester Science Park',\n",
       " 'Calcot',\n",
       " 'Ash Green',\n",
       " 'Horsforth',\n",
       " 'Clifton',\n",
       " 'Glasgow East Investment Park',\n",
       " 'Coscote',\n",
       " 'Handbridge',\n",
       " 'Little Chesterford',\n",
       " 'Woodthorpe',\n",
       " 'Two Mile Ash',\n",
       " 'Craigiehall',\n",
       " 'Cressington',\n",
       " 'Cliddesden',\n",
       " 'Sompting',\n",
       " 'Broadfield',\n",
       " 'Caerphilly',\n",
       " 'Camden Town',\n",
       " 'Dumfries',\n",
       " 'Trent',\n",
       " 'Sea',\n",
       " 'Highlands']"
      ]
     },
     "execution_count": 46,
     "metadata": {},
     "output_type": "execute_result"
    }
   ],
   "source": [
    "empty"
   ]
  },
  {
   "cell_type": "code",
   "execution_count": 47,
   "metadata": {},
   "outputs": [
    {
     "data": {
      "text/plain": [
       "{'London': ['london'],\n",
       " 'South East London': ['South West London'],\n",
       " 'West Midlands': ['East Midlands'],\n",
       " 'Nottingham': ['Nottinghamshire'],\n",
       " 'Gloucestershire': ['Worcestershire'],\n",
       " 'Oxford': ['Oxfords'],\n",
       " 'West Sussex': ['East Sussex'],\n",
       " 'Bradford': ['Bedford'],\n",
       " 'Leicester': ['Bicester'],\n",
       " 'South Yorkshire': ['North Yorkshire'],\n",
       " 'North West London': ['South West London'],\n",
       " 'Worcester': ['Dorchester'],\n",
       " 'North Ayrshire': ['North Yorkshire'],\n",
       " 'Chester': ['Colchester'],\n",
       " 'Newbury': ['Dewsbury'],\n",
       " 'Warrington': ['Workington'],\n",
       " 'Buckinghamshire': ['Buckingham'],\n",
       " 'Leeds': ['Lewes'],\n",
       " 'Northampton': ['Southampton'],\n",
       " 'Washington': ['Warrington'],\n",
       " 'Chichester': ['Chester'],\n",
       " 'Gloucester': ['Gloucestershire'],\n",
       " 'Hereford': ['Hertford'],\n",
       " 'Liverpool': ['Livepool'],\n",
       " 'Scarborough': ['Farnborough'],\n",
       " 'South West London': ['South East London'],\n",
       " 'North East England': ['South East England'],\n",
       " 'East Midlands': ['West Midlands'],\n",
       " 'North Yorkshire': ['South Yorkshire'],\n",
       " 'Rochester': ['Dorchester'],\n",
       " 'Dartford': ['Watford'],\n",
       " 'Nottinghamshire': ['Nottingham'],\n",
       " 'East Sussex': ['West Sussex'],\n",
       " 'Stafford': ['Stamford'],\n",
       " 'Woking': ['Wokingham'],\n",
       " 'Northamptonshire': ['Northampton'],\n",
       " 'Chatham': ['Thatcham'],\n",
       " 'Wokingham': ['Woking'],\n",
       " 'Worcestershire': ['Gloucestershire'],\n",
       " 'Thatcham': ['Chatham'],\n",
       " 'Tonbridge': ['Trowbridge'],\n",
       " 'Lewes': ['Leeds'],\n",
       " 'Tamworth': ['Tadworth'],\n",
       " 'Marlow': ['Harlow'],\n",
       " 'Winchester': ['Manchester'],\n",
       " 'Farnham': ['Fareham'],\n",
       " 'Buckingham': ['Buckinghamshire'],\n",
       " 'Fareham': ['Farnham'],\n",
       " 'Barnsley': ['Burnley'],\n",
       " 'Farnborough': ['Scarborough'],\n",
       " 'Burnley': ['Barnsley'],\n",
       " 'Lancaster': ['Manchaster'],\n",
       " 'Stamford': ['Stafford'],\n",
       " 'Northwich': ['Norwich'],\n",
       " 'Bicester': ['Leicester'],\n",
       " 'Tadworth': ['Tamworth'],\n",
       " 'North Shields': ['South Shields'],\n",
       " 'Boston': ['Bolton'],\n",
       " 'South Shields': ['North Shields'],\n",
       " 'Trowbridge': ['Tonbridge'],\n",
       " 'Dorchester': ['Worcester'],\n",
       " 'Herefordshire': ['Hertfordshire'],\n",
       " 'South Lanarkshire': ['South Yorkshire'],\n",
       " 'Dewsbury': ['Newbury'],\n",
       " 'Livepool': ['Liverpool'],\n",
       " 'Hertfordshire': ['Herefordshire'],\n",
       " 'Bedfordshire': ['Hertfordshire'],\n",
       " 'West London': ['East London'],\n",
       " 'Cambridge': ['Cembridge'],\n",
       " 'Manchester': ['Manchaster'],\n",
       " 'South East England': ['South West England'],\n",
       " 'Birmingham': ['birmingham'],\n",
       " 'Uxbridge': ['Axbridge'],\n",
       " 'Southampton': ['Northampton'],\n",
       " 'South West England': ['South East England'],\n",
       " 'Watford': ['Dartford'],\n",
       " 'North West England': ['South West England'],\n",
       " 'Telford': ['Thetford'],\n",
       " 'North London': ['North West London'],\n",
       " 'East London': ['West London'],\n",
       " 'Bolton': ['Boston'],\n",
       " 'Colchester': ['Rochester'],\n",
       " 'Norwich': ['Northwich'],\n",
       " 'Bedford': ['Bradford'],\n",
       " 'Harrow': ['Harlow'],\n",
       " 'Salford': ['Stamford'],\n",
       " 'Harlow': ['Marlow'],\n",
       " 'Oxfords': ['Oxford'],\n",
       " 'Darlington': ['Warrington'],\n",
       " 'Manchaster': ['Manchester'],\n",
       " 'Workington': ['Warrington'],\n",
       " 'Thetford': ['Telford'],\n",
       " 'london': ['London'],\n",
       " 'Hertford': ['Hereford'],\n",
       " 'Axbridge': ['Uxbridge'],\n",
       " 'Leads': ['Leeds'],\n",
       " 'Cembridge': ['Cambridge'],\n",
       " 'birmingham': ['Birmingham']}"
      ]
     },
     "execution_count": 47,
     "metadata": {},
     "output_type": "execute_result"
    }
   ],
   "source": [
    "similar"
   ]
  },
  {
   "cell_type": "code",
   "execution_count": 48,
   "metadata": {},
   "outputs": [],
   "source": [
    "# place the errors and their correct version in a dict\n",
    "replace_dict = {'ABERDEEN':'Aberdeen','BRISTOL':'Bristol','Livepool':'Liverpool', 'Oxfords':'Oxfords','birmingham':'Birmingham', \n",
    "                     'london':'London', 'HAMpshire':'Hampshire','Manchaster':\"Manchester\",'Cembridge':'Cambridge',  \n",
    "                     'Leads':'Leeds', 'Aberbeen':'Aberdeen', 'Trent':'Stoke-On-Trent'}\n",
    "\n",
    "# locating indices of errors\n",
    "ind =df.loc[df.Location.isin(replace_dict.keys()), 'Location'].index\n",
    "\n",
    "\n",
    "                   \n",
    "# adding errors\n",
    "for i in ind: \n",
    "    updateErlist(i, df.loc[i, 'ID'], 'Location', df.loc[i, 'Location'], replace_dict[df.loc[i, 'Location']], 'irregularities/typos', 'change to the right form/speeling')                \n",
    "\n",
    "# fix the typos\n",
    "df.Location.replace(replace_dict,inplace=True)\n"
   ]
  },
  {
   "cell_type": "markdown",
   "metadata": {},
   "source": [
    "##### 2.5. Company"
   ]
  },
  {
   "cell_type": "code",
   "execution_count": 49,
   "metadata": {
    "scrolled": true
   },
   "outputs": [
    {
     "data": {
      "text/plain": [
       "                                   2678\n",
       "                                   2017\n",
       "-                                   557\n",
       "UKStaffsearch                       434\n",
       "Randstad                            368\n",
       "                                   ... \n",
       "CRIPPLEGATE FOUNDATION                1\n",
       "Recruitment Solutions Wales Ltd       1\n",
       "Queen's University Belfast            1\n",
       "Paymentshield                         1\n",
       "Lecaris                               1\n",
       "Name: Company, Length: 8674, dtype: int64"
      ]
     },
     "execution_count": 49,
     "metadata": {},
     "output_type": "execute_result"
    }
   ],
   "source": [
    "# check for unique value and their frequency\n",
    "df.Company.value_counts()"
   ]
  },
  {
   "cell_type": "code",
   "execution_count": 50,
   "metadata": {
    "scrolled": true
   },
   "outputs": [
    {
     "data": {
      "text/plain": [
       "[]         45369\n",
       "['']        2678\n",
       "[' ']       2017\n",
       "['-']        557\n",
       "['N/A']       79\n",
       "['591']        1\n",
       "['.']          1\n",
       "['21']         1\n",
       "Name: Company, dtype: int64"
      ]
     },
     "execution_count": 50,
     "metadata": {},
     "output_type": "execute_result"
    }
   ],
   "source": [
    "# check for missing values\n",
    "df.Company.apply(lambda x: re.findall(r'^\\W+$|^\\d+$|^N/A$|^$', x)).astype('str').value_counts()"
   ]
  },
  {
   "cell_type": "code",
   "execution_count": 51,
   "metadata": {},
   "outputs": [],
   "source": [
    "# locate missing values\n",
    "indices = df[df.Company.isin(['', ' ', '-', '.', 'N/A', '591', '21'])].index\n",
    "\n",
    "# reporting errors\n",
    "for i in indices:\n",
    "    updateErlist(i, df.loc[i, 'ID'], 'Company', df.loc[i,'Company'], 'non-specified', 'missing values', 'change to non-specified')\n",
    "\n",
    "# fixing missing value to non-specified\n",
    "df.loc[indices, 'Company'] = 'non-specified'"
   ]
  },
  {
   "cell_type": "code",
   "execution_count": 52,
   "metadata": {},
   "outputs": [
    {
     "data": {
      "text/plain": [
       "Index(['['Appetite4Recruitment   High End Restaurants, Pubs & Bars']',\n",
       "       '['Badenoch & Clark   London ']', '['Spectrum IT Recruitment  Ltd']',\n",
       "       '['Oscar Associates  Limited']', '['Edustaff   Birmingham']',\n",
       "       '['Searchability  Ltd']', '['Recruitment Solutions  Ltd']',\n",
       "       '['Computer People  Limited']', '['Badenoch & Clark   Manchester.']',\n",
       "       '['Blue Arrow   Guildford']',\n",
       "       ...\n",
       "       '['McGinley  Ltd']', '['Central Employment Agency  Ltd']',\n",
       "       '['Robert Half   Manchester']',\n",
       "       '['UNKNOWN   auto added by vacany import']',\n",
       "       '['Hudson   Molson Coors']', '['Cobalt Consulting  Ltd']',\n",
       "       '['Bio Pharma  Ltd.']', '['BROOK STREET BUREAU   Reading']',\n",
       "       '['Project Resource   Thames Valley & South West England']',\n",
       "       '['Scottish Association for Marine Science   SAMS']'],\n",
       "      dtype='object', length=348)"
      ]
     },
     "execution_count": 52,
     "metadata": {},
     "output_type": "execute_result"
    }
   ],
   "source": [
    "# check for middle extra white space\n",
    "df.Company.apply(lambda x: re.findall(r'^\\w+\\s{2,}.+$|^\\w+\\s\\w+\\s{2,}.*$|^\\w+\\s\\w+\\s\\w+\\s{2,}.*$|^\\w+\\s\\w+\\s\\w+\\s\\w+\\s{2,}.*$|^\\w+\\s\\w+\\s\\w+\\s\\w+\\s\\w+\\s{2}.*$|^\\w+\\s&\\s\\w+\\s{2,}\\w+.*$', x)).astype('str').value_counts().index[1:]"
   ]
  },
  {
   "cell_type": "code",
   "execution_count": 53,
   "metadata": {},
   "outputs": [],
   "source": [
    "# extra middle white spaces\n",
    "white_spaces =df.Company.apply(lambda x: re.findall(r'^\\w+\\s{2,}.+$|^\\w+\\s\\w+\\s{2,}.*$|^\\w+\\s\\w+\\s\\w+\\s{2,}.*$|^\\w+\\s\\w+\\s\\w+\\s\\w+\\s{2,}.*$|^\\w+\\s\\w+\\s\\w+\\s\\w+\\s\\w+\\s{2}.*$|^\\w+\\s&\\s\\w+\\s{2,}\\w+.*$', x)).astype('str').value_counts().index[1:]\n",
    "white_spaces = [i.strip(r']|[|\\'') for i in white_spaces]\n",
    "\n",
    "# locate errors\n",
    "indices = df[df.Company.isin(white_spaces)].index\n",
    "\n",
    "# report error\n",
    "for i in indices:\n",
    "    updateErlist(i, df.loc[i, 'ID'], 'Company', df.loc[i,'Company'], re.sub(r'\\s+', ' ', df.loc[i,'Company']), 'Irregularities', 'strip the middle extra white spaces')\n",
    "\n",
    "# fixing\n",
    "df.loc[indices, 'Company'] = df.loc[indices, 'Company'].apply(lambda x: re.sub(r'\\s+', ' ',x))\n"
   ]
  },
  {
   "cell_type": "code",
   "execution_count": 54,
   "metadata": {
    "scrolled": true
   },
   "outputs": [
    {
     "data": {
      "text/plain": [
       "[]                     49437\n",
       "[('', '.', '', '')]      752\n",
       "[('', ' ', '', '')]      505\n",
       "[('@', '', '', '')]        4\n",
       "[('', '+', '', '')]        2\n",
       "[('.', '', '', '')]        2\n",
       "[('', ',', '', '')]        1\n",
       "Name: Company, dtype: int64"
      ]
     },
     "execution_count": 54,
     "metadata": {},
     "output_type": "execute_result"
    }
   ],
   "source": [
    "# check for \\W characters at the end . the start or both in string\n",
    "df.Company.apply(lambda x: re.findall(r'^(\\W+).+$|^.+(\\W+)$|^(\\W+).+(\\W+)$', x)).astype('str').value_counts()"
   ]
  },
  {
   "cell_type": "code",
   "execution_count": 55,
   "metadata": {
    "scrolled": true
   },
   "outputs": [
    {
     "data": {
      "text/plain": [
       "[]             50701\n",
       "['MPower+']        2\n",
       "Name: Company, dtype: int64"
      ]
     },
     "execution_count": 55,
     "metadata": {},
     "output_type": "execute_result"
    }
   ],
   "source": [
    "# check for the string starts/ends with +, _, or - \n",
    "df.Company.apply(lambda x: re.findall(r'^[+_-]+.+$|^.+[+_-]+$', x)).astype('str').value_counts()"
   ]
  },
  {
   "cell_type": "code",
   "execution_count": 56,
   "metadata": {},
   "outputs": [
    {
     "data": {
      "text/plain": [
       "[]                                49437\n",
       "['Matchtech Group plc.']            230\n",
       "['Badenoch & Clark London ']         45\n",
       "['Monarch Recruitment Ltd.']         30\n",
       "['Support Services Group ']          27\n",
       "                                  ...  \n",
       "['Anglian Windows ']                  1\n",
       "['General Healthcare Group ']         1\n",
       "['Havas People Limited ']             1\n",
       "['@ITS']                              1\n",
       "['Parade post office stores.']        1\n",
       "Name: Company, Length: 272, dtype: int64"
      ]
     },
     "execution_count": 56,
     "metadata": {},
     "output_type": "execute_result"
    }
   ],
   "source": [
    "# check for the string starts/ends with +, _, - or white space\n",
    "df.Company.apply(lambda x: re.findall(r'^\\W+.+$|^.+\\W+$|^\\W+.+\\W+$', x)).astype('str').value_counts()"
   ]
  },
  {
   "cell_type": "code",
   "execution_count": 57,
   "metadata": {},
   "outputs": [],
   "source": [
    "# white space and dot, @, +, comma at the end/front of string\n",
    "dot = df.Company.apply(lambda x: re.findall(r'^\\W.+$|^.+\\W$|^\\W+.+\\W+$', x)).astype('str').value_counts().index[1:]\n",
    "dot = [i.strip(r']|[|\\'') for i in dot]\n",
    "\n",
    "# locate errors\n",
    "indices = df[df.Company.isin(dot)].index\n",
    "\n",
    "# report error\n",
    "for i in indices:\n",
    "    updateErlist(i, df.loc[i, 'ID'], 'Company', df.loc[i,'Company'], df.loc[i,'Company'].strip('. ,@+'), 'Irregularities', 'strip extra white spaces and dot')\n",
    "\n",
    "# fixing\n",
    "df.loc[indices, 'Company'] = df.loc[indices, 'Company'].apply(lambda x: x.strip('. ,@+'))"
   ]
  },
  {
   "cell_type": "code",
   "execution_count": 58,
   "metadata": {},
   "outputs": [
    {
     "data": {
      "text/plain": [
       "Index(['['CAREER TEACHERS']', '['ANSON MCCADE']',\n",
       "       '['INTERACTION RECRUITMENT']', '['JJ FOX']', '['SOLID STAFF']',\n",
       "       '['PROTOCOL EDUCATION']', '['GRADUATE FASTTRACK']',\n",
       "       '['AES TECHNICAL & EXECUTIVE CONSULTANTS']',\n",
       "       '['CHERRY RED RECRUITMENT']', '['ACADEMICS LTD']',\n",
       "       ...\n",
       "       '['THE MEETINGS RECRUITMENT']', '['HAYS EDUCATION PERMANENT']',\n",
       "       '['ST MARGARET OF SCOTLAND CATHOLIC RPIAMRY']',\n",
       "       '['CONNAUGHT RESOURCING']', '['CHEFS ETC LIMITED']',\n",
       "       '['BROOK STREET BUREAU Reading']', '['NIIT TECHNOLOGIES LTD']',\n",
       "       '['HR GO Glasgow']', '['DOVER FEDERATION FOR THE ARTS']',\n",
       "       '['MCKINLAY LAW PARTNERSHIP']'],\n",
       "      dtype='object', length=536)"
      ]
     },
     "execution_count": 58,
     "metadata": {},
     "output_type": "execute_result"
    }
   ],
   "source": [
    "# check for the string with upper letters\n",
    "df.Company.apply(lambda x: re.findall(r'^[A-Z]+\\s[A-Z]{2,}\\s*\\w*\\s*\\w*\\s*\\w*.*$', x)).astype('str').value_counts().index[1:]\n"
   ]
  },
  {
   "cell_type": "code",
   "execution_count": 59,
   "metadata": {},
   "outputs": [],
   "source": [
    "# upper letter\n",
    "upper = df.Company.apply(lambda x: re.findall(r'^[A-Z]+\\s[A-Z]{2,}\\s*\\w*\\s*\\w*\\s*\\w*.*$', x)).astype('str').value_counts().index[1:]\n",
    "upper = [i.strip('[]\\'') for i in upper ]\n",
    "\n",
    "\n",
    "# locate errors\n",
    "indices = df[df.Company.isin(upper )].index\n",
    "\n",
    "\n",
    "# create a meethod to convert string to capitalize the 1st letter\n",
    "def capitalized(x):\n",
    "    array = []\n",
    "    words = x.split(' ') \n",
    "    if len(words[0]) < 4:\n",
    "        array.append(words[0])\n",
    "        for w in words[1:]:\n",
    "            array.append(w.capitalize()) \n",
    "    else:\n",
    "        for w in words:         \n",
    "            array.append(w.capitalize())    \n",
    "    return ' '.join(array)\n",
    "\n",
    "\n",
    "# report\n",
    "for i in indices:\n",
    "    updateErlist(i, df.loc[i, 'ID'], 'Company', df.loc[i,'Company'], capitalized(df.loc[i,'Company']), 'irregularities', 'change to capitalized words')\n",
    "\n",
    "    \n",
    "# fix\n",
    "df.loc[indices, 'Company'] = df.loc[indices, 'Company'].apply(lambda x:capitalized(x) )\n",
    "\n",
    "# check\n",
    "#df.loc[indices, 'Company']"
   ]
  },
  {
   "cell_type": "code",
   "execution_count": 60,
   "metadata": {},
   "outputs": [
    {
     "data": {
      "text/plain": [
       "[]                                   50637\n",
       "['N E Recruitment']                     11\n",
       "['H C Solutions']                        7\n",
       "['A R Resourcing Ltd']                   5\n",
       "['I F D S Ltd']                          4\n",
       "['R M Solutions Ltd']                    4\n",
       "['S T R Group Ltd']                      3\n",
       "['R M Solutions']                        2\n",
       "['J P Scarlet & Associates']             2\n",
       "['C M recruitment']                      1\n",
       "['E V Offshore Limited']                 1\n",
       "['R S S Limited']                        1\n",
       "['A D Recruitment']                      1\n",
       "['V G Clements Ltd']                     1\n",
       "['E J CHURCH']                           1\n",
       "['O L Recruitment']                      1\n",
       "['R E Personnel']                        1\n",
       "['S W Ventures Ltd']                     1\n",
       "['D D London']                           1\n",
       "['G F Foods Ltd']                        1\n",
       "['1 1 Recruitment Limited']              1\n",
       "['B B London LTD']                       1\n",
       "['P F Jones Ltd']                        1\n",
       "['F W Media International Ltd']          1\n",
       "['S M Scotland']                         1\n",
       "['S P A Enterprise Services Ltd']        1\n",
       "['T M Travel']                           1\n",
       "['A B Resourcing']                       1\n",
       "['1 1 Recruitment']                      1\n",
       "['J R Media']                            1\n",
       "['S H Systems']                          1\n",
       "['A R Events']                           1\n",
       "['N P Projects Ltd']                     1\n",
       "['J J I Designer Interiors Ltd']         1\n",
       "['B J Distribution Ltd']                 1\n",
       "['S D V Escalators Ltd']                 1\n",
       "['D P Connect']                          1\n",
       "Name: Company, dtype: int64"
      ]
     },
     "execution_count": 60,
     "metadata": {},
     "output_type": "execute_result"
    }
   ],
   "source": [
    "# check if string have one letter for the 1st and second or 3 \n",
    "df.Company.apply(lambda x: re.findall(r'^\\w\\s+\\w\\s+\\w+.+$', x)).astype('str').value_counts()\n"
   ]
  },
  {
   "cell_type": "code",
   "execution_count": 61,
   "metadata": {},
   "outputs": [],
   "source": [
    "# white space in the 1st word\n",
    "white_space = df.Company.apply(lambda x: re.findall(r'^\\w\\s+\\w\\s+\\w+.+$', x)).astype('str').value_counts().index[1:]\n",
    "white_space= [i.strip('[]\\'') for i in white_space]\n",
    "indices = df[df.Company.isin(white_space)].index\n",
    "\n",
    "\n",
    "# create a method to join words\n",
    "def join_letters(x):\n",
    "    lisT = x.split(' ')\n",
    "    \n",
    "    if len(lisT[2]) >1:\n",
    "        \n",
    "        first_2 = ''.join(lisT[:2]).split()\n",
    "        first_2.append(lisT[-1])\n",
    "        whole = ' '.join(first_2)\n",
    "        return whole\n",
    "    \n",
    "    if len(lisT[2]) == 1:\n",
    "        \n",
    "        if len(lisT[3]) == 1:\n",
    "            frist_4= ''.join(lisT[:4]).split()\n",
    "            frist_4.append(lisT[-1])\n",
    "            whole = ' '.join(frist_4)\n",
    "            return whole\n",
    "        \n",
    "        else:\n",
    "            frist_3 = ''.join(lisT[:3]).split()\n",
    "            frist_3.append(lisT[-1])\n",
    "            whole = ' '.join(frist_3)\n",
    "            return whole\n",
    "\n",
    "        \n",
    "        \n",
    "# report\n",
    "for i in indices:\n",
    "    updateErlist(i, df.loc[i, 'ID'], 'Company', df.loc[i,'Company'],join_letters(df.loc[i,'Company']) , 'irregularities', 'change abb/limited to Limited')\n",
    "\n",
    "    \n",
    "# fix\n",
    "df.loc[indices, 'Company'] = df.loc[indices, 'Company'].apply(lambda x: join_letters(x))\n",
    "\n",
    "# check\n",
    "#df.loc[indices, 'Company']"
   ]
  },
  {
   "cell_type": "markdown",
   "metadata": {},
   "source": [
    "#### 2.6 ContractType "
   ]
  },
  {
   "cell_type": "code",
   "execution_count": 62,
   "metadata": {
    "scrolled": true
   },
   "outputs": [
    {
     "data": {
      "text/plain": [
       "             16619\n",
       "full_time    11752\n",
       "N/A           9419\n",
       "-             6194\n",
       "              5204\n",
       "part_time     1515\n",
       "Name: ContractType, dtype: int64"
      ]
     },
     "execution_count": 62,
     "metadata": {},
     "output_type": "execute_result"
    }
   ],
   "source": [
    "# check the unique values and their frequency\n",
    "df.ContractType.value_counts()"
   ]
  },
  {
   "cell_type": "code",
   "execution_count": 63,
   "metadata": {},
   "outputs": [
    {
     "data": {
      "text/plain": [
       "non_specificed    37436\n",
       "full_time         11752\n",
       "part_time          1515\n",
       "Name: ContractType, dtype: int64"
      ]
     },
     "execution_count": 63,
     "metadata": {},
     "output_type": "execute_result"
    }
   ],
   "source": [
    "# filter full time and part time\n",
    "fulltime = df.ContractType == 'full_time'\n",
    "parttime = df.ContractType == 'part_time'\n",
    "\n",
    "# locate the errors\n",
    "indices = df.loc[(~fulltime)&(~parttime), 'ContractType'].index\n",
    "\n",
    "# report errors\n",
    "for i in indices:\n",
    "    updateErlist(i, df.loc[i, 'ID'], 'ContractType',df.loc[i,'ContractType'], 'non_specificed', 'missing values', 'non_specificed')\n",
    "\n",
    "# replace missing values to non_specificed\n",
    "df.loc[ indices,'ContractType'] = 'non_specificed'\n",
    "\n",
    "# reassure errors are fixed\n",
    "df.ContractType.value_counts()"
   ]
  },
  {
   "cell_type": "markdown",
   "metadata": {},
   "source": [
    "#### 2.7. Contract Time \n"
   ]
  },
  {
   "cell_type": "code",
   "execution_count": 64,
   "metadata": {},
   "outputs": [
    {
     "data": {
      "text/plain": [
       "permanent    30322\n",
       "              6607\n",
       "contract      5579\n",
       "              5097\n",
       "-             1832\n",
       "N/A           1266\n",
       "Name: ContractTime, dtype: int64"
      ]
     },
     "execution_count": 64,
     "metadata": {},
     "output_type": "execute_result"
    }
   ],
   "source": [
    "# find unique values and their fequency\n",
    "df.ContractTime.value_counts()"
   ]
  },
  {
   "cell_type": "code",
   "execution_count": 65,
   "metadata": {
    "scrolled": true
   },
   "outputs": [],
   "source": [
    "# filer permanent and contract\n",
    "permanent = df.ContractTime == 'permanent'\n",
    "contract = df.ContractTime == 'contract'\n",
    "\n",
    "# locate the errors\n",
    "indices = df.loc[(~permanent)&(~contract), 'ContractTime'].index\n",
    "\n",
    "# updaing error list\n",
    "for i in indices:\n",
    "    updateErlist(i, df.loc[i, 'ID'], 'ContractTime',df.loc[i,'ContractTime'], 'non_specificed', 'missing values', 'replace by non_specificed')\n",
    "\n",
    "# update missing value to non_specificed\n",
    "df.loc[indices,'ContractTime'] = 'non_specificed'\n",
    "\n"
   ]
  },
  {
   "cell_type": "markdown",
   "metadata": {},
   "source": [
    "#### 2.8. Salary\n"
   ]
  },
  {
   "cell_type": "code",
   "execution_count": 66,
   "metadata": {},
   "outputs": [
    {
     "data": {
      "text/plain": [
       "35000      1712\n",
       "30000      1664\n",
       "40000      1515\n",
       "45000      1357\n",
       "32500      1320\n",
       "           ... \n",
       "26937         1\n",
       "11023         1\n",
       "26929         1\n",
       "19992         1\n",
       "40812.0       1\n",
       "Name: Salary, Length: 3435, dtype: int64"
      ]
     },
     "execution_count": 66,
     "metadata": {},
     "output_type": "execute_result"
    }
   ],
   "source": [
    "df.Salary.value_counts()"
   ]
  },
  {
   "cell_type": "code",
   "execution_count": 67,
   "metadata": {
    "scrolled": false
   },
   "outputs": [
    {
     "data": {
      "text/plain": [
       "[]                    48578\n",
       "['N/A']                 519\n",
       "['.']                   405\n",
       "[' ']                   380\n",
       "['-']                   366\n",
       "['/year']               100\n",
       "[' pa']                 100\n",
       "[' - ']                 100\n",
       "[' to ']                100\n",
       "['K']                    50\n",
       "['.', ' per hour']        3\n",
       "['.', ' p/h']             2\n",
       "Name: Salary, dtype: int64"
      ]
     },
     "execution_count": 67,
     "metadata": {},
     "output_type": "execute_result"
    }
   ],
   "source": [
    "# check for non digit pattern\n",
    "df.Salary.apply(lambda x: re.findall(r'\\D+', x)).astype('str').value_counts()"
   ]
  },
  {
   "cell_type": "code",
   "execution_count": 68,
   "metadata": {},
   "outputs": [],
   "source": [
    "# crate a new column to recored the changing\n",
    "df['normalize'] = np.NaN"
   ]
  },
  {
   "cell_type": "code",
   "execution_count": 69,
   "metadata": {},
   "outputs": [],
   "source": [
    "# check for to/ - in the middle\n",
    "\n",
    "#df.Salary.apply(lambda x: re.findall(r'^\\d+[.]?\\d+ (?:-|to) \\d+[.]?\\d+$', x)).astype('str').value_counts()\n",
    "\n",
    "two_number =df.Salary.apply(lambda x: re.findall(r'^\\d+[.]?\\d+ (?:-|to) \\d+[.]?\\d+$', x)).astype('str').value_counts().index[1:]\n",
    "two_number = [i.strip(']|[|\\'') for i in two_number ]\n",
    "indices = df[df.Salary.isin(two_number)].index\n",
    "\n",
    "# create a method to calculate the average of 2 numbers\n",
    "def average(x):\n",
    "    result = re.fullmatch(r'^(\\d+[.]?\\d+) (?:-|to) (\\d+[.]?\\d+)$', x)\n",
    "    if result:\n",
    "        return (float(result.group(1)) + float(result.group(2)))/2\n",
    "    \n",
    "\n",
    "# return average into normalize column\n",
    "df.loc[indices, 'normalize'] = df.loc[indices, 'Salary'].apply(lambda x: average(x))\n",
    "\n",
    "# report\n",
    "for i in indices:\n",
    "    updateErlist(i, df.loc[i, 'ID'], 'Salary',df.loc[i,'Salary'], df.loc[i, 'normalize'], 'irregularity', 'get the average')\n",
    " \n"
   ]
  },
  {
   "cell_type": "code",
   "execution_count": 70,
   "metadata": {
    "scrolled": false
   },
   "outputs": [
    {
     "data": {
      "text/plain": [
       "200"
      ]
     },
     "execution_count": 70,
     "metadata": {},
     "output_type": "execute_result"
    }
   ],
   "source": [
    "# check how many values have not be converted to float\n",
    "df.normalize.notna().sum()\n"
   ]
  },
  {
   "cell_type": "code",
   "execution_count": 71,
   "metadata": {},
   "outputs": [],
   "source": [
    "# year, pa, K\n",
    "\n",
    "# year, pa\n",
    "year = df.Salary.apply(lambda x: re.findall(r'^\\d+\\s*(?:/year|pa)$', x)).astype('str').value_counts().index[1:]\n",
    "year= [i.strip(']|[|\\'') for i in year ]\n",
    "\n",
    "# K\n",
    "k = df.Salary.apply(lambda x: re.findall(r'^\\d+[.]?\\d?K$', x)).astype('str').value_counts().index[1:]\n",
    "k = [i.strip(']|[|\\'') for i in k ]\n",
    "\n",
    "# locate the errors\n",
    "year_indices = df[df.Salary.isin(year)].index\n",
    "k_indices = df[df.Salary.isin(k)].index\n",
    "\n",
    "\n",
    "\n",
    "# create a method return float without year/pa/K \n",
    "def year(x):\n",
    "    \n",
    "    #case 1: end with /year or pa\n",
    "    result = re.fullmatch(r'^(\\d+)\\s*(?:/year|pa)$', x)\n",
    "    if result:\n",
    "        return float(result.group(1)) # extract number only\n",
    "    \n",
    "    # case 2: end with K\n",
    "    result = re.fullmatch(r'^(\\d+[.]?\\d+)K$', x)\n",
    "    if result:\n",
    "        return float(result.group(1)+'000') # adding 000 in string\n",
    "    \n",
    "# extract the numbers and save them in normalize column   \n",
    "df.loc[year_indices, 'normalize'] = df.loc[year_indices, 'Salary'].apply(lambda x: year(x))\n",
    "\n",
    "#replace K to 000 and save it in normalize column\n",
    "df.loc[k_indices, 'normalize'] = df.loc[k_indices, 'Salary'].apply(lambda x: year(x))\n",
    "\n",
    "# report errors\n",
    "for i in year_indices:\n",
    "    updateErlist(i, df.loc[i, 'ID'], 'Salary',df.loc[i,'Salary'], df.loc[i, 'normalize'], 'irregularity', 'subtract /year, pa return float')\n",
    "\n",
    "for i in k_indices:\n",
    "    updateErlist(i, df.loc[i, 'ID'], 'Salary',df.loc[i,'Salary'], df.loc[i, 'normalize'], 'irregularity', 'subtract k return number in float with extra 3 zeros')\n",
    "    "
   ]
  },
  {
   "cell_type": "code",
   "execution_count": 72,
   "metadata": {},
   "outputs": [
    {
     "data": {
      "text/plain": [
       "450"
      ]
     },
     "execution_count": 72,
     "metadata": {},
     "output_type": "execute_result"
    }
   ],
   "source": [
    "df.normalize.notna().sum()"
   ]
  },
  {
   "cell_type": "code",
   "execution_count": 73,
   "metadata": {},
   "outputs": [
    {
     "data": {
      "text/plain": [
       "111      23536.5\n",
       "28893    28957.5\n",
       "35312    34515.0\n",
       "42252    29133.0\n",
       "44516    18427.5\n",
       "Name: normalize, dtype: float64"
      ]
     },
     "execution_count": 73,
     "metadata": {},
     "output_type": "execute_result"
    }
   ],
   "source": [
    "# per hour\n",
    "hour = df.Salary.apply(lambda x: re.findall(r'^\\d+[.]\\d+\\s+p[e/][\\w ]+$', x)).astype('str').value_counts().index[1:]\n",
    "hour= [i.strip(']|[|\\'') for i in hour ]\n",
    "\n",
    "# locate the errors\n",
    "indices = df[df.Salary.isin(hour)].index\n",
    "\n",
    "\n",
    "# create method to calculate hours to per annual\n",
    "def hours(x):\n",
    "    result = re.fullmatch(r'^(\\d+[.]\\d+)\\s+p[e/][\\w ]+$', x)\n",
    "    if result:\n",
    "        return float(result.group(1)) *37.5*52 \n",
    "\n",
    "# save the calculated salary per year in normalize column\n",
    "df.loc[indices, 'normalize'] = df.loc[indices, 'Salary'].apply(lambda x: hours(x))\n",
    "\n",
    "\n",
    "# update error list\n",
    "for i in indices:\n",
    "    updateErlist(i, df.loc[i, 'ID'], 'Salary',df.loc[i,'Salary'], df.loc[i, 'normalize'], 'irregularity', 'hours*37.5*52')\n",
    "\n",
    "df.loc[indices, 'normalize']"
   ]
  },
  {
   "cell_type": "code",
   "execution_count": 74,
   "metadata": {},
   "outputs": [
    {
     "data": {
      "text/plain": [
       "455"
      ]
     },
     "execution_count": 74,
     "metadata": {},
     "output_type": "execute_result"
    }
   ],
   "source": [
    "df.normalize.notna().sum()"
   ]
  },
  {
   "cell_type": "code",
   "execution_count": 75,
   "metadata": {
    "scrolled": true
   },
   "outputs": [
    {
     "data": {
      "text/plain": [
       "[]         48378\n",
       "['']        1060\n",
       "['N/A']      519\n",
       "[' ']        380\n",
       "['-']        366\n",
       "Name: Salary, dtype: int64"
      ]
     },
     "execution_count": 75,
     "metadata": {},
     "output_type": "execute_result"
    }
   ],
   "source": [
    "# check for missing values\n",
    "df.Salary.apply(lambda x: re.findall(r'^\\D*$', x)).astype('str').value_counts()\n"
   ]
  },
  {
   "cell_type": "code",
   "execution_count": 76,
   "metadata": {
    "scrolled": true
   },
   "outputs": [],
   "source": [
    "# filter missing value\n",
    "na = df.Salary == 'N/A'\n",
    "hyphen = df.Salary == '-'\n",
    "empty = df.Salary == ''\n",
    "whiteSpace = df.Salary == ' '\n",
    "\n",
    "# find the missing values indices\n",
    "indices = df.loc[na|hyphen|empty|whiteSpace, 'Salary'].index\n",
    "    \n",
    "# save missing values as  nan in normalize column\n",
    "df.loc[indices, 'normalize'] = np.NaN"
   ]
  },
  {
   "cell_type": "code",
   "execution_count": 77,
   "metadata": {},
   "outputs": [
    {
     "data": {
      "text/plain": [
       "2325"
      ]
     },
     "execution_count": 77,
     "metadata": {},
     "output_type": "execute_result"
    }
   ],
   "source": [
    "len(indices)"
   ]
  },
  {
   "cell_type": "code",
   "execution_count": 78,
   "metadata": {
    "scrolled": true
   },
   "outputs": [
    {
     "data": {
      "text/plain": [
       "2325"
      ]
     },
     "execution_count": 78,
     "metadata": {},
     "output_type": "execute_result"
    }
   ],
   "source": [
    "# locate values in didgit form\n",
    "a = df.Salary.apply(lambda x: re.findall(r'^(\\d+[.]?\\d*)$', x)).astype('str').value_counts().index[1:]\n",
    "hour= [i.strip(']|[|\\'') for i in a ]\n",
    "indices = df[df.Salary.isin(hour)].index\n",
    "#len(indices)\n",
    "\n",
    "# tranfer values to normalize columns and covert them to float\n",
    "df.loc[indices, 'normalize'] = df.loc[indices, 'Salary'].astype('float')\n",
    "\n",
    "\n",
    "# Chech to see if any missing value left\n",
    "df['normalize'].isna().sum()"
   ]
  },
  {
   "cell_type": "code",
   "execution_count": 79,
   "metadata": {},
   "outputs": [],
   "source": [
    "# find salary with 0 and return Nan in normalize column\n",
    "filter_zero = df.normalize == 0.0\n",
    "indices = df[filter_zero].index\n",
    "# fill zero by np.NaN\n",
    "df.loc[indices, 'normalize'] = np.NaN"
   ]
  },
  {
   "cell_type": "code",
   "execution_count": 80,
   "metadata": {
    "scrolled": false
   },
   "outputs": [
    {
     "data": {
      "text/plain": [
       "24343   NaN\n",
       "24352   NaN\n",
       "24374   NaN\n",
       "24385   NaN\n",
       "24390   NaN\n",
       "         ..\n",
       "50531   NaN\n",
       "50532   NaN\n",
       "50535   NaN\n",
       "50539   NaN\n",
       "50635   NaN\n",
       "Name: normalize, Length: 173, dtype: float64"
      ]
     },
     "execution_count": 80,
     "metadata": {},
     "output_type": "execute_result"
    }
   ],
   "source": [
    "df.loc[indices, 'normalize']"
   ]
  },
  {
   "cell_type": "code",
   "execution_count": 81,
   "metadata": {},
   "outputs": [
    {
     "data": {
      "text/plain": [
       "2498"
      ]
     },
     "execution_count": 81,
     "metadata": {},
     "output_type": "execute_result"
    }
   ],
   "source": [
    "df.normalize.isna().sum()"
   ]
  },
  {
   "cell_type": "markdown",
   "metadata": {},
   "source": [
    "### Outliers"
   ]
  },
  {
   "cell_type": "code",
   "execution_count": 82,
   "metadata": {},
   "outputs": [
    {
     "data": {
      "text/plain": [
       "<AxesSubplot:title={'center':'normalize'}, xlabel='Category'>"
      ]
     },
     "execution_count": 82,
     "metadata": {},
     "output_type": "execute_result"
    },
    {
     "data": {
      "image/png": "[encoded data removed]",
      "text/plain": [
       "<Figure size 576x576 with 1 Axes>"
      ]
     },
     "metadata": {
      "needs_background": "light"
     },
     "output_type": "display_data"
    }
   ],
   "source": [
    "# check outliers by Category\n",
    "df.boxplot(column='normalize', by = 'Category',sym='k.', figsize=(8, 8), rot = 90)"
   ]
  },
  {
   "cell_type": "code",
   "execution_count": 83,
   "metadata": {},
   "outputs": [
    {
     "name": "stdout",
     "output_type": "stream",
     "text": [
      "there are 10 outliers in salary\n"
     ]
    },
    {
     "data": {
      "image/png": "[encoded data removed]",
      "text/plain": [
       "<Figure size 576x576 with 1 Axes>"
      ]
     },
     "metadata": {
      "needs_background": "light"
     },
     "output_type": "display_data"
    }
   ],
   "source": [
    "# loop through all categorical type to find outliers. If there are oultiers\n",
    "outliers_list = []\n",
    "for cat in df.Category.unique():\n",
    "    # get a boxplot to observer and find outliers\n",
    "    _,a = df[df['Category'] == cat].boxplot(column='normalize',sym='k.', figsize=(8, 8), return_type='both') \n",
    "    \n",
    "    # outlier.get_ydata return values on the y axis\n",
    "    outliers = [flier.get_ydata() for flier in a[\"fliers\"]] # extract the outlier values\n",
    "    \n",
    "    # if the type have outliers\n",
    "    if len(outliers[0])>0:\n",
    "    # get the indinces that have outliers\n",
    "        condition = (df['Category'] == cat) & (df['normalize'] >= min(outliers[0]))\n",
    "        indices = df[condition].index\n",
    "        \n",
    "        for i in indices:\n",
    "            outliers_list.append(i)\n",
    "            \n",
    "            \n",
    " \n",
    "print('there are', len(outliers_list), 'outliers in salary')"
   ]
  },
  {
   "cell_type": "code",
   "execution_count": 84,
   "metadata": {
    "scrolled": false
   },
   "outputs": [
    {
     "data": {
      "text/html": [
       "<div>\n",
       "<style scoped>\n",
       "    .dataframe tbody tr th:only-of-type {\n",
       "        vertical-align: middle;\n",
       "    }\n",
       "\n",
       "    .dataframe tbody tr th {\n",
       "        vertical-align: top;\n",
       "    }\n",
       "\n",
       "    .dataframe thead th {\n",
       "        text-align: right;\n",
       "    }\n",
       "</style>\n",
       "<table border=\"1\" class=\"dataframe\">\n",
       "  <thead>\n",
       "    <tr style=\"text-align: right;\">\n",
       "      <th></th>\n",
       "      <th>Category</th>\n",
       "      <th>Salary</th>\n",
       "      <th>normalize</th>\n",
       "    </tr>\n",
       "  </thead>\n",
       "  <tbody>\n",
       "    <tr>\n",
       "      <th>48952</th>\n",
       "      <td>Accounting &amp; Finance Jobs</td>\n",
       "      <td>120000</td>\n",
       "      <td>120000.0</td>\n",
       "    </tr>\n",
       "    <tr>\n",
       "      <th>23775</th>\n",
       "      <td>IT Jobs</td>\n",
       "      <td>150000</td>\n",
       "      <td>150000.0</td>\n",
       "    </tr>\n",
       "    <tr>\n",
       "      <th>25190</th>\n",
       "      <td>IT Jobs</td>\n",
       "      <td>100000</td>\n",
       "      <td>100000.0</td>\n",
       "    </tr>\n",
       "    <tr>\n",
       "      <th>45677</th>\n",
       "      <td>Engineering Jobs</td>\n",
       "      <td>10000000</td>\n",
       "      <td>10000000.0</td>\n",
       "    </tr>\n",
       "    <tr>\n",
       "      <th>46418</th>\n",
       "      <td>Engineering Jobs</td>\n",
       "      <td>80000</td>\n",
       "      <td>80000.0</td>\n",
       "    </tr>\n",
       "    <tr>\n",
       "      <th>13689</th>\n",
       "      <td>Sales Jobs</td>\n",
       "      <td>80000</td>\n",
       "      <td>80000.0</td>\n",
       "    </tr>\n",
       "    <tr>\n",
       "      <th>46326</th>\n",
       "      <td>Sales Jobs</td>\n",
       "      <td>10000000</td>\n",
       "      <td>10000000.0</td>\n",
       "    </tr>\n",
       "    <tr>\n",
       "      <th>47</th>\n",
       "      <td>Hospitality &amp; Catering Jobs</td>\n",
       "      <td>80000</td>\n",
       "      <td>80000.0</td>\n",
       "    </tr>\n",
       "    <tr>\n",
       "      <th>9754</th>\n",
       "      <td>Hospitality &amp; Catering Jobs</td>\n",
       "      <td>60000</td>\n",
       "      <td>60000.0</td>\n",
       "    </tr>\n",
       "    <tr>\n",
       "      <th>43716</th>\n",
       "      <td>Teaching Jobs</td>\n",
       "      <td>80000</td>\n",
       "      <td>80000.0</td>\n",
       "    </tr>\n",
       "  </tbody>\n",
       "</table>\n",
       "</div>"
      ],
      "text/plain": [
       "                          Category    Salary   normalize\n",
       "48952    Accounting & Finance Jobs    120000    120000.0\n",
       "23775                      IT Jobs    150000    150000.0\n",
       "25190                      IT Jobs    100000    100000.0\n",
       "45677             Engineering Jobs  10000000  10000000.0\n",
       "46418             Engineering Jobs     80000     80000.0\n",
       "13689                   Sales Jobs     80000     80000.0\n",
       "46326                   Sales Jobs  10000000  10000000.0\n",
       "47     Hospitality & Catering Jobs     80000     80000.0\n",
       "9754   Hospitality & Catering Jobs     60000     60000.0\n",
       "43716                Teaching Jobs     80000     80000.0"
      ]
     },
     "execution_count": 84,
     "metadata": {},
     "output_type": "execute_result"
    }
   ],
   "source": [
    "# Check display outliers by categry\n",
    "df.loc[outliers_list, ['Category', 'Salary', 'normalize']]"
   ]
  },
  {
   "cell_type": "code",
   "execution_count": 85,
   "metadata": {},
   "outputs": [
    {
     "data": {
      "text/plain": [
       "[48952, 23775, 25190, 45677, 46418, 13689, 46326, 47, 9754, 43716]"
      ]
     },
     "execution_count": 85,
     "metadata": {},
     "output_type": "execute_result"
    }
   ],
   "source": [
    "outliers_list"
   ]
  },
  {
   "cell_type": "code",
   "execution_count": 86,
   "metadata": {
    "scrolled": true
   },
   "outputs": [],
   "source": [
    "# update error list for outliers\n",
    "for i in outliers_list:\n",
    "    updateErlist(i, df.loc[i, 'ID'], 'Salary', df.loc[i,'Salary'], df.loc[i,'normalize'], 'Outliers',\"droped\") \n",
    "            \n",
    "\n",
    "# drop outliers by mean based on category\n",
    "df.drop(outliers_list, inplace=True)\n"
   ]
  },
  {
   "cell_type": "code",
   "execution_count": 87,
   "metadata": {},
   "outputs": [
    {
     "data": {
      "text/plain": [
       "IT Jobs                             625\n",
       "Healthcare & Nursing Jobs           411\n",
       "Engineering Jobs                    392\n",
       "Accounting & Finance Jobs           340\n",
       "Hospitality & Catering Jobs         225\n",
       "Sales Jobs                          212\n",
       "Teaching Jobs                       155\n",
       "PR, Advertising & Marketing Jobs    138\n",
       "Name: Category, dtype: int64"
      ]
     },
     "execution_count": 87,
     "metadata": {},
     "output_type": "execute_result"
    }
   ],
   "source": [
    "# number of missing values group by category\n",
    "df[df.normalize.isna()].Category.value_counts()\n"
   ]
  },
  {
   "cell_type": "code",
   "execution_count": 88,
   "metadata": {
    "scrolled": true
   },
   "outputs": [],
   "source": [
    "# locate missing value\n",
    "indices = df[df.normalize.isna()].index\n",
    "\n",
    "# fill missing value by the mean grouped by Category\n",
    "df.normalize.fillna(df.groupby('Category')['normalize'].transform('mean').round(2), inplace=True)\n",
    "\n",
    "\n",
    "# update error list for missing values\n",
    "for i in indices:\n",
    "    updateErlist(i, df.loc[i, 'ID'], 'Salary',df.loc[i, 'Salary'], df.loc[i, 'normalize'], 'mising value', 'fill by mean group by category') "
   ]
  },
  {
   "cell_type": "code",
   "execution_count": 89,
   "metadata": {},
   "outputs": [
    {
     "data": {
      "text/plain": [
       "0"
      ]
     },
     "execution_count": 89,
     "metadata": {},
     "output_type": "execute_result"
    }
   ],
   "source": [
    "df.Salary.isna().sum()"
   ]
  },
  {
   "cell_type": "code",
   "execution_count": 90,
   "metadata": {},
   "outputs": [],
   "source": [
    "# report convert Salary to float\n",
    "updateErlist('ALL', 'ALL', 'Salary','ALL', 'ALL', 'wrong data type', 'convert to float')  \n",
    "    "
   ]
  },
  {
   "cell_type": "code",
   "execution_count": 91,
   "metadata": {},
   "outputs": [],
   "source": [
    "# drop the original salary column as all the values have been transfer\n",
    "df.drop('Salary', axis=1, inplace=True)\n",
    "\n",
    "# rename normalize column to salary\n",
    "df.rename(columns={'normalize':'Salary'},  inplace=True)"
   ]
  },
  {
   "cell_type": "markdown",
   "metadata": {},
   "source": [
    "#### 2.9. OpenDate "
   ]
  },
  {
   "cell_type": "code",
   "execution_count": 92,
   "metadata": {},
   "outputs": [
    {
     "data": {
      "text/plain": [
       "0    20130112T000000\n",
       "1    20131215T120000\n",
       "2    20130706T000000\n",
       "3    20130916T150000\n",
       "4    20120404T150000\n",
       "Name: OpenDate, dtype: object"
      ]
     },
     "execution_count": 92,
     "metadata": {},
     "output_type": "execute_result"
    }
   ],
   "source": [
    "df.OpenDate.head()"
   ]
  },
  {
   "cell_type": "code",
   "execution_count": 93,
   "metadata": {},
   "outputs": [],
   "source": [
    "# subtract T\n",
    "df.OpenDate = df.OpenDate.apply(lambda x: re.sub('T', '', x))\n",
    "\n",
    "# report error\n",
    "updateErlist('ALL', 'ALL', 'OpenDate','ALL', 'ALL', 'Irregularities,', 'subtract T')\n",
    "\n"
   ]
  },
  {
   "cell_type": "code",
   "execution_count": 94,
   "metadata": {},
   "outputs": [
    {
     "name": "stdout",
     "output_type": "stream",
     "text": [
      "max: 20131712150000\n",
      "min: 20120101000000\n"
     ]
    }
   ],
   "source": [
    "print('max:', df.OpenDate.max())\n",
    "print(\"min:\", df.OpenDate.min())"
   ]
  },
  {
   "cell_type": "markdown",
   "metadata": {},
   "source": [
    "check on year"
   ]
  },
  {
   "cell_type": "code",
   "execution_count": 95,
   "metadata": {},
   "outputs": [
    {
     "data": {
      "text/plain": [
       "[]    50693\n",
       "Name: OpenDate, dtype: int64"
      ]
     },
     "execution_count": 95,
     "metadata": {},
     "output_type": "execute_result"
    }
   ],
   "source": [
    "# check year are not 2013 or 2012\n",
    "df.OpenDate.apply(lambda x: re.findall(r'^[^2][^0][^1][^23].+$', x)).astype('str').value_counts()"
   ]
  },
  {
   "cell_type": "markdown",
   "metadata": {},
   "source": [
    "check on month"
   ]
  },
  {
   "cell_type": "code",
   "execution_count": 96,
   "metadata": {
    "scrolled": false
   },
   "outputs": [
    {
     "data": {
      "text/plain": [
       "[]                    50692\n",
       "['20131712150000']        1\n",
       "Name: OpenDate, dtype: int64"
      ]
     },
     "execution_count": 96,
     "metadata": {},
     "output_type": "execute_result"
    }
   ],
   "source": [
    "# check the months are not from 1 to 12\n",
    "df.OpenDate.apply(lambda x: re.findall(r'^\\d{4}[1][^012]\\d{8}$', x)).astype('str').value_counts()"
   ]
  },
  {
   "cell_type": "code",
   "execution_count": 97,
   "metadata": {},
   "outputs": [
    {
     "data": {
      "text/html": [
       "<div>\n",
       "<style scoped>\n",
       "    .dataframe tbody tr th:only-of-type {\n",
       "        vertical-align: middle;\n",
       "    }\n",
       "\n",
       "    .dataframe tbody tr th {\n",
       "        vertical-align: top;\n",
       "    }\n",
       "\n",
       "    .dataframe thead th {\n",
       "        text-align: right;\n",
       "    }\n",
       "</style>\n",
       "<table border=\"1\" class=\"dataframe\">\n",
       "  <thead>\n",
       "    <tr style=\"text-align: right;\">\n",
       "      <th></th>\n",
       "      <th>ID</th>\n",
       "      <th>Title</th>\n",
       "      <th>Location</th>\n",
       "      <th>Company</th>\n",
       "      <th>ContractType</th>\n",
       "      <th>ContractTime</th>\n",
       "      <th>Category</th>\n",
       "      <th>OpenDate</th>\n",
       "      <th>CloseDate</th>\n",
       "      <th>SourceName</th>\n",
       "      <th>Salary</th>\n",
       "    </tr>\n",
       "  </thead>\n",
       "  <tbody>\n",
       "    <tr>\n",
       "      <th>49468</th>\n",
       "      <td>70420213</td>\n",
       "      <td>Credit New Business Producer</td>\n",
       "      <td>South East England</td>\n",
       "      <td>Lawes Insurance Recruitment</td>\n",
       "      <td>non_specificed</td>\n",
       "      <td>permanent</td>\n",
       "      <td>Accounting &amp; Finance Jobs</td>\n",
       "      <td>20131712150000</td>\n",
       "      <td>20140215T150000</td>\n",
       "      <td>insurancejobs.co.uk</td>\n",
       "      <td>60000.0</td>\n",
       "    </tr>\n",
       "  </tbody>\n",
       "</table>\n",
       "</div>"
      ],
      "text/plain": [
       "             ID                         Title            Location  \\\n",
       "49468  70420213  Credit New Business Producer  South East England   \n",
       "\n",
       "                           Company    ContractType ContractTime  \\\n",
       "49468  Lawes Insurance Recruitment  non_specificed    permanent   \n",
       "\n",
       "                        Category        OpenDate        CloseDate  \\\n",
       "49468  Accounting & Finance Jobs  20131712150000  20140215T150000   \n",
       "\n",
       "                SourceName   Salary  \n",
       "49468  insurancejobs.co.uk  60000.0  "
      ]
     },
     "execution_count": 97,
     "metadata": {},
     "output_type": "execute_result"
    }
   ],
   "source": [
    "df[df.OpenDate == '20131712150000']"
   ]
  },
  {
   "cell_type": "code",
   "execution_count": 98,
   "metadata": {},
   "outputs": [],
   "source": [
    "#report error\n",
    "updateErlist(49468, 70420213, 'OpenDate','20131712150000', '20131217150000', 'Violations of the Integrity constraint', 'swap month to 12, day to 17')\n",
    "\n",
    "# fix\n",
    "df.loc[df.OpenDate == '20131712150000', 'OpenDate'] = '20131217150000'"
   ]
  },
  {
   "cell_type": "markdown",
   "metadata": {},
   "source": [
    "check date"
   ]
  },
  {
   "cell_type": "code",
   "execution_count": 99,
   "metadata": {
    "scrolled": true
   },
   "outputs": [
    {
     "data": {
      "text/plain": [
       "[]    50693\n",
       "Name: OpenDate, dtype: int64"
      ]
     },
     "execution_count": 99,
     "metadata": {},
     "output_type": "execute_result"
    }
   ],
   "source": [
    "# 2012 is leap year where 2013 is not\n",
    "df.OpenDate.apply(lambda x: re.findall(r'^20130229.+$', x)).astype('str').value_counts()"
   ]
  },
  {
   "cell_type": "code",
   "execution_count": 100,
   "metadata": {},
   "outputs": [
    {
     "data": {
      "text/plain": [
       "[]    50693\n",
       "Name: OpenDate, dtype: int64"
      ]
     },
     "execution_count": 100,
     "metadata": {},
     "output_type": "execute_result"
    }
   ],
   "source": [
    "# check for day 30 or 31 in all month\n",
    "df.OpenDate.apply(lambda x: re.findall(r'^d{6}3[10].+$', x)).astype('str').value_counts()"
   ]
  },
  {
   "cell_type": "code",
   "execution_count": 101,
   "metadata": {},
   "outputs": [
    {
     "data": {
      "text/plain": [
       "[]    50693\n",
       "Name: OpenDate, dtype: int64"
      ]
     },
     "execution_count": 101,
     "metadata": {},
     "output_type": "execute_result"
    }
   ],
   "source": [
    "# check for day greater than 31\n",
    "df.OpenDate.apply(lambda x: re.findall(r'^d{6}3[^10].+$', x)).astype('str').value_counts()"
   ]
  },
  {
   "cell_type": "markdown",
   "metadata": {},
   "source": [
    "check hour"
   ]
  },
  {
   "cell_type": "code",
   "execution_count": 102,
   "metadata": {},
   "outputs": [
    {
     "data": {
      "text/plain": [
       "[]    50693\n",
       "Name: OpenDate, dtype: int64"
      ]
     },
     "execution_count": 102,
     "metadata": {},
     "output_type": "execute_result"
    }
   ],
   "source": [
    "# find hour greater than 23\n",
    "df.OpenDate.apply(lambda x: re.findall(r'^d{8}2[^0123].+$', x)).astype('str').value_counts()"
   ]
  },
  {
   "cell_type": "markdown",
   "metadata": {},
   "source": [
    "check minute"
   ]
  },
  {
   "cell_type": "code",
   "execution_count": 103,
   "metadata": {},
   "outputs": [
    {
     "data": {
      "text/plain": [
       "[]    50693\n",
       "Name: OpenDate, dtype: int64"
      ]
     },
     "execution_count": 103,
     "metadata": {},
     "output_type": "execute_result"
    }
   ],
   "source": [
    "# find hour greater than 23\n",
    "df.OpenDate.apply(lambda x: re.findall(r'^d{10}6\\d.+$', x)).astype('str').value_counts()"
   ]
  },
  {
   "cell_type": "markdown",
   "metadata": {},
   "source": [
    "check second"
   ]
  },
  {
   "cell_type": "code",
   "execution_count": 104,
   "metadata": {},
   "outputs": [
    {
     "data": {
      "text/plain": [
       "[]    50693\n",
       "Name: OpenDate, dtype: int64"
      ]
     },
     "execution_count": 104,
     "metadata": {},
     "output_type": "execute_result"
    }
   ],
   "source": [
    "# check second more than 60\n",
    "df.OpenDate.apply(lambda x: re.findall(r'^d{12}6\\d$', x)).astype('str').value_counts()"
   ]
  },
  {
   "cell_type": "code",
   "execution_count": 105,
   "metadata": {},
   "outputs": [],
   "source": [
    "# convert to date time\n",
    "df['OpenDate'] = pd.to_datetime(df['OpenDate'], format='%Y%m%d%H%M%S')\n",
    "\n",
    "# report\n",
    "updateErlist('ALL', 'ALL', 'OpenDate','ALL', 'ALL', 'wrong data type', 'convert to datetime')"
   ]
  },
  {
   "cell_type": "code",
   "execution_count": 106,
   "metadata": {},
   "outputs": [
    {
     "data": {
      "text/plain": [
       "0   2013-01-12 00:00:00\n",
       "1   2013-12-15 12:00:00\n",
       "2   2013-07-06 00:00:00\n",
       "3   2013-09-16 15:00:00\n",
       "4   2012-04-04 15:00:00\n",
       "Name: OpenDate, dtype: datetime64[ns]"
      ]
     },
     "execution_count": 106,
     "metadata": {},
     "output_type": "execute_result"
    }
   ],
   "source": [
    "df['OpenDate'].head()"
   ]
  },
  {
   "cell_type": "markdown",
   "metadata": {},
   "source": [
    "#### 2.10. CloseDate "
   ]
  },
  {
   "cell_type": "code",
   "execution_count": 107,
   "metadata": {},
   "outputs": [
    {
     "data": {
      "text/plain": [
       "0    20130313T000000\n",
       "1    20140315T120000\n",
       "2    20130904T000000\n",
       "3    20131016T150000\n",
       "4    20120703T150000\n",
       "Name: CloseDate, dtype: object"
      ]
     },
     "execution_count": 107,
     "metadata": {},
     "output_type": "execute_result"
    }
   ],
   "source": [
    "df.CloseDate.head()"
   ]
  },
  {
   "cell_type": "code",
   "execution_count": 108,
   "metadata": {},
   "outputs": [],
   "source": [
    "# subtract T\n",
    "df.CloseDate = df.CloseDate.apply(lambda x: re.sub('T', '', x))\n",
    "\n",
    "# report error\n",
    "updateErlist('ALL', 'ALL', 'CloseDate','ALL', 'ALL', 'Irregularities', 'subtract T')"
   ]
  },
  {
   "cell_type": "code",
   "execution_count": 109,
   "metadata": {},
   "outputs": [
    {
     "name": "stdout",
     "output_type": "stream",
     "text": [
      "max:  20140331150000\n",
      "min:  20120115120000\n"
     ]
    }
   ],
   "source": [
    "print('max: ',df.CloseDate.max())\n",
    "print('min: ', df.CloseDate.min())"
   ]
  },
  {
   "cell_type": "markdown",
   "metadata": {},
   "source": [
    "check year"
   ]
  },
  {
   "cell_type": "code",
   "execution_count": 110,
   "metadata": {},
   "outputs": [
    {
     "data": {
      "text/plain": [
       "[]    50693\n",
       "Name: CloseDate, dtype: int64"
      ]
     },
     "execution_count": 110,
     "metadata": {},
     "output_type": "execute_result"
    }
   ],
   "source": [
    "# check year not in 2012-2014\n",
    "df.CloseDate.apply(lambda x: re.findall(r'^201[^234].+$', x)).astype('str').value_counts()"
   ]
  },
  {
   "cell_type": "markdown",
   "metadata": {},
   "source": [
    "check month"
   ]
  },
  {
   "cell_type": "code",
   "execution_count": 111,
   "metadata": {},
   "outputs": [
    {
     "data": {
      "text/plain": [
       "[]    50693\n",
       "Name: CloseDate, dtype: int64"
      ]
     },
     "execution_count": 111,
     "metadata": {},
     "output_type": "execute_result"
    }
   ],
   "source": [
    "# check for moth not from 1 to 12\n",
    "df.CloseDate.apply(lambda x: re.findall(r'^\\d{4}[1][^012]\\d{8}$', x)).astype('str').value_counts()"
   ]
  },
  {
   "cell_type": "markdown",
   "metadata": {},
   "source": [
    "check date"
   ]
  },
  {
   "cell_type": "code",
   "execution_count": 112,
   "metadata": {},
   "outputs": [
    {
     "data": {
      "text/plain": [
       "[]    50693\n",
       "Name: CloseDate, dtype: int64"
      ]
     },
     "execution_count": 112,
     "metadata": {},
     "output_type": "execute_result"
    }
   ],
   "source": [
    "# check if 2013 has 29 days in feb\n",
    "df.CloseDate.apply(lambda x: re.findall(r'^20130229.+$', x)).astype('str').value_counts()"
   ]
  },
  {
   "cell_type": "code",
   "execution_count": 113,
   "metadata": {},
   "outputs": [
    {
     "data": {
      "text/plain": [
       "[]    50693\n",
       "Name: CloseDate, dtype: int64"
      ]
     },
     "execution_count": 113,
     "metadata": {},
     "output_type": "execute_result"
    }
   ],
   "source": [
    "# check if there is day greater than 31\n",
    "df.CloseDate.apply(lambda x: re.findall(r'^d{6}3[^10]\\d{6}$', x)).astype('str').value_counts()"
   ]
  },
  {
   "cell_type": "code",
   "execution_count": 114,
   "metadata": {},
   "outputs": [
    {
     "data": {
      "text/plain": [
       "[]    50693\n",
       "Name: CloseDate, dtype: int64"
      ]
     },
     "execution_count": 114,
     "metadata": {},
     "output_type": "execute_result"
    }
   ],
   "source": [
    "# day month with 30 and 31\n",
    "df.CloseDate.apply(lambda x: re.findall(r'^d{6}3[10]\\d{6}$', x)).astype('str').value_counts()"
   ]
  },
  {
   "cell_type": "markdown",
   "metadata": {},
   "source": [
    "check hour"
   ]
  },
  {
   "cell_type": "code",
   "execution_count": 115,
   "metadata": {},
   "outputs": [
    {
     "data": {
      "text/plain": [
       "[]    50693\n",
       "Name: CloseDate, dtype: int64"
      ]
     },
     "execution_count": 115,
     "metadata": {},
     "output_type": "execute_result"
    }
   ],
   "source": [
    "# check hour\n",
    "df.CloseDate.apply(lambda x: re.findall(r'^d{8}2[^0123].+$', x)).astype('str').value_counts()"
   ]
  },
  {
   "cell_type": "markdown",
   "metadata": {},
   "source": [
    "check minute"
   ]
  },
  {
   "cell_type": "code",
   "execution_count": 116,
   "metadata": {},
   "outputs": [
    {
     "data": {
      "text/plain": [
       "[]    50693\n",
       "Name: CloseDate, dtype: int64"
      ]
     },
     "execution_count": 116,
     "metadata": {},
     "output_type": "execute_result"
    }
   ],
   "source": [
    "# check minute more than 60\n",
    "df.CloseDate.apply(lambda x: re.findall(r'^d{10}6\\d.+$', x)).astype('str').value_counts()"
   ]
  },
  {
   "cell_type": "markdown",
   "metadata": {},
   "source": [
    "check second"
   ]
  },
  {
   "cell_type": "code",
   "execution_count": 117,
   "metadata": {
    "scrolled": false
   },
   "outputs": [
    {
     "data": {
      "text/plain": [
       "[]    50693\n",
       "Name: CloseDate, dtype: int64"
      ]
     },
     "execution_count": 117,
     "metadata": {},
     "output_type": "execute_result"
    }
   ],
   "source": [
    "# check second more than 60\n",
    "df.CloseDate.apply(lambda x: re.findall(r'^d{12}6\\d$', x)).astype('str').value_counts()"
   ]
  },
  {
   "cell_type": "code",
   "execution_count": 118,
   "metadata": {},
   "outputs": [],
   "source": [
    "# convert to date time'CloseDate'\n",
    "df['CloseDate'] = pd.to_datetime(df['CloseDate'], format='%Y%m%d%H%M%S')\n",
    "\n",
    "# report\n",
    "updateErlist('ALL', 'ALL', 'CloseDate','ALL', 'ALL', 'wrong datatype', 'convert to datetime')"
   ]
  },
  {
   "cell_type": "markdown",
   "metadata": {},
   "source": [
    "## check if Close date < Opendate"
   ]
  },
  {
   "cell_type": "code",
   "execution_count": 119,
   "metadata": {},
   "outputs": [
    {
     "data": {
      "text/html": [
       "<div>\n",
       "<style scoped>\n",
       "    .dataframe tbody tr th:only-of-type {\n",
       "        vertical-align: middle;\n",
       "    }\n",
       "\n",
       "    .dataframe tbody tr th {\n",
       "        vertical-align: top;\n",
       "    }\n",
       "\n",
       "    .dataframe thead th {\n",
       "        text-align: right;\n",
       "    }\n",
       "</style>\n",
       "<table border=\"1\" class=\"dataframe\">\n",
       "  <thead>\n",
       "    <tr style=\"text-align: right;\">\n",
       "      <th></th>\n",
       "      <th>ID</th>\n",
       "      <th>Title</th>\n",
       "      <th>Location</th>\n",
       "      <th>Company</th>\n",
       "      <th>ContractType</th>\n",
       "      <th>ContractTime</th>\n",
       "      <th>Category</th>\n",
       "      <th>OpenDate</th>\n",
       "      <th>CloseDate</th>\n",
       "      <th>SourceName</th>\n",
       "      <th>Salary</th>\n",
       "      <th>violated</th>\n",
       "    </tr>\n",
       "  </thead>\n",
       "  <tbody>\n",
       "    <tr>\n",
       "      <th>16414</th>\n",
       "      <td>67382472</td>\n",
       "      <td>Risk Platforms Project Manager</td>\n",
       "      <td>London</td>\n",
       "      <td>Investigo Change Solutions</td>\n",
       "      <td>non_specificed</td>\n",
       "      <td>non_specificed</td>\n",
       "      <td>Accounting &amp; Finance Jobs</td>\n",
       "      <td>2013-05-02 12:00:00</td>\n",
       "      <td>2013-04-18 12:00:00</td>\n",
       "      <td>eFinancialCareers</td>\n",
       "      <td>60000.0</td>\n",
       "      <td>True</td>\n",
       "    </tr>\n",
       "    <tr>\n",
       "      <th>40287</th>\n",
       "      <td>67098385</td>\n",
       "      <td>Lead Internal Auditor</td>\n",
       "      <td>Bedfordshire</td>\n",
       "      <td>Randstad Financial &amp; Professional</td>\n",
       "      <td>full_time</td>\n",
       "      <td>permanent</td>\n",
       "      <td>Accounting &amp; Finance Jobs</td>\n",
       "      <td>2013-03-16 15:00:00</td>\n",
       "      <td>2013-01-15 15:00:00</td>\n",
       "      <td>GAAPweb</td>\n",
       "      <td>55000.0</td>\n",
       "      <td>True</td>\n",
       "    </tr>\n",
       "    <tr>\n",
       "      <th>40624</th>\n",
       "      <td>70570298</td>\n",
       "      <td>KS**** booster teacher needed ASAP</td>\n",
       "      <td>Ealing</td>\n",
       "      <td>Capita Education</td>\n",
       "      <td>full_time</td>\n",
       "      <td>contract</td>\n",
       "      <td>Teaching Jobs</td>\n",
       "      <td>2012-12-09 15:00:00</td>\n",
       "      <td>2012-11-09 15:00:00</td>\n",
       "      <td>jobs.newstatesman.com</td>\n",
       "      <td>33000.0</td>\n",
       "      <td>True</td>\n",
       "    </tr>\n",
       "    <tr>\n",
       "      <th>46309</th>\n",
       "      <td>71216010</td>\n",
       "      <td>AWARDS PROJECT OFFICER</td>\n",
       "      <td>Bedford</td>\n",
       "      <td>BlueTownOnline.co.uk</td>\n",
       "      <td>full_time</td>\n",
       "      <td>non_specificed</td>\n",
       "      <td>Sales Jobs</td>\n",
       "      <td>2012-06-05 00:00:00</td>\n",
       "      <td>2012-03-07 00:00:00</td>\n",
       "      <td>careerbuilder.com</td>\n",
       "      <td>30000.0</td>\n",
       "      <td>True</td>\n",
       "    </tr>\n",
       "    <tr>\n",
       "      <th>46366</th>\n",
       "      <td>71213560</td>\n",
       "      <td>Senior Sales/Sales Executive</td>\n",
       "      <td>Guildford</td>\n",
       "      <td>BMS Recruitment</td>\n",
       "      <td>full_time</td>\n",
       "      <td>non_specificed</td>\n",
       "      <td>Sales Jobs</td>\n",
       "      <td>2012-09-09 00:00:00</td>\n",
       "      <td>2012-08-10 00:00:00</td>\n",
       "      <td>careerbuilder.com</td>\n",
       "      <td>50000.0</td>\n",
       "      <td>True</td>\n",
       "    </tr>\n",
       "  </tbody>\n",
       "</table>\n",
       "</div>"
      ],
      "text/plain": [
       "             ID                               Title      Location  \\\n",
       "16414  67382472      Risk Platforms Project Manager        London   \n",
       "40287  67098385               Lead Internal Auditor  Bedfordshire   \n",
       "40624  70570298  KS**** booster teacher needed ASAP        Ealing   \n",
       "46309  71216010              AWARDS PROJECT OFFICER       Bedford   \n",
       "46366  71213560        Senior Sales/Sales Executive     Guildford   \n",
       "\n",
       "                                 Company    ContractType    ContractTime  \\\n",
       "16414         Investigo Change Solutions  non_specificed  non_specificed   \n",
       "40287  Randstad Financial & Professional       full_time       permanent   \n",
       "40624                   Capita Education       full_time        contract   \n",
       "46309               BlueTownOnline.co.uk       full_time  non_specificed   \n",
       "46366                    BMS Recruitment       full_time  non_specificed   \n",
       "\n",
       "                        Category            OpenDate           CloseDate  \\\n",
       "16414  Accounting & Finance Jobs 2013-05-02 12:00:00 2013-04-18 12:00:00   \n",
       "40287  Accounting & Finance Jobs 2013-03-16 15:00:00 2013-01-15 15:00:00   \n",
       "40624              Teaching Jobs 2012-12-09 15:00:00 2012-11-09 15:00:00   \n",
       "46309                 Sales Jobs 2012-06-05 00:00:00 2012-03-07 00:00:00   \n",
       "46366                 Sales Jobs 2012-09-09 00:00:00 2012-08-10 00:00:00   \n",
       "\n",
       "                  SourceName   Salary  violated  \n",
       "16414      eFinancialCareers  60000.0      True  \n",
       "40287                GAAPweb  55000.0      True  \n",
       "40624  jobs.newstatesman.com  33000.0      True  \n",
       "46309      careerbuilder.com  30000.0      True  \n",
       "46366      careerbuilder.com  50000.0      True  "
      ]
     },
     "execution_count": 119,
     "metadata": {},
     "output_type": "execute_result"
    }
   ],
   "source": [
    "# create a column to check for the violations\n",
    "df['violated'] = df.apply(lambda x: x.CloseDate < x.OpenDate, axis = 1)\n",
    "df[df['violated']]"
   ]
  },
  {
   "cell_type": "code",
   "execution_count": 120,
   "metadata": {},
   "outputs": [
    {
     "data": {
      "text/html": [
       "<div>\n",
       "<style scoped>\n",
       "    .dataframe tbody tr th:only-of-type {\n",
       "        vertical-align: middle;\n",
       "    }\n",
       "\n",
       "    .dataframe tbody tr th {\n",
       "        vertical-align: top;\n",
       "    }\n",
       "\n",
       "    .dataframe thead th {\n",
       "        text-align: right;\n",
       "    }\n",
       "</style>\n",
       "<table border=\"1\" class=\"dataframe\">\n",
       "  <thead>\n",
       "    <tr style=\"text-align: right;\">\n",
       "      <th></th>\n",
       "      <th>ID</th>\n",
       "      <th>Title</th>\n",
       "      <th>Location</th>\n",
       "      <th>Company</th>\n",
       "      <th>ContractType</th>\n",
       "      <th>ContractTime</th>\n",
       "      <th>Category</th>\n",
       "      <th>OpenDate</th>\n",
       "      <th>CloseDate</th>\n",
       "      <th>SourceName</th>\n",
       "      <th>Salary</th>\n",
       "      <th>violated</th>\n",
       "    </tr>\n",
       "  </thead>\n",
       "  <tbody>\n",
       "    <tr>\n",
       "      <th>16414</th>\n",
       "      <td>67382472</td>\n",
       "      <td>Risk Platforms Project Manager</td>\n",
       "      <td>London</td>\n",
       "      <td>Investigo Change Solutions</td>\n",
       "      <td>non_specificed</td>\n",
       "      <td>non_specificed</td>\n",
       "      <td>Accounting &amp; Finance Jobs</td>\n",
       "      <td>2013-04-18 12:00:00</td>\n",
       "      <td>2013-05-02 12:00:00</td>\n",
       "      <td>eFinancialCareers</td>\n",
       "      <td>60000.0</td>\n",
       "      <td>True</td>\n",
       "    </tr>\n",
       "    <tr>\n",
       "      <th>40287</th>\n",
       "      <td>67098385</td>\n",
       "      <td>Lead Internal Auditor</td>\n",
       "      <td>Bedfordshire</td>\n",
       "      <td>Randstad Financial &amp; Professional</td>\n",
       "      <td>full_time</td>\n",
       "      <td>permanent</td>\n",
       "      <td>Accounting &amp; Finance Jobs</td>\n",
       "      <td>2013-01-15 15:00:00</td>\n",
       "      <td>2013-03-16 15:00:00</td>\n",
       "      <td>GAAPweb</td>\n",
       "      <td>55000.0</td>\n",
       "      <td>True</td>\n",
       "    </tr>\n",
       "    <tr>\n",
       "      <th>40624</th>\n",
       "      <td>70570298</td>\n",
       "      <td>KS**** booster teacher needed ASAP</td>\n",
       "      <td>Ealing</td>\n",
       "      <td>Capita Education</td>\n",
       "      <td>full_time</td>\n",
       "      <td>contract</td>\n",
       "      <td>Teaching Jobs</td>\n",
       "      <td>2012-11-09 15:00:00</td>\n",
       "      <td>2012-12-09 15:00:00</td>\n",
       "      <td>jobs.newstatesman.com</td>\n",
       "      <td>33000.0</td>\n",
       "      <td>True</td>\n",
       "    </tr>\n",
       "    <tr>\n",
       "      <th>46309</th>\n",
       "      <td>71216010</td>\n",
       "      <td>AWARDS PROJECT OFFICER</td>\n",
       "      <td>Bedford</td>\n",
       "      <td>BlueTownOnline.co.uk</td>\n",
       "      <td>full_time</td>\n",
       "      <td>non_specificed</td>\n",
       "      <td>Sales Jobs</td>\n",
       "      <td>2012-03-07 00:00:00</td>\n",
       "      <td>2012-06-05 00:00:00</td>\n",
       "      <td>careerbuilder.com</td>\n",
       "      <td>30000.0</td>\n",
       "      <td>True</td>\n",
       "    </tr>\n",
       "    <tr>\n",
       "      <th>46366</th>\n",
       "      <td>71213560</td>\n",
       "      <td>Senior Sales/Sales Executive</td>\n",
       "      <td>Guildford</td>\n",
       "      <td>BMS Recruitment</td>\n",
       "      <td>full_time</td>\n",
       "      <td>non_specificed</td>\n",
       "      <td>Sales Jobs</td>\n",
       "      <td>2012-08-10 00:00:00</td>\n",
       "      <td>2012-09-09 00:00:00</td>\n",
       "      <td>careerbuilder.com</td>\n",
       "      <td>50000.0</td>\n",
       "      <td>True</td>\n",
       "    </tr>\n",
       "  </tbody>\n",
       "</table>\n",
       "</div>"
      ],
      "text/plain": [
       "             ID                               Title      Location  \\\n",
       "16414  67382472      Risk Platforms Project Manager        London   \n",
       "40287  67098385               Lead Internal Auditor  Bedfordshire   \n",
       "40624  70570298  KS**** booster teacher needed ASAP        Ealing   \n",
       "46309  71216010              AWARDS PROJECT OFFICER       Bedford   \n",
       "46366  71213560        Senior Sales/Sales Executive     Guildford   \n",
       "\n",
       "                                 Company    ContractType    ContractTime  \\\n",
       "16414         Investigo Change Solutions  non_specificed  non_specificed   \n",
       "40287  Randstad Financial & Professional       full_time       permanent   \n",
       "40624                   Capita Education       full_time        contract   \n",
       "46309               BlueTownOnline.co.uk       full_time  non_specificed   \n",
       "46366                    BMS Recruitment       full_time  non_specificed   \n",
       "\n",
       "                        Category            OpenDate           CloseDate  \\\n",
       "16414  Accounting & Finance Jobs 2013-04-18 12:00:00 2013-05-02 12:00:00   \n",
       "40287  Accounting & Finance Jobs 2013-01-15 15:00:00 2013-03-16 15:00:00   \n",
       "40624              Teaching Jobs 2012-11-09 15:00:00 2012-12-09 15:00:00   \n",
       "46309                 Sales Jobs 2012-03-07 00:00:00 2012-06-05 00:00:00   \n",
       "46366                 Sales Jobs 2012-08-10 00:00:00 2012-09-09 00:00:00   \n",
       "\n",
       "                  SourceName   Salary  violated  \n",
       "16414      eFinancialCareers  60000.0      True  \n",
       "40287                GAAPweb  55000.0      True  \n",
       "40624  jobs.newstatesman.com  33000.0      True  \n",
       "46309      careerbuilder.com  30000.0      True  \n",
       "46366      careerbuilder.com  50000.0      True  "
      ]
     },
     "execution_count": 120,
     "metadata": {},
     "output_type": "execute_result"
    }
   ],
   "source": [
    "# index of error\n",
    "indices = df[df['violated']].index\n",
    "\n",
    "\n",
    "#report error for Opendate\n",
    "for i in indices:\n",
    "    updateErlist(i, df.loc[i, 'ID'], 'OpenDate',df.loc[i, 'OpenDate'], df.loc[i, 'CloseDate'], 'Violations of the Integrity constraint', 'swap to closedate value')\n",
    "\n",
    "    \n",
    "#report error for Closedate\n",
    "for i in indices:\n",
    "    updateErlist(i, df.loc[i, 'ID'], 'CloseDate',df.loc[i, 'CloseDate'], df.loc[i, 'OpenDate'], 'Violations of the Integrity constraint', 'swap to opendate value')\n",
    "\n",
    "# swap Opendate and CloseDate for each other\n",
    "for i in indices:\n",
    "    openDate = df.loc[i, 'OpenDate']\n",
    "    df.loc[i, 'OpenDate'] = df.loc[i,'CloseDate']\n",
    "    df.loc[i, 'CloseDate'] = openDate\n",
    "    \n",
    "# reasure data have been swapped \n",
    "df[df['violated']]"
   ]
  },
  {
   "cell_type": "code",
   "execution_count": 121,
   "metadata": {},
   "outputs": [],
   "source": [
    "# drop violated column\n",
    "df.drop('violated', axis=1, inplace=True)"
   ]
  },
  {
   "cell_type": "markdown",
   "metadata": {},
   "source": [
    "##### 2.11. Source Name"
   ]
  },
  {
   "cell_type": "code",
   "execution_count": 122,
   "metadata": {},
   "outputs": [
    {
     "data": {
      "text/plain": [
       "3desk.com                 8\n",
       "legalprospects.com        8\n",
       "ncejobs.co.uk             8\n",
       "jobsinsocialwork.co.uk    6\n",
       "wikijob.co.uk             6\n",
       "cardandpaymentjobs.com    6\n",
       "workthing.com             4\n",
       "scotsman.com              4\n",
       "jobs.gponline.com         3\n",
       "TotallyExec               2\n",
       "thegraduate.co.uk         1\n",
       "grb.uk.com                1\n",
       "hsjjobs.com               1\n",
       "cvjobstore.com            1\n",
       "Name: SourceName, dtype: int64"
      ]
     },
     "execution_count": 122,
     "metadata": {},
     "output_type": "execute_result"
    }
   ],
   "source": [
    "source = df.SourceName.value_counts()\n",
    "source[source <9]"
   ]
  },
  {
   "cell_type": "code",
   "execution_count": 123,
   "metadata": {},
   "outputs": [
    {
     "name": "stdout",
     "output_type": "stream",
     "text": [
      "no missing value in Source Name\n"
     ]
    },
    {
     "data": {
      "text/plain": [
       "[]    50693\n",
       "Name: SourceName, dtype: int64"
      ]
     },
     "execution_count": 123,
     "metadata": {},
     "output_type": "execute_result"
    }
   ],
   "source": [
    "print('no missing value in Source Name')\n",
    "df.SourceName.apply(lambda x: re.findall(r'^\\W+$|^\\d+$', x)).astype('str').value_counts()"
   ]
  },
  {
   "cell_type": "markdown",
   "metadata": {},
   "source": [
    "......"
   ]
  },
  {
   "cell_type": "markdown",
   "metadata": {},
   "source": [
    "## Saving data\n"
   ]
  },
  {
   "cell_type": "code",
   "execution_count": 124,
   "metadata": {},
   "outputs": [],
   "source": [
    "# organize the other of columns\n",
    "df = df[['ID', 'Title', 'Location', 'Company', 'ContractType', 'ContractTime','Category',  'Salary','OpenDate', 'CloseDate', 'SourceName']]"
   ]
  },
  {
   "cell_type": "code",
   "execution_count": 125,
   "metadata": {},
   "outputs": [],
   "source": [
    "# code to save output data\n",
    "df.to_csv('S3828276_dataset1_solution.csv', index=False)\n",
    "erlist.to_csv('S3828276_errorlist.csv', index=False)"
   ]
  },
  {
   "cell_type": "markdown",
   "metadata": {},
   "source": [
    "## Summary\n"
   ]
  },
  {
   "cell_type": "markdown",
   "metadata": {},
   "source": [
    "There were 107 data sources and 50703 job ads in the data set<br>\n",
    "In task 1 and 2, infomation of each job ad were imported into a data frame.<br>\n",
    "The errors were reported and fixed according to the requirement.\n",
    "There were 10 outliers deteted and discarded.\n",
    "The cleaned data was exported into a csv file for further analysis\n"
   ]
  }
 ],
 "metadata": {
  "kernelspec": {
   "display_name": "Python 3",
   "language": "python",
   "name": "python3"
  },
  "language_info": {
   "codemirror_mode": {
    "name": "ipython",
    "version": 3
   },
   "file_extension": ".py",
   "mimetype": "text/x-python",
   "name": "python",
   "nbconvert_exporter": "python",
   "pygments_lexer": "ipython3",
   "version": "3.8.8"
  }
 },
 "nbformat": 4,
 "nbformat_minor": 1
}
